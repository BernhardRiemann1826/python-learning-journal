{
 "cells": [
  {
   "cell_type": "code",
   "execution_count": 157,
   "id": "6c98fd93-b9ba-4a2c-9717-a6d4debb6f16",
   "metadata": {},
   "outputs": [],
   "source": [
    "class Stack: # stack implementaion using list\n",
    "    def __init__(self, capacity):\n",
    "        self.stack = []\n",
    "        self.capacity = capacity\n",
    "    def push(self, data):\n",
    "        if self.isFull():\n",
    "            print(f'stack full')\n",
    "        else:\n",
    "            self.stack.append(data)\n",
    "    def pop(self):\n",
    "        if self.isEmpty():\n",
    "            print(f'stack empty')\n",
    "            return None\n",
    "        else:\n",
    "            return self.stack.pop()\n",
    "    def isEmpty(self):\n",
    "        return len(self.stack) == 0\n",
    "    def isFull(self):\n",
    "        return len(self.stack) >= self.capacity\n",
    "    def peek(self):\n",
    "        if self.isEmpty():\n",
    "            return None\n",
    "        return self.stack[-1]"
   ]
  },
  {
   "cell_type": "code",
   "execution_count": 158,
   "id": "8d260c77-4ece-4a08-89fe-ec4fb61e02e5",
   "metadata": {},
   "outputs": [],
   "source": [
    "class Queue: # queue implementaion using list\n",
    "    def __init__(self, capacity):\n",
    "        self.queue = []\n",
    "        self.capacity = capacity\n",
    "    def enque(self, data):\n",
    "        if self.isFull():\n",
    "            print(f'queue full')\n",
    "        else:\n",
    "            self.queue.append(data)\n",
    "    def deque(self):\n",
    "        if self.isEmpty():\n",
    "            print(f'queue empty')\n",
    "            return None\n",
    "        else:\n",
    "            return self.queue.pop(0)\n",
    "    def isEmpty(self):\n",
    "        return len(self.queue) == 0\n",
    "    def isFull(self):\n",
    "        return len(self.queue) >= self.capacity\n",
    "    def peek(self):\n",
    "        if self.isEmpty():\n",
    "            return None\n",
    "        return self.queue[0]"
   ]
  },
  {
   "cell_type": "code",
   "execution_count": 159,
   "id": "e1a8a7bb-03cc-4fa1-8294-f0347ad9cb9b",
   "metadata": {},
   "outputs": [],
   "source": [
    "import heapq\n",
    "class PriorityQueue: # stack implementaion using heapq\n",
    "    def __init__(self, capacity):\n",
    "        self.hqueue = []\n",
    "        self.capacity = capacity\n",
    "        self.seq = 0\n",
    "    def enque(self, data, priority):\n",
    "        if self.isFull():\n",
    "            print(f'queue full')\n",
    "        else: # seq is used to break priority ties\n",
    "            heapq.heappush(self.hqueue, (priority, self.seq, data))\n",
    "            self.seq += 1\n",
    "    def deque(self):\n",
    "        if self.isEmpty():\n",
    "            print(f'queue empty')\n",
    "            return None\n",
    "        else:\n",
    "            return heapq.heappop(self.hqueue)[2]\n",
    "    def isEmpty(self):\n",
    "        return len(self.hqueue) == 0\n",
    "    def isFull(self):\n",
    "        return len(self.hqueue) >= self.capacity\n",
    "    def peek(self):\n",
    "        if self.isEmpty():\n",
    "            return None\n",
    "        return self.hqueue[0][2]"
   ]
  },
  {
   "cell_type": "code",
   "execution_count": 160,
   "id": "e971c987-0105-452e-aed4-882441767496",
   "metadata": {},
   "outputs": [],
   "source": [
    "capacity = 10"
   ]
  },
  {
   "cell_type": "code",
   "execution_count": 161,
   "id": "49b829c4-7587-455e-a195-a950aabe2f71",
   "metadata": {},
   "outputs": [],
   "source": [
    "class ElevatorRide:\n",
    "    def __init__(self):\n",
    "        self.guests = Stack(capacity)\n",
    "        self.prompt = f'Boarding guest'\n",
    "    def step1(self, guest_name, _):\n",
    "        # wrapper for class method\n",
    "        self.board_guest(guest_name)\n",
    "    def step2(self):\n",
    "        # wrapper for class method\n",
    "        self.start_ride()\n",
    "    def step3(self):\n",
    "        # wrapper for class method\n",
    "        self.exit_ride()\n",
    "    def board_guest(self, guest_name):\n",
    "        self.guests.push(guest_name)\n",
    "    def start_ride(self):\n",
    "        print(f'Hello there, welcome aboard!')\n",
    "        print(f'Thanks for riding with us.')\n",
    "    def exit_ride(self):\n",
    "        print(f'Please exit in reverse order.')\n",
    "        while not self.guests.isEmpty():\n",
    "            print(f'See you next time, ' + self.guests.pop() + '.')"
   ]
  },
  {
   "cell_type": "code",
   "execution_count": 162,
   "id": "d4458070-c815-49f5-ae65-15a333057355",
   "metadata": {},
   "outputs": [],
   "source": [
    "class RollerCoasterRide:\n",
    "    def __init__(self):\n",
    "        self.guests = Queue(capacity)\n",
    "        self.prompt = f'Boarding guest'\n",
    "    def step1(self, guest_name, _):\n",
    "        # wrapper for class method\n",
    "        self.join_queue(guest_name)\n",
    "    def step2(self):\n",
    "        # wrapper for class method\n",
    "        self.start_ride()\n",
    "    def step3(self):\n",
    "        # wrapper for class method\n",
    "        self.exit_ride()\n",
    "    def join_queue(self, guest_name):\n",
    "        self.guests.enque(guest_name)\n",
    "    def start_ride(self):\n",
    "        print(f'The ride starts now. Enjoy!')\n",
    "        print(f'Touchdown! Earth feels good, doesn’t it?')\n",
    "    def exit_ride(self):\n",
    "        print('Please exit in the same order you entered.')\n",
    "        while not self.guests.isEmpty():\n",
    "            print(f'Congratulations, Survivor ' + self.guests.deque() + '.')"
   ]
  },
  {
   "cell_type": "code",
   "execution_count": 163,
   "id": "e944911f-7887-4c9b-bcc9-8ab06feefdad",
   "metadata": {},
   "outputs": [],
   "source": [
    "class VIPLine:\n",
    "    def __init__(self):\n",
    "        self.guests = PriorityQueue(capacity)\n",
    "        self.prompt = f'Enter guest name'\n",
    "        self.has_priority = True\n",
    "    def step1(self, guest_name, priority):\n",
    "        # wrapper for class method\n",
    "        self.add_guest(guest_name, priority)\n",
    "    def step2(self):\n",
    "        # wrapper for class method\n",
    "        self.start_ride()\n",
    "    def step3(self):\n",
    "        # wrapper for class method\n",
    "        pass\n",
    "    def add_guest(self, guest_name, priority):\n",
    "        self.guests.enque(guest_name, priority)\n",
    "    def start_ride(self):\n",
    "        print('Now boarding guests based on priority')\n",
    "        while not self.guests.isEmpty():\n",
    "            print(self.guests.deque())"
   ]
  },
  {
   "cell_type": "code",
   "execution_count": 164,
   "id": "d60e51a0-86bc-467b-a0f2-93791feb32ad",
   "metadata": {},
   "outputs": [],
   "source": [
    "def simulation(sim):\n",
    "    n = 0\n",
    "    print(f'\\nMax capacity: {capacity}')\n",
    "    while True:\n",
    "        try: # prompt user to enter guest names\n",
    "            name = input(sim.prompt + f' (<Enter> = Mary{n}, \\'q\\' to quit):')\n",
    "            assert name.replace(\" \", \"\").isalnum() or name == '', 'Alphanumerics or <Enter> please'\n",
    "            if name == 'q':\n",
    "                break\n",
    "            if name == '':\n",
    "                name = f'Mary{n}'\n",
    "            print(name)\n",
    "            priority = None\n",
    "            if hasattr(sim, 'has_priority'):\n",
    "                # if this is a priority queue, need to enter priority\n",
    "                while True:\n",
    "                    try:\n",
    "                        priority = int(input('  Guest priority: '))\n",
    "                        assert priority > 0\n",
    "                        break\n",
    "                    except (AssertionError, ValueError):\n",
    "                        print(f'Please enter a positive integer')\n",
    "            sim.step1(name, priority)\n",
    "            n += 1\n",
    "            if n >= capacity:\n",
    "                break\n",
    "        except AssertionError as msg:\n",
    "            print(msg)\n",
    "    sim.step2()\n",
    "    sim.step3()    \n",
    "    print('\\n')"
   ]
  },
  {
   "cell_type": "code",
   "execution_count": 165,
   "id": "12823283-806b-4e37-a142-2d41461cd1e5",
   "metadata": {},
   "outputs": [],
   "source": [
    "def elevator_ride():\n",
    "    ride = ElevatorRide()\n",
    "    simulation(ride)"
   ]
  },
  {
   "cell_type": "code",
   "execution_count": 166,
   "id": "12f29354-b400-410d-a209-c34fd9a18837",
   "metadata": {},
   "outputs": [],
   "source": [
    "def roller_coaster_ride():\n",
    "    ride = RollerCoasterRide()\n",
    "    simulation(ride)"
   ]
  },
  {
   "cell_type": "code",
   "execution_count": 167,
   "id": "bac9a3b7-5f0b-4327-9c57-2aac03c12ac6",
   "metadata": {},
   "outputs": [],
   "source": [
    "def VIP_line():\n",
    "    vip = VIPLine()\n",
    "    simulation(vip)"
   ]
  },
  {
   "cell_type": "code",
   "execution_count": 168,
   "id": "cb7c52d6-d5c4-461f-9aac-23192e51d2d6",
   "metadata": {},
   "outputs": [],
   "source": [
    "def invalid_choice():\n",
    "    print('Invalid choice!\\n')"
   ]
  },
  {
   "cell_type": "code",
   "execution_count": null,
   "id": "27572431-aaae-496b-a5eb-495e973a578c",
   "metadata": {},
   "outputs": [
    {
     "name": "stdout",
     "output_type": "stream",
     "text": [
      "1: Elevator ride\n",
      "2: Roller coaster ride\n",
      "3: VIP line\n",
      "q: Quit\n"
     ]
    },
    {
     "name": "stdin",
     "output_type": "stream",
     "text": [
      "Please choose a simulation: 1\n"
     ]
    },
    {
     "name": "stdout",
     "output_type": "stream",
     "text": [
      "\n",
      "Max capacity: 10\n"
     ]
    },
    {
     "name": "stdin",
     "output_type": "stream",
     "text": [
      "Boarding guest (<Enter> = Mary0, 'q' to quit): \n"
     ]
    },
    {
     "name": "stdout",
     "output_type": "stream",
     "text": [
      "Mary0\n"
     ]
    },
    {
     "name": "stdin",
     "output_type": "stream",
     "text": [
      "Boarding guest (<Enter> = Mary1, 'q' to quit): \n"
     ]
    },
    {
     "name": "stdout",
     "output_type": "stream",
     "text": [
      "Mary1\n"
     ]
    },
    {
     "name": "stdin",
     "output_type": "stream",
     "text": [
      "Boarding guest (<Enter> = Mary2, 'q' to quit): \n"
     ]
    },
    {
     "name": "stdout",
     "output_type": "stream",
     "text": [
      "Mary2\n"
     ]
    },
    {
     "name": "stdin",
     "output_type": "stream",
     "text": [
      "Boarding guest (<Enter> = Mary3, 'q' to quit): \n"
     ]
    },
    {
     "name": "stdout",
     "output_type": "stream",
     "text": [
      "Mary3\n"
     ]
    },
    {
     "name": "stdin",
     "output_type": "stream",
     "text": [
      "Boarding guest (<Enter> = Mary4, 'q' to quit): \n"
     ]
    },
    {
     "name": "stdout",
     "output_type": "stream",
     "text": [
      "Mary4\n"
     ]
    },
    {
     "name": "stdin",
     "output_type": "stream",
     "text": [
      "Boarding guest (<Enter> = Mary5, 'q' to quit): \n"
     ]
    },
    {
     "name": "stdout",
     "output_type": "stream",
     "text": [
      "Mary5\n"
     ]
    },
    {
     "name": "stdin",
     "output_type": "stream",
     "text": [
      "Boarding guest (<Enter> = Mary6, 'q' to quit): \n"
     ]
    },
    {
     "name": "stdout",
     "output_type": "stream",
     "text": [
      "Mary6\n"
     ]
    },
    {
     "name": "stdin",
     "output_type": "stream",
     "text": [
      "Boarding guest (<Enter> = Mary7, 'q' to quit): \n"
     ]
    },
    {
     "name": "stdout",
     "output_type": "stream",
     "text": [
      "Mary7\n"
     ]
    },
    {
     "name": "stdin",
     "output_type": "stream",
     "text": [
      "Boarding guest (<Enter> = Mary8, 'q' to quit): \n"
     ]
    },
    {
     "name": "stdout",
     "output_type": "stream",
     "text": [
      "Mary8\n"
     ]
    },
    {
     "name": "stdin",
     "output_type": "stream",
     "text": [
      "Boarding guest (<Enter> = Mary9, 'q' to quit): \n"
     ]
    },
    {
     "name": "stdout",
     "output_type": "stream",
     "text": [
      "Mary9\n",
      "Hello there, welcome aboard!\n",
      "Thanks for riding with us.\n",
      "Please exit in reverse order.\n",
      "See you next time, Mary9.\n",
      "See you next time, Mary8.\n",
      "See you next time, Mary7.\n",
      "See you next time, Mary6.\n",
      "See you next time, Mary5.\n",
      "See you next time, Mary4.\n",
      "See you next time, Mary3.\n",
      "See you next time, Mary2.\n",
      "See you next time, Mary1.\n",
      "See you next time, Mary0.\n",
      "\n",
      "\n",
      "1: Elevator ride\n",
      "2: Roller coaster ride\n",
      "3: VIP line\n",
      "q: Quit\n"
     ]
    },
    {
     "name": "stdin",
     "output_type": "stream",
     "text": [
      "Please choose a simulation: \n"
     ]
    },
    {
     "name": "stdout",
     "output_type": "stream",
     "text": [
      "Invalid choice!\n",
      "\n",
      "1: Elevator ride\n",
      "2: Roller coaster ride\n",
      "3: VIP line\n",
      "q: Quit\n"
     ]
    },
    {
     "name": "stdin",
     "output_type": "stream",
     "text": [
      "Please choose a simulation: 2\n"
     ]
    },
    {
     "name": "stdout",
     "output_type": "stream",
     "text": [
      "\n",
      "Max capacity: 10\n"
     ]
    },
    {
     "name": "stdin",
     "output_type": "stream",
     "text": [
      "Boarding guest (<Enter> = Mary0, 'q' to quit): \n"
     ]
    },
    {
     "name": "stdout",
     "output_type": "stream",
     "text": [
      "Mary0\n"
     ]
    },
    {
     "name": "stdin",
     "output_type": "stream",
     "text": [
      "Boarding guest (<Enter> = Mary1, 'q' to quit): \n"
     ]
    },
    {
     "name": "stdout",
     "output_type": "stream",
     "text": [
      "Mary1\n"
     ]
    },
    {
     "name": "stdin",
     "output_type": "stream",
     "text": [
      "Boarding guest (<Enter> = Mary2, 'q' to quit): \n"
     ]
    },
    {
     "name": "stdout",
     "output_type": "stream",
     "text": [
      "Mary2\n"
     ]
    },
    {
     "name": "stdin",
     "output_type": "stream",
     "text": [
      "Boarding guest (<Enter> = Mary3, 'q' to quit): \n"
     ]
    },
    {
     "name": "stdout",
     "output_type": "stream",
     "text": [
      "Mary3\n"
     ]
    },
    {
     "name": "stdin",
     "output_type": "stream",
     "text": [
      "Boarding guest (<Enter> = Mary4, 'q' to quit): \n"
     ]
    },
    {
     "name": "stdout",
     "output_type": "stream",
     "text": [
      "Mary4\n"
     ]
    },
    {
     "name": "stdin",
     "output_type": "stream",
     "text": [
      "Boarding guest (<Enter> = Mary5, 'q' to quit): \n"
     ]
    },
    {
     "name": "stdout",
     "output_type": "stream",
     "text": [
      "Mary5\n"
     ]
    },
    {
     "name": "stdin",
     "output_type": "stream",
     "text": [
      "Boarding guest (<Enter> = Mary6, 'q' to quit): \n"
     ]
    },
    {
     "name": "stdout",
     "output_type": "stream",
     "text": [
      "Mary6\n"
     ]
    },
    {
     "name": "stdin",
     "output_type": "stream",
     "text": [
      "Boarding guest (<Enter> = Mary7, 'q' to quit): \n"
     ]
    },
    {
     "name": "stdout",
     "output_type": "stream",
     "text": [
      "Mary7\n"
     ]
    },
    {
     "name": "stdin",
     "output_type": "stream",
     "text": [
      "Boarding guest (<Enter> = Mary8, 'q' to quit): \n"
     ]
    },
    {
     "name": "stdout",
     "output_type": "stream",
     "text": [
      "Mary8\n"
     ]
    },
    {
     "name": "stdin",
     "output_type": "stream",
     "text": [
      "Boarding guest (<Enter> = Mary9, 'q' to quit): \n"
     ]
    },
    {
     "name": "stdout",
     "output_type": "stream",
     "text": [
      "Mary9\n",
      "The ride starts now. Enjoy!\n",
      "Touchdown! Earth feels good, doesn’t it?\n",
      "Please exit in the same order you entered.\n",
      "Congratulations, Survivor Mary0.\n",
      "Congratulations, Survivor Mary1.\n",
      "Congratulations, Survivor Mary2.\n",
      "Congratulations, Survivor Mary3.\n",
      "Congratulations, Survivor Mary4.\n",
      "Congratulations, Survivor Mary5.\n",
      "Congratulations, Survivor Mary6.\n",
      "Congratulations, Survivor Mary7.\n",
      "Congratulations, Survivor Mary8.\n",
      "Congratulations, Survivor Mary9.\n",
      "\n",
      "\n",
      "1: Elevator ride\n",
      "2: Roller coaster ride\n",
      "3: VIP line\n",
      "q: Quit\n"
     ]
    },
    {
     "name": "stdin",
     "output_type": "stream",
     "text": [
      "Please choose a simulation: \n"
     ]
    },
    {
     "name": "stdout",
     "output_type": "stream",
     "text": [
      "Invalid choice!\n",
      "\n",
      "1: Elevator ride\n",
      "2: Roller coaster ride\n",
      "3: VIP line\n",
      "q: Quit\n"
     ]
    },
    {
     "name": "stdin",
     "output_type": "stream",
     "text": [
      "Please choose a simulation: 3\n"
     ]
    },
    {
     "name": "stdout",
     "output_type": "stream",
     "text": [
      "\n",
      "Max capacity: 10\n"
     ]
    },
    {
     "name": "stdin",
     "output_type": "stream",
     "text": [
      "Enter guest name (<Enter> = Mary0, 'q' to quit): \n"
     ]
    },
    {
     "name": "stdout",
     "output_type": "stream",
     "text": [
      "Mary0\n"
     ]
    },
    {
     "name": "stdin",
     "output_type": "stream",
     "text": [
      "  Guest priority:  4\n",
      "Enter guest name (<Enter> = Mary1, 'q' to quit): \n"
     ]
    },
    {
     "name": "stdout",
     "output_type": "stream",
     "text": [
      "Mary1\n"
     ]
    },
    {
     "name": "stdin",
     "output_type": "stream",
     "text": [
      "  Guest priority:  2\n",
      "Enter guest name (<Enter> = Mary2, 'q' to quit): \n"
     ]
    },
    {
     "name": "stdout",
     "output_type": "stream",
     "text": [
      "Mary2\n"
     ]
    },
    {
     "name": "stdin",
     "output_type": "stream",
     "text": [
      "  Guest priority:  6\n",
      "Enter guest name (<Enter> = Mary3, 'q' to quit): \n"
     ]
    },
    {
     "name": "stdout",
     "output_type": "stream",
     "text": [
      "Mary3\n"
     ]
    },
    {
     "name": "stdin",
     "output_type": "stream",
     "text": [
      "  Guest priority:  2\n"
     ]
    }
   ],
   "source": [
    "menu = {'1': ('Elevator ride', elevator_ride),\n",
    "        '2': ('Roller coaster ride', roller_coaster_ride),\n",
    "        '3': ('VIP line', VIP_line),\n",
    "        'q': ('Quit', None)\n",
    "       }\n",
    "while True:\n",
    "    for m in menu: #display menu\n",
    "        print(f'{m}: {menu[m][0]}')\n",
    "    choice = input(f'Please choose a simulation:')\n",
    "    if choice == 'q':\n",
    "        break\n",
    "    # if valid choice, call the function stored in the 2nd element of the tuple\n",
    "    # if invalid choice, call invalid_choice()\n",
    "    menu.get(choice, (None, invalid_choice))[1]()"
   ]
  },
  {
   "cell_type": "code",
   "execution_count": null,
   "id": "3b53c38b-a516-48ca-a293-9657658b553f",
   "metadata": {},
   "outputs": [],
   "source": []
  }
 ],
 "metadata": {
  "kernelspec": {
   "display_name": "Python 3 (ipykernel)",
   "language": "python",
   "name": "python3"
  },
  "language_info": {
   "codemirror_mode": {
    "name": "ipython",
    "version": 3
   },
   "file_extension": ".py",
   "mimetype": "text/x-python",
   "name": "python",
   "nbconvert_exporter": "python",
   "pygments_lexer": "ipython3",
   "version": "3.12.7"
  }
 },
 "nbformat": 4,
 "nbformat_minor": 5
}
