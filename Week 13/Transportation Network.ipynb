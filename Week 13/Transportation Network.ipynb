{
 "cells": [
  {
   "cell_type": "code",
   "execution_count": 129,
   "id": "e05e49e6-6acf-43f2-a6d7-2efc8bf2065e",
   "metadata": {},
   "outputs": [],
   "source": [
    "import random"
   ]
  },
  {
   "cell_type": "code",
   "execution_count": 130,
   "id": "80f73d85-0dd1-4b79-b737-5101f0c5fdef",
   "metadata": {},
   "outputs": [],
   "source": [
    "class DirectedGraph:\n",
    "    def __init__(self, num_vertices, num_edges, vertex_name):\n",
    "        self.adj_list = {} # adjacency list\n",
    "        self.__num_vertices = num_vertices\n",
    "        self.__num_edges = num_edges\n",
    "        self.__vertex_name = vertex_name\n",
    "        self.__populate_vertices()\n",
    "        self.__populate_edges()\n",
    "    def __str__(self):\n",
    "        return '\\n'.join([f'{vertex}: {adjacents}' for vertex, adjacents in self.adj_list.items()])\n",
    "    def add_vertex(self, vertex):\n",
    "        if vertex not in self.adj_list:\n",
    "            self.adj_list[vertex] = []\n",
    "            return f'{vertex} added'\n",
    "        else:\n",
    "            return f'{vertex} was previously added'\n",
    "    def add_edge(self, start, end):\n",
    "        if start not in self.adj_list or end not in self.adj_list:\n",
    "            return f'{start} or {end} doesn\\'t exist'\n",
    "        if end in self.adj_list[start]:\n",
    "            return f'Road from {start} to {end} already exists'\n",
    "        self.adj_list[start].append(end)\n",
    "        return f'Road from {start} to {end} added'\n",
    "    def bfs(self, start):\n",
    "        if start not in self.adj_list:\n",
    "            return f'{start} does not exist'\n",
    "        visited = set() # store nodes already visited for membership checking purpose\n",
    "        to_visit = {start: None} # dict is ordered starting 3.7. Here keys are the nodes to visit, values are not used. dict is used because membership checking is O(1)\n",
    "        route = [] # nodes visited\n",
    "        while to_visit: # acting like a queue\n",
    "            visiting = next(iter(to_visit)) #dequeue\n",
    "            del to_visit[visiting]\n",
    "            if visiting in visited: # already visited, skipping\n",
    "                continue\n",
    "            visited.add(visiting)\n",
    "            route.append(visiting)\n",
    "            for v in self.adj_list[visiting]:\n",
    "                if v not in visited and v not in to_visit:\n",
    "                    to_visit[v] = None\n",
    "        return f'BFS visited {route}'\n",
    "    def dfs(self, start):\n",
    "        if start not in self.adj_list:\n",
    "            return f'{start} does not exist'\n",
    "        visited = set()\n",
    "        to_visit = [start]\n",
    "        route = []\n",
    "        while to_visit: # acting like a stack\n",
    "            visiting = to_visit.pop()\n",
    "            if visiting in visited: # already visited, skipping\n",
    "                continue\n",
    "            visited.add(visiting)\n",
    "            route.append(visiting)\n",
    "            to_visit.extend([v for v in self.adj_list[visiting] if v not in visited])\n",
    "        return f'DFS visited {route}'\n",
    "    def bfs_sp(self, start, end):\n",
    "        if start not in self.adj_list or end not in self.adj_list:\n",
    "            return f'{start} or {end} does not exist'\n",
    "        visited = set()\n",
    "        to_visit = {start: []}\n",
    "        while to_visit: # acting like a queue\n",
    "            visiting = next(iter(to_visit))\n",
    "            path = to_visit[visiting] # retrieve ancestor nodes\n",
    "            del to_visit[visiting]\n",
    "            if visiting in visited:\n",
    "                continue\n",
    "            visited.add(visiting)\n",
    "            path.append(visiting) # add current node to ancestor list\n",
    "            for v in self.adj_list[visiting]:\n",
    "                if v == end: # goal node found\n",
    "                    return f'Shortest path from {start} to {end} is {path+[v]}'\n",
    "                if v not in visited and v not in to_visit:\n",
    "                    to_visit[v] = path.copy() # keep a copy of all ancestor nodes\n",
    "        return f'No route exists from {start} to {end}'\n",
    "    def __populate_vertices(self):\n",
    "        for i in range(self.__num_vertices):\n",
    "            self.add_vertex(f'{self.__vertex_name}{str(i)}')\n",
    "    def __populate_edges(self):\n",
    "        seen = set()\n",
    "        while len(seen) < self.__num_edges:\n",
    "            n1 = random.randint(0, self.__num_vertices-1)\n",
    "            n2 = random.randint(0, self.__num_vertices-1)\n",
    "            if (n1, n2) not in seen:\n",
    "                self.add_edge(f'{self.__vertex_name}{str(n1)}', f'{self.__vertex_name}{str(n2)}')\n",
    "                seen.add((n1, n2))"
   ]
  },
  {
   "cell_type": "code",
   "execution_count": 131,
   "id": "882768d4-198b-43db-a370-f62a1c289ae8",
   "metadata": {},
   "outputs": [],
   "source": [
    "def get_input(*prompts):\n",
    "    user_inputs = []\n",
    "    for prompt in prompts:\n",
    "        while True:\n",
    "            try:\n",
    "                user_input = input(f'Enter {prompt}:')\n",
    "                assert user_input.replace(\" \", \"\").isalnum(), 'Alphanumerics please'\n",
    "                user_inputs.append(user_input)\n",
    "                break\n",
    "            except AssertionError as msg:\n",
    "                print(msg)\n",
    "    return user_inputs if len(user_inputs) > 1 else user_inputs[0]"
   ]
  },
  {
   "cell_type": "code",
   "execution_count": 132,
   "id": "34ce4526-39f4-4c54-ac2d-a11fb2ff2a2c",
   "metadata": {},
   "outputs": [],
   "source": [
    "def transportation_network_simulation():\n",
    "    print('Building transportation network')\n",
    "    while True:\n",
    "        try:\n",
    "            l = input(f'Number of landmarks (<Enter> = {Num_Landmarks}): ')\n",
    "            l = Num_Landmarks if l == '' else int(l)\n",
    "            if l <= 0: # positive integer validation\n",
    "                raise ValueError\n",
    "            break\n",
    "        except:\n",
    "            print('Please enter a positive integer.')\n",
    "    while True:\n",
    "        try:\n",
    "            r = input(f'Number of roads (<Enter> = {Num_Roads}): ')\n",
    "            r = Num_Roads if r == '' else int(r)\n",
    "            if r <= 0: # positive integer validation\n",
    "                raise ValueError\n",
    "            break\n",
    "        except:\n",
    "            print('Please enter a positive integer.')\n",
    "    g = DirectedGraph(l, r, node_str)\n",
    "    menu = {'1': ('Add Landmark', lambda g: g.add_vertex(get_input('landmark name'))),\n",
    "            '2': ('Add Road', lambda g: g.add_edge(*get_input('starting landmark', 'ending landmark'))),\n",
    "            '3': ('BFS', lambda g: g.bfs(get_input('starting landmark'))),\n",
    "            '4': ('DFS', lambda g: g.dfs(get_input('starting landmark'))),\n",
    "            '5': ('Find Shortest Path', lambda g: g.bfs_sp(*get_input('starting landmark', 'ending landmark'))),\n",
    "            'p': ('Print Network',),\n",
    "            'q': ('Quit',)\n",
    "           }\n",
    "    while True:\n",
    "        for k, v in menu.items():\n",
    "            print(f'{k}: {v[0]}')\n",
    "        choice = input(f'Please select an option: ')\n",
    "        if choice == 'q':\n",
    "            break\n",
    "        if choice == 'p':\n",
    "            print(g)\n",
    "            continue\n",
    "        if choice in menu:\n",
    "            print(menu[choice][1](g))"
   ]
  },
  {
   "cell_type": "code",
   "execution_count": 133,
   "id": "8af522b8-cd4b-497b-a9d7-caa108aec838",
   "metadata": {
    "scrolled": true
   },
   "outputs": [
    {
     "name": "stdout",
     "output_type": "stream",
     "text": [
      "Building transportation network\n"
     ]
    },
    {
     "name": "stdin",
     "output_type": "stream",
     "text": [
      "Number of landmarks (<Enter> = 10):  \n",
      "Number of roads (<Enter> = 15):  \n"
     ]
    },
    {
     "name": "stdout",
     "output_type": "stream",
     "text": [
      "1: Add Landmark\n",
      "2: Add Road\n",
      "3: BFS\n",
      "4: DFS\n",
      "5: Find Shortest Path\n",
      "p: Print Network\n",
      "q: Quit\n"
     ]
    },
    {
     "name": "stdin",
     "output_type": "stream",
     "text": [
      "Please select an option:  1\n",
      "Enter landmark name: Landmark100\n"
     ]
    },
    {
     "name": "stdout",
     "output_type": "stream",
     "text": [
      "Landmark100 added\n",
      "1: Add Landmark\n",
      "2: Add Road\n",
      "3: BFS\n",
      "4: DFS\n",
      "5: Find Shortest Path\n",
      "p: Print Network\n",
      "q: Quit\n"
     ]
    },
    {
     "name": "stdin",
     "output_type": "stream",
     "text": [
      "Please select an option:  2\n",
      "Enter starting landmark: Landmark1\n",
      "Enter ending landmark: Landmark8\n"
     ]
    },
    {
     "name": "stdout",
     "output_type": "stream",
     "text": [
      "Road from Landmark1 to Landmark8 added\n",
      "1: Add Landmark\n",
      "2: Add Road\n",
      "3: BFS\n",
      "4: DFS\n",
      "5: Find Shortest Path\n",
      "p: Print Network\n",
      "q: Quit\n"
     ]
    },
    {
     "name": "stdin",
     "output_type": "stream",
     "text": [
      "Please select an option:  3\n",
      "Enter starting landmark: Landmark1\n"
     ]
    },
    {
     "name": "stdout",
     "output_type": "stream",
     "text": [
      "BFS visited ['Landmark1', 'Landmark6', 'Landmark8', 'Landmark5', 'Landmark2', 'Landmark3', 'Landmark7', 'Landmark4', 'Landmark0']\n",
      "1: Add Landmark\n",
      "2: Add Road\n",
      "3: BFS\n",
      "4: DFS\n",
      "5: Find Shortest Path\n",
      "p: Print Network\n",
      "q: Quit\n"
     ]
    },
    {
     "name": "stdin",
     "output_type": "stream",
     "text": [
      "Please select an option:  4\n",
      "Enter starting landmark: Landmark1\n"
     ]
    },
    {
     "name": "stdout",
     "output_type": "stream",
     "text": [
      "DFS visited ['Landmark1', 'Landmark8', 'Landmark7', 'Landmark6', 'Landmark2', 'Landmark5', 'Landmark0', 'Landmark4', 'Landmark3']\n",
      "1: Add Landmark\n",
      "2: Add Road\n",
      "3: BFS\n",
      "4: DFS\n",
      "5: Find Shortest Path\n",
      "p: Print Network\n",
      "q: Quit\n"
     ]
    },
    {
     "name": "stdin",
     "output_type": "stream",
     "text": [
      "Please select an option:  5\n",
      "Enter starting landmark: Landmark1\n",
      "Enter ending landmark: Landmark5\n"
     ]
    },
    {
     "name": "stdout",
     "output_type": "stream",
     "text": [
      "Shortest path from Landmark1 to Landmark5 is ['Landmark1', 'Landmark6', 'Landmark5']\n",
      "1: Add Landmark\n",
      "2: Add Road\n",
      "3: BFS\n",
      "4: DFS\n",
      "5: Find Shortest Path\n",
      "p: Print Network\n",
      "q: Quit\n"
     ]
    },
    {
     "name": "stdin",
     "output_type": "stream",
     "text": [
      "Please select an option:  p\n"
     ]
    },
    {
     "name": "stdout",
     "output_type": "stream",
     "text": [
      "Landmark0: ['Landmark2']\n",
      "Landmark1: ['Landmark6', 'Landmark8']\n",
      "Landmark2: ['Landmark6']\n",
      "Landmark3: ['Landmark6']\n",
      "Landmark4: ['Landmark0']\n",
      "Landmark5: ['Landmark4', 'Landmark0']\n",
      "Landmark6: ['Landmark5', 'Landmark6', 'Landmark2']\n",
      "Landmark7: ['Landmark7', 'Landmark6']\n",
      "Landmark8: ['Landmark3', 'Landmark7']\n",
      "Landmark9: ['Landmark2']\n",
      "Landmark100: []\n",
      "1: Add Landmark\n",
      "2: Add Road\n",
      "3: BFS\n",
      "4: DFS\n",
      "5: Find Shortest Path\n",
      "p: Print Network\n",
      "q: Quit\n"
     ]
    },
    {
     "name": "stdin",
     "output_type": "stream",
     "text": [
      "Please select an option:  q\n"
     ]
    }
   ],
   "source": [
    "node_str = 'Landmark'\n",
    "Num_Landmarks = 10\n",
    "Num_Roads = 15\n",
    "transportation_network_simulation()"
   ]
  },
  {
   "cell_type": "markdown",
   "id": "abf31198-2c99-4aab-8f35-d518cdf06ec3",
   "metadata": {},
   "source": [
    "BFS visits all nodes at the same level before going deeper by using a queue data structure to keep track of the nodes to visit. It was used to find the shortest path between two landmarks as this transpotation netowrk corresponds to an unweighted graph. BFS is preferred when finding the shortest route to a hospital or a delivery address.<\\n>\n",
    "DFS visits all nodes along a path as deep as possible before backtracking by using a stack data structure to keep track of the nodes to visit. It is preferred when the goal is to find the paths of all reachable landmarks from a lardmark."
   ]
  },
  {
   "cell_type": "code",
   "execution_count": null,
   "id": "0675cf29-53d7-4fab-aa45-6b29b6efcffc",
   "metadata": {},
   "outputs": [],
   "source": []
  }
 ],
 "metadata": {
  "kernelspec": {
   "display_name": "Python 3 (ipykernel)",
   "language": "python",
   "name": "python3"
  },
  "language_info": {
   "codemirror_mode": {
    "name": "ipython",
    "version": 3
   },
   "file_extension": ".py",
   "mimetype": "text/x-python",
   "name": "python",
   "nbconvert_exporter": "python",
   "pygments_lexer": "ipython3",
   "version": "3.12.7"
  }
 },
 "nbformat": 4,
 "nbformat_minor": 5
}
