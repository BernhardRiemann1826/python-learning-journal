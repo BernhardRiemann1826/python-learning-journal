{
 "cells": [
  {
   "cell_type": "code",
   "execution_count": 441,
   "id": "802fc4fc-1e04-4eec-b00e-7f329541fb49",
   "metadata": {},
   "outputs": [],
   "source": [
    "import re\n",
    "pattern_alph = r'[a-zA-Z]+'"
   ]
  },
  {
   "cell_type": "code",
   "execution_count": 442,
   "id": "1ed880c7-b0d6-4257-9f8a-2c597471f39c",
   "metadata": {},
   "outputs": [],
   "source": [
    "class AVLNode:\n",
    "    def __init__(self, data):\n",
    "        self.data = data\n",
    "        self.left = None\n",
    "        self.right = None\n",
    "        self.height = 0\n",
    "    def __str__(self):\n",
    "        # print data and height (in red font) of the node\n",
    "        red_start = \"\\033[31m\"\n",
    "        reset_code = \"\\033[0m\"\n",
    "        return f'{self.data} {red_start}{self.height}{reset_code}'"
   ]
  },
  {
   "cell_type": "code",
   "execution_count": 443,
   "id": "9c6e98df-fef6-46ff-a8e0-55ecf40cf75e",
   "metadata": {},
   "outputs": [],
   "source": [
    "class AVLTree:\n",
    "    def __init__(self):\n",
    "        self.root = None\n",
    "    def __str__(self):\n",
    "        return AVLTree._inorder(self.root, 0)\n",
    "    @staticmethod\n",
    "    def _preorder(node, level):\n",
    "        if not node:\n",
    "            return ''\n",
    "        ret = f'{'\\t'*level}{node}({AVLTree._get_balance(node)})\\n'\n",
    "        ret += AVLTree._preorder(node.right, level+1)\n",
    "        ret += AVLTree._preorder(node.left, level+1)\n",
    "        return ret\n",
    "    @staticmethod\n",
    "    def _inorder(node, level):\n",
    "        if not node:\n",
    "            return ''\n",
    "        ret = AVLTree._inorder(node.right, level+1)\n",
    "        ret += f'{'\\t'*level}{node}({AVLTree._get_balance(node)})\\n'\n",
    "        ret += AVLTree._inorder(node.left, level+1)\n",
    "        return ret\n",
    "    @staticmethod\n",
    "    def _postorder(node, level):\n",
    "        if not node:\n",
    "            return ''\n",
    "        ret = AVLTree._postorder(node.right, level+1)\n",
    "        ret += AVLTree._postorder(node.left, level+1)\n",
    "        ret += f'{'\\t'*level}{node}({AVLTree._get_balance(node)})\\n'\n",
    "        return ret\n",
    "    @staticmethod\n",
    "    def _get_height(node):\n",
    "        # height of a Null node is -1\n",
    "        return -1 if not node else node.height\n",
    "    @staticmethod\n",
    "    def _get_balance(node):\n",
    "        # balance = height(left child) - height(right child)\n",
    "        return 0 if not node else AVLTree._get_height(node.left) - AVLTree._get_height(node.right)\n",
    "    @staticmethod\n",
    "    def _rebalance(node):\n",
    "        balance = AVLTree._get_balance(node)\n",
    "        if balance > 1: # left heavy\n",
    "            if AVLTree._get_balance(node.left) < 0:\n",
    "                # Left child is right heavy => LR rotation\n",
    "                node.left = AVLTree._left_rotate(node.left)\n",
    "            return AVLTree._right_rotate(node)\n",
    "        if balance < -1: # right heavy\n",
    "            if AVLTree._get_balance(node.right) > 0:\n",
    "                # right child is left heavy => RL rotation\n",
    "                node.right = AVLTree._right_rotate(node.right)\n",
    "            return AVLTree._left_rotate(node)\n",
    "        return node\n",
    "    @staticmethod\n",
    "    def _left_rotate(node):\n",
    "        new_root = node.right\n",
    "        node.right = new_root.left\n",
    "        new_root.left = node\n",
    "        node.height = 1 + max(AVLTree._get_height(node.left), AVLTree._get_height(node.right))\n",
    "        new_root.height = 1 + max(AVLTree._get_height(new_root.left), AVLTree._get_height(new_root.right))\n",
    "        return new_root\n",
    "    @staticmethod\n",
    "    def _right_rotate(node):\n",
    "        new_root = node.left\n",
    "        node.left = new_root.right\n",
    "        new_root.right = node\n",
    "        node.height = 1 + max(AVLTree._get_height(node.left), AVLTree._get_height(node.right))\n",
    "        new_root.height = 1 + max(AVLTree._get_height(new_root.left), AVLTree._get_height(new_root.right))\n",
    "        return new_root\n",
    "    @staticmethod\n",
    "    def _insert(node, data): # recursive function called by insert()\n",
    "        if not node:\n",
    "            return AVLNode(data)\n",
    "        if data == node.data: # no duplicates\n",
    "            return node\n",
    "        if data < node.data:\n",
    "            node.left = AVLTree._insert(node.left, data)\n",
    "        else:\n",
    "           node.right = AVLTree._insert(node.right, data)\n",
    "        node.height = 1 + max(AVLTree._get_height(node.left), AVLTree._get_height(node.right))\n",
    "        return AVLTree._rebalance(node)\n",
    "    @staticmethod\n",
    "    def _delete(node, data): # recursive function called by delete()\n",
    "        if not node:\n",
    "            return None\n",
    "        if node.data == data:\n",
    "            if not node.right and not node.left:\n",
    "                # leaf node => simply remove the node\n",
    "                return None\n",
    "            if not node.right:\n",
    "                # no right child => promote left child\n",
    "                return node.left\n",
    "            if not node.left:\n",
    "                # no left child => promote right child\n",
    "                return node.right\n",
    "            # both left and right children => promote the in-order successor\n",
    "            current = node.right\n",
    "            while current.left:\n",
    "                current = current.left\n",
    "            # copy the data from successor\n",
    "            node.data = current.data\n",
    "            # remove successor from right subtree\n",
    "            node.right = AVLTree._delete(node.right, current.data)\n",
    "        elif data < node.data:\n",
    "            node.left = AVLTree._delete(node.left, data)\n",
    "        else:\n",
    "            node.right = AVLTree._delete(node.right, data)\n",
    "        node.height = 1 + max(AVLTree._get_height(node.left), AVLTree._get_height(node.right))\n",
    "        return AVLTree._rebalance(node)\n",
    "    @staticmethod\n",
    "    def _search(node, data): # recursive function called by search()\n",
    "        if not node:\n",
    "            return False\n",
    "        if node.data == data:\n",
    "            return True\n",
    "        if data < node.data:\n",
    "            return AVLTree._search(node.left, data)\n",
    "        return AVLTree._search(node.right, data)\n",
    "    def insert(self, data):\n",
    "        self.root = AVLTree._insert(self.root, data)\n",
    "    def delete(self, data):\n",
    "        self.root = AVLTree._delete(self.root, data)\n",
    "    def search(self, data):\n",
    "        return AVLTree._search(self.root, data)\n",
    "    def to_string(self, order='Inorder'):\n",
    "        if order == 'Preorder':\n",
    "            return AVLTree._preorder(self.root, 0)\n",
    "        if order == 'Inorder':\n",
    "            return AVLTree._inorder(self.root, 0)\n",
    "        if order == 'Postorder':\n",
    "            return AVLTree._postorder(self.root, 0)"
   ]
  },
  {
   "cell_type": "code",
   "execution_count": 444,
   "id": "3a32875f-3371-4af0-b6a1-cb6f34836e7c",
   "metadata": {},
   "outputs": [],
   "source": [
    "def invalid_op():\n",
    "    print('Please enter a valid selection')"
   ]
  },
  {
   "cell_type": "code",
   "execution_count": 445,
   "id": "4245e7a3-3ef7-4de9-9038-ad4af9f99294",
   "metadata": {},
   "outputs": [],
   "source": [
    "Filenames = {'training': 'training.txt',\n",
    "             'checking': 'testing.txt'\n",
    "            }"
   ]
  },
  {
   "cell_type": "code",
   "execution_count": 446,
   "id": "7ef99b71-939d-4264-bc02-a4d09fb3ba5c",
   "metadata": {},
   "outputs": [],
   "source": [
    "def enter_text(operation):\n",
    "    # Enter text from either command line or file\n",
    "    def read_prompt():\n",
    "        return input('Please enter text:')\n",
    "    def read_file():\n",
    "        file_name = input(f'Please enter file name (<Enter> = {Filenames[operation]}):')\n",
    "        file_name = file_name if file_name else Filenames[operation]\n",
    "        try:\n",
    "            with open(file_name, 'r') as f:\n",
    "                return f.read()\n",
    "        except FileNotFoundError:\n",
    "            print(f'Error: {file_name} not found')\n",
    "        except Exception as e:\n",
    "            print(f'An error occurred: {e}')\n",
    "        return ''\n",
    "    submenu = {'1': ('From command line', read_prompt),\n",
    "               '2': ('From file', read_file),\n",
    "              }\n",
    "    print(f'Please enter text for {operation}')\n",
    "    while True:\n",
    "        for k, v in submenu.items():\n",
    "            print(f'{k}: {v[0]}')\n",
    "        choice = input('Please make a selection: ')\n",
    "        if choice in submenu:\n",
    "            txt = submenu[choice][1]()\n",
    "            if txt.strip():\n",
    "                return txt\n",
    "            print('Please re-enter')\n",
    "            continue\n",
    "        invalid_op()"
   ]
  },
  {
   "cell_type": "code",
   "execution_count": 447,
   "id": "b5bea9e9-df75-48e1-b247-a94e1bbb2ae1",
   "metadata": {},
   "outputs": [],
   "source": [
    "def train_dict():\n",
    "    training_txt = enter_text('training')\n",
    "    for word in re.findall(pattern_alph, training_txt):\n",
    "        dictionary.insert(word.lower())"
   ]
  },
  {
   "cell_type": "code",
   "execution_count": 448,
   "id": "0939ad45-642e-4292-9590-cff771e15c53",
   "metadata": {},
   "outputs": [],
   "source": [
    "def remove_words():\n",
    "    while True:\n",
    "        words = input('List the words you want to remove, separated by spaces:')\n",
    "        if words.strip(): # Avoid empty string\n",
    "            for word in re.findall(pattern_alph, words):\n",
    "                dictionary.delete(word.lower())\n",
    "            break\n",
    "        print('No words entered.')"
   ]
  },
  {
   "cell_type": "code",
   "execution_count": 449,
   "id": "a6b04dbf-df1c-465f-a767-9e97c49f8514",
   "metadata": {},
   "outputs": [],
   "source": [
    "def display_dict():\n",
    "    submenu = {'1': 'Preorder',\n",
    "               '2': 'Inorder',\n",
    "               '3': 'Postorder'\n",
    "              }\n",
    "    while True:\n",
    "        for k, v in submenu.items():\n",
    "            print(f'{k}: {v}')\n",
    "        choice = input('Please select an order (<Enter> = Inorder): ')\n",
    "        choice = choice if choice else '2' # default to inorder\n",
    "        if choice in submenu:\n",
    "            print(dictionary.to_string(submenu[choice]))\n",
    "            break\n",
    "        invalid_op()"
   ]
  },
  {
   "cell_type": "code",
   "execution_count": 450,
   "id": "abe53365-0b3a-4490-8f59-c5baea0d25cf",
   "metadata": {},
   "outputs": [],
   "source": [
    "def check_spelling():\n",
    "    typos = set()\n",
    "    testing_txt = enter_text('checking')\n",
    "    for word in re.findall(pattern_alph, testing_txt):\n",
    "        if not dictionary.search(word.lower()):\n",
    "            typos.add(word)\n",
    "    print(f'Typos: {sorted(list(typos))}')"
   ]
  },
  {
   "cell_type": "code",
   "execution_count": 451,
   "id": "60d45436-5ea2-4870-99bd-238d0528697f",
   "metadata": {},
   "outputs": [],
   "source": [
    "def print_divider():\n",
    "    print('\"'*80)"
   ]
  },
  {
   "cell_type": "code",
   "execution_count": 452,
   "id": "f27d604e-6c8d-4c15-a40c-26ea5f565620",
   "metadata": {},
   "outputs": [],
   "source": [
    "def menu():\n",
    "    main_menu = {'1': ('Train dictionary', train_dict),\n",
    "                 '2': ('Remove words from dictionary', remove_words),\n",
    "                 '3': ('Show dictionary tree', display_dict),\n",
    "                 '4': ('Check spelling', check_spelling),\n",
    "                 'q': ('Quit', None)\n",
    "                }\n",
    "    while True:\n",
    "        for k, v in main_menu.items():\n",
    "            print(f'{k}: {v[0]}')\n",
    "        op = input(f'Please select an option: ')\n",
    "        print('\\n', end='')\n",
    "        if op == 'q':\n",
    "            break\n",
    "        main_menu.get(op, (None, invalid_op))[1]()\n",
    "        print_divider()"
   ]
  },
  {
   "cell_type": "code",
   "execution_count": null,
   "id": "7d1320b8-3634-412f-9911-1242b29e151a",
   "metadata": {
    "scrolled": true
   },
   "outputs": [
    {
     "name": "stdout",
     "output_type": "stream",
     "text": [
      "1: Train dictionary\n",
      "2: Remove words from dictionary\n",
      "3: Show dictionary tree\n",
      "4: Check spelling\n",
      "q: Quit\n"
     ]
    },
    {
     "name": "stdin",
     "output_type": "stream",
     "text": [
      "Please select an option:  1\n"
     ]
    },
    {
     "name": "stdout",
     "output_type": "stream",
     "text": [
      "\n",
      "Please enter text for training\n",
      "1: From command line\n",
      "2: From file\n"
     ]
    },
    {
     "name": "stdin",
     "output_type": "stream",
     "text": [
      "Please make a selection:  2\n",
      "Please enter file name (<Enter> = training.txt): \n"
     ]
    },
    {
     "name": "stdout",
     "output_type": "stream",
     "text": [
      "\"\"\"\"\"\"\"\"\"\"\"\"\"\"\"\"\"\"\"\"\"\"\"\"\"\"\"\"\"\"\"\"\"\"\"\"\"\"\"\"\"\"\"\"\"\"\"\"\"\"\"\"\"\"\"\"\"\"\"\"\"\"\"\"\"\"\"\"\"\"\"\"\"\"\"\"\"\"\"\"\n",
      "1: Train dictionary\n",
      "2: Remove words from dictionary\n",
      "3: Show dictionary tree\n",
      "4: Check spelling\n",
      "q: Quit\n"
     ]
    },
    {
     "name": "stdin",
     "output_type": "stream",
     "text": [
      "Please select an option:  3\n"
     ]
    },
    {
     "name": "stdout",
     "output_type": "stream",
     "text": [
      "\n",
      "1: Preorder\n",
      "2: Inorder\n",
      "3: Postorder\n"
     ]
    },
    {
     "name": "stdin",
     "output_type": "stream",
     "text": [
      "Please select an order (<Enter> = Inorder):  \n"
     ]
    },
    {
     "name": "stdout",
     "output_type": "stream",
     "text": [
      "\t\t\t\twords \u001b[31m0\u001b[0m(0)\n",
      "\t\t\twith \u001b[31m1\u001b[0m(0)\n",
      "\t\t\t\tuses \u001b[31m0\u001b[0m(0)\n",
      "\t\ttree \u001b[31m3\u001b[0m(1)\n",
      "\t\t\t\t\tto \u001b[31m0\u001b[0m(0)\n",
      "\t\t\t\tthe \u001b[31m1\u001b[0m(-1)\n",
      "\t\t\tspell \u001b[31m2\u001b[0m(-1)\n",
      "\t\t\t\tset \u001b[31m0\u001b[0m(0)\n",
      "\trequired \u001b[31m4\u001b[0m(0)\n",
      "\t\t\t\t\tquality \u001b[31m0\u001b[0m(0)\n",
      "\t\t\t\tproper \u001b[31m1\u001b[0m(-1)\n",
      "\t\t\torder \u001b[31m2\u001b[0m(-1)\n",
      "\t\t\t\tmisspelled \u001b[31m0\u001b[0m(0)\n",
      "\t\tmethods \u001b[31m3\u001b[0m(-1)\n",
      "\t\t\t\tmaintains \u001b[31m0\u001b[0m(0)\n",
      "\t\t\tinorder \u001b[31m1\u001b[0m(0)\n",
      "\t\t\t\timplements \u001b[31m0\u001b[0m(0)\n",
      "implementation \u001b[31m5\u001b[0m(0)\n",
      "\t\t\t\tidentifies \u001b[31m0\u001b[0m(0)\n",
      "\t\t\thandles \u001b[31m1\u001b[0m(0)\n",
      "\t\t\t\tfunctionality \u001b[31m0\u001b[0m(0)\n",
      "\t\tefficiently \u001b[31m3\u001b[0m(1)\n",
      "\t\t\t\t\tduplicates \u001b[31m0\u001b[0m(0)\n",
      "\t\t\t\tdocumentation \u001b[31m1\u001b[0m(0)\n",
      "\t\t\t\t\tdisplays \u001b[31m0\u001b[0m(0)\n",
      "\t\t\tdisplay \u001b[31m2\u001b[0m(0)\n",
      "\t\t\t\tdictionary \u001b[31m1\u001b[0m(1)\n",
      "\t\t\t\t\tdemo \u001b[31m0\u001b[0m(0)\n",
      "\tcorrectly \u001b[31m4\u001b[0m(0)\n",
      "\t\t\t\t\tcode \u001b[31m0\u001b[0m(0)\n",
      "\t\t\t\tchecking \u001b[31m1\u001b[0m(0)\n",
      "\t\t\t\t\tbalance \u001b[31m0\u001b[0m(0)\n",
      "\t\t\tavoid \u001b[31m2\u001b[0m(-1)\n",
      "\t\t\t\tavl \u001b[31m0\u001b[0m(0)\n",
      "\t\tand \u001b[31m3\u001b[0m(0)\n",
      "\t\t\t\talphabetical \u001b[31m1\u001b[0m(1)\n",
      "\t\t\t\t\talong \u001b[31m0\u001b[0m(0)\n",
      "\t\t\tall \u001b[31m2\u001b[0m(-1)\n",
      "\t\t\t\ta \u001b[31m0\u001b[0m(0)\n",
      "\n",
      "\"\"\"\"\"\"\"\"\"\"\"\"\"\"\"\"\"\"\"\"\"\"\"\"\"\"\"\"\"\"\"\"\"\"\"\"\"\"\"\"\"\"\"\"\"\"\"\"\"\"\"\"\"\"\"\"\"\"\"\"\"\"\"\"\"\"\"\"\"\"\"\"\"\"\"\"\"\"\"\"\n",
      "1: Train dictionary\n",
      "2: Remove words from dictionary\n",
      "3: Show dictionary tree\n",
      "4: Check spelling\n",
      "q: Quit\n"
     ]
    }
   ],
   "source": [
    "dictionary = AVLTree()\n",
    "menu()"
   ]
  }
 ],
 "metadata": {
  "kernelspec": {
   "display_name": "Python 3 (ipykernel)",
   "language": "python",
   "name": "python3"
  },
  "language_info": {
   "codemirror_mode": {
    "name": "ipython",
    "version": 3
   },
   "file_extension": ".py",
   "mimetype": "text/x-python",
   "name": "python",
   "nbconvert_exporter": "python",
   "pygments_lexer": "ipython3",
   "version": "3.12.7"
  }
 },
 "nbformat": 4,
 "nbformat_minor": 5
}
