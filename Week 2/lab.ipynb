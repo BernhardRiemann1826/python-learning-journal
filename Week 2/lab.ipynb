{
 "cells": [
  {
   "cell_type": "code",
   "execution_count": 61,
   "id": "64602721-3c74-4ef9-aaa9-9c5f3f5c567c",
   "metadata": {},
   "outputs": [],
   "source": [
    "# Maze class \n",
    "class Maze:\n",
    "    #defaults\n",
    "    START = (0,0)\n",
    "    # cell labels\n",
    "    PATH = '0'\n",
    "    WALL = '1'\n",
    "    VISITED = '2'\n",
    "    def __init__(self, maze_file):\n",
    "        # initialize attributes\n",
    "        self.maze = []\n",
    "        self.path = []\n",
    "        self.start = Maze.START\n",
    "        self.load(maze_file)\n",
    "    def load(self, maze_file):\n",
    "        # read maze from file\n",
    "        with open(maze_file, \"r\") as maze:\n",
    "            for line in maze:\n",
    "                self.maze.append(line.strip().split(\" \"))\n",
    "        # shape of maze\n",
    "        self.n = len(self.maze)\n",
    "        self.m = len(self.maze[0])\n",
    "        # finish cell coordinate\n",
    "        self.finish = (self.n - 1, self.m - 1)\n",
    "    def solve(self):\n",
    "        # walk the maze from Maze.START, defaulted to (0,0)\n",
    "        return self.walk(Maze.START[0], Maze.START[1])\n",
    "    def walk(self, x, y):\n",
    "        #Base Cases\n",
    "        if x < 0 or y < 0 or x >= self.n or y >= self.m:\n",
    "            # check for boundaries\n",
    "            return False\n",
    "        if self.maze[x][y] == Maze.WALL:\n",
    "            # check if we hit the wall\n",
    "            return False\n",
    "        if self.maze[x][y] == Maze.VISITED:\n",
    "            # check if the cell has been visited\n",
    "            return False\n",
    "        if (x,y) == self.finish:\n",
    "            # check if finish cell is found\n",
    "            self.path.append((x,y))\n",
    "            return True\n",
    "        self.maze[x][y] = Maze.VISITED\n",
    "        if self.walk(x, y+1) or self.walk(x+1, y) or self.walk(x, y-1) or self.walk(x-1, y):\n",
    "            # check cells in the order right -> down -> left -> up and see if any of the cells leads to a path that reaches finish\n",
    "            self.path.append((x,y))\n",
    "            return True\n",
    "        return False"
   ]
  },
  {
   "cell_type": "code",
   "execution_count": 62,
   "id": "adf305d7-0ead-4c29-bfde-20298a3d4414",
   "metadata": {},
   "outputs": [
    {
     "name": "stdout",
     "output_type": "stream",
     "text": [
      "Path found [(0, 0), (1, 0), (1, 1), (2, 1), (3, 1), (3, 2), (3, 3), (3, 4), (3, 5), (4, 5), (5, 5), (6, 5), (7, 5), (7, 6), (7, 7), (7, 8), (7, 9), (8, 9), (9, 9), (9, 10), (9, 11), (9, 12), (9, 13), (10, 13), (11, 13), (11, 14), (11, 15), (11, 16), (11, 17), (12, 17), (13, 17), (14, 17), (15, 17), (15, 18), (15, 19), (16, 19), (17, 19), (18, 19), (19, 19), (20, 19), (20, 20)]\n"
     ]
    }
   ],
   "source": [
    "m = Maze(\"my_maze.txt\")\n",
    "if m.solve():\n",
    "    print(\"Path found\", m.path[::-1])\n",
    "else:\n",
    "    print(\"Path not found\")"
   ]
  }
 ],
 "metadata": {
  "kernelspec": {
   "display_name": "Python [conda env:base] *",
   "language": "python",
   "name": "conda-base-py"
  },
  "language_info": {
   "codemirror_mode": {
    "name": "ipython",
    "version": 3
   },
   "file_extension": ".py",
   "mimetype": "text/x-python",
   "name": "python",
   "nbconvert_exporter": "python",
   "pygments_lexer": "ipython3",
   "version": "3.12.7"
  }
 },
 "nbformat": 4,
 "nbformat_minor": 5
}
