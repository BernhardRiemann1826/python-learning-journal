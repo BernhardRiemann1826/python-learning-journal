{
 "cells": [
  {
   "cell_type": "code",
   "execution_count": 29,
   "id": "4d1c36c1-7abd-44f5-91c8-a5fcda6af426",
   "metadata": {},
   "outputs": [],
   "source": [
    "import jdc\n",
    "import random\n",
    "import iplantuml"
   ]
  },
  {
   "cell_type": "code",
   "execution_count": 30,
   "id": "cf4c360a-2eb2-4f0d-a3d5-e70276b0f607",
   "metadata": {},
   "outputs": [],
   "source": [
    "class UnoCard:\n",
    "    COLOR_B = 0\n",
    "    COLOR_R = 1\n",
    "    COLOR_Y = 2\n",
    "    COLOR_G = 3\n",
    "    COLOR_W = 4\n",
    "    COLORS = {COLOR_B:'blue', COLOR_R:'red', COLOR_Y:'yellow', COLOR_G:'green'}\n",
    "    ACTION_S = 10\n",
    "    ACTION_DT = 11\n",
    "    ACTION_R = 12\n",
    "    ACTIONS = {ACTION_S:'skip', ACTION_DT:'draw two', ACTION_R:'reverse'}\n",
    "    DRAW4_Y = 20\n",
    "    DRAW4_N = 21\n",
    "    WILD = {DRAW4_Y: ' draw 4', DRAW4_N:''}\n",
    "    def __init__(self, color, val):\n",
    "        self.color = color\n",
    "        self.val = val\n",
    "    def __str__(self):\n",
    "        print('not implemented')\n",
    "    def __eq__(self, other):\n",
    "        print('not implemented')\n",
    "\n",
    "class NumberCard(UnoCard):\n",
    "    def __init__(self, color, number):\n",
    "        super().__init__(color, number)\n",
    "    def __str__(self):\n",
    "        return f'{UnoCard.COLORS[self.color]} {self.val}'\n",
    "    def __eq__(self, other):\n",
    "        if isinstance(other, NumberCard):\n",
    "            return str(self) == str(other)\n",
    "        return False\n",
    "        \n",
    "class ActionCard(UnoCard):\n",
    "    def __init__(self, color, action):\n",
    "        super().__init__(color, action)\n",
    "    def __str__(self):\n",
    "        return f'{UnoCard.COLORS[self.color]} {UnoCard.ACTIONS[self.val]}'\n",
    "    def __eq__(self, other):\n",
    "        if isinstance(other, ActionCard):\n",
    "            return str(self) == str(other)\n",
    "        return False\n",
    "\n",
    "class WildCard(UnoCard):\n",
    "    def __init__(self, draw4 = False):\n",
    "        if draw4:\n",
    "            super().__init__(UnoCard.COLOR_W, UnoCard.WILD[UnoCard.DRAW4_Y])\n",
    "        else:\n",
    "            super().__init__(UnoCard.COLOR_W, UnoCard.WILD[UnoCard.DRAW4_N])\n",
    "    def __str__(self):\n",
    "        return f'wild{self.val}'\n",
    "    def __eq__(self, other):\n",
    "        if isinstance(other, WildCard):\n",
    "            return str(self) == str(other)\n",
    "        return False"
   ]
  },
  {
   "cell_type": "code",
   "execution_count": 31,
   "id": "90ccb4d4-3ddb-425f-8548-c08ea6f97ffb",
   "metadata": {},
   "outputs": [],
   "source": [
    "class Node:\n",
    "    def __init__(self, card):\n",
    "        self.card = card\n",
    "        self.next = None"
   ]
  },
  {
   "cell_type": "code",
   "execution_count": 32,
   "id": "6c7c5171-8a7c-4c1e-b9a1-04893172f481",
   "metadata": {},
   "outputs": [],
   "source": [
    "class Deck:\n",
    "    def __init__(self):\n",
    "        self.head = None\n",
    "        self.tail = None\n",
    "        self.count = 0\n",
    "        self.discards = []\n",
    "        self.populate()"
   ]
  },
  {
   "cell_type": "code",
   "execution_count": 33,
   "id": "e9c62164-3eda-4afe-baf7-03d5f08ff01c",
   "metadata": {},
   "outputs": [],
   "source": [
    "%%add_to Deck\n",
    "# append a card to deck\n",
    "def append(self, card):\n",
    "    node = Node(card)\n",
    "    self.count += 1\n",
    "    # deck empty\n",
    "    if not self.head:\n",
    "        self.head = self.tail = node\n",
    "        return\n",
    "    # deck not empty, append the new node to tail\n",
    "    self.tail.next = node\n",
    "    self.tail = node"
   ]
  },
  {
   "cell_type": "code",
   "execution_count": 34,
   "id": "44e5174e-165b-43e0-ba5b-321adabb922b",
   "metadata": {},
   "outputs": [],
   "source": [
    "%%add_to Deck\n",
    "# populate deck with UNO cards\n",
    "def populate(self):\n",
    "    for c in UnoCard.COLORS:\n",
    "        self.append(NumberCard(c, 0))\n",
    "        for n in range(1, 10):  \n",
    "            self.append(NumberCard(c, n))\n",
    "            self.append(NumberCard(c, n))\n",
    "        for a in UnoCard.ACTIONS:\n",
    "            self.append(ActionCard(c, a))\n",
    "            self.append(ActionCard(c, a))\n",
    "    for _ in range(4):\n",
    "        self.append(WildCard())\n",
    "        self.append(WildCard(True))"
   ]
  },
  {
   "cell_type": "code",
   "execution_count": 35,
   "id": "46a81a38-bd30-473c-a925-8e09342cf2da",
   "metadata": {},
   "outputs": [],
   "source": [
    "%%add_to Deck\n",
    "# shtffle the deck\n",
    "def shuffle(self):\n",
    "    cards = []\n",
    "    curr = self.head\n",
    "    # convert the linked list to list\n",
    "    while curr:\n",
    "        cards.append(curr.card)\n",
    "        curr = curr.next\n",
    "    random.shuffle(cards)\n",
    "    self.head = None\n",
    "    self.count = 0\n",
    "    # convert shuffled deck back to linked list\n",
    "    for card in cards:\n",
    "        self.append(card)"
   ]
  },
  {
   "cell_type": "code",
   "execution_count": 36,
   "id": "ba330ff1-3460-4393-a4c0-a0e1c7b3f376",
   "metadata": {},
   "outputs": [],
   "source": [
    "%%add_to Deck\n",
    "# deal n cards, returned as a list\n",
    "def deal(self, n):\n",
    "    # remove n cards from front of deck\n",
    "    cards = []\n",
    "    curr = self.head\n",
    "    if n > self.count:\n",
    "        print('!!! draw pile running out')\n",
    "        for card in self.discards:\n",
    "            self.append(card)\n",
    "    while curr and n > 0:\n",
    "        cards.append(curr.card)\n",
    "        curr = curr.next\n",
    "        n -= 1\n",
    "        self.count -= 1\n",
    "    self.head = curr\n",
    "    return cards"
   ]
  },
  {
   "cell_type": "code",
   "execution_count": 37,
   "id": "bb547727-f536-4bec-88ea-a4769cfecb71",
   "metadata": {},
   "outputs": [],
   "source": [
    "%%add_to Deck\n",
    "# print all cards in deck\n",
    "def print_cards(self):\n",
    "    curr = self.head\n",
    "    while curr:\n",
    "        print(curr.card)\n",
    "        curr = curr.next\n",
    "    print('\\n')        "
   ]
  },
  {
   "cell_type": "code",
   "execution_count": 38,
   "id": "745f014c-c919-40f3-a2c9-14fc19051bec",
   "metadata": {},
   "outputs": [],
   "source": [
    "def is_card_playable(in_play, hand):\n",
    "    return hand.color == in_play.color or hand.val == in_play.val or hand.color == UnoCard.COLOR_W"
   ]
  },
  {
   "cell_type": "code",
   "execution_count": 39,
   "id": "15292003-0c3a-4f20-8ec8-fe0158ef71b8",
   "metadata": {},
   "outputs": [],
   "source": [
    "class Player:\n",
    "    def __init__(self, name):\n",
    "        self.name = name\n",
    "        self.cards = []\n",
    "        self.score = 0 # not implemented\n",
    "    def __str__(self):\n",
    "        return f'{self.name}'"
   ]
  },
  {
   "cell_type": "code",
   "execution_count": 40,
   "id": "f8fa403b-11c7-45b5-a2cf-9d630157229c",
   "metadata": {},
   "outputs": [],
   "source": [
    "%%add_to Player\n",
    "# Player to pick a card to play\n",
    "def choose_hand(self, in_play):\n",
    "    cards = ', '.join(str(card) for card in self.cards)\n",
    "    print(f'{self}\\'s cards: {cards}')\n",
    "    playables = []\n",
    "    # Find all the playable cards\n",
    "    for card in self.cards:\n",
    "        if is_card_playable(in_play, card):\n",
    "            playables.append(card)\n",
    "    cards = ', '.join(str(card) for card in playables)\n",
    "    print('  playables: ' + cards)\n",
    "    card = None\n",
    "    print(f'{self} choose a card to play')\n",
    "    chosen = False\n",
    "    retry = False\n",
    "    while not chosen:\n",
    "        while True:\n",
    "            # select color\n",
    "            choice = input(f'{UnoCard.COLOR_B}: Blue, {UnoCard.COLOR_R}: Red, {UnoCard.COLOR_Y}: Yellow, {UnoCard.COLOR_G}: Green, {UnoCard.COLOR_W}: Wild, <Enter>: No playable card: ')\n",
    "            if choice == '':\n",
    "                if playables:\n",
    "                    print('Please choose a playable card')\n",
    "                else:\n",
    "                    chosen = True\n",
    "                retry = True\n",
    "                break\n",
    "            try:\n",
    "                choice = int(choice)\n",
    "                assert UnoCard.COLOR_B <= choice <= UnoCard.COLOR_W\n",
    "            except ValueError:\n",
    "                print('Please enter an integer or press <Enter>')\n",
    "                continue          \n",
    "            except AssertionError:\n",
    "                print('Please enter a valid choice')\n",
    "                continue          \n",
    "            else:\n",
    "                break\n",
    "        if retry:\n",
    "            retry = False\n",
    "            continue\n",
    "        # if a wild card to be played, draw 4 or not?\n",
    "        if choice == UnoCard.COLOR_W:\n",
    "            draw4 = input('Draw 4? (y|Y for yes, anything else for no): ')\n",
    "            if draw4 in ('y', 'Y'):\n",
    "                # Draw 4 can't be played if there are other playable cards\n",
    "                if len(playables) > 1:\n",
    "                    print('Can\\'t play wild draw4')\n",
    "                    continue\n",
    "                card = WildCard(True)\n",
    "            else:\n",
    "                card = WildCard()\n",
    "        else: # Player chose to play a calor card. Need to select the number/action of the card to play. \n",
    "            while True:\n",
    "                try:\n",
    "                    val = int(input(f'The number on the card or {UnoCard.ACTION_S}: Skip, {UnoCard.ACTION_DT}: Draw 2, {UnoCard.ACTION_R}: Reverse: '))\n",
    "                    assert 0 <= val <= UnoCard.ACTION_R\n",
    "                except ValueError:\n",
    "                    print('Please enter an integer')\n",
    "                    continue\n",
    "                except AssertionError:\n",
    "                    print('Please enter a valid choice')\n",
    "                    continue\n",
    "                else:\n",
    "                    break\n",
    "            if val <= 9:\n",
    "                card = NumberCard(choice, val)\n",
    "            else:\n",
    "                card = ActionCard(choice, val)\n",
    "        while True:\n",
    "            try:\n",
    "                # is the card chosen playable\n",
    "                assert card in playables\n",
    "            except AssertionError:\n",
    "                print('Please choose a playable card')\n",
    "            else:\n",
    "                chosen = True\n",
    "            finally:\n",
    "                break\n",
    "    if card:\n",
    "        self.cards.remove(card)\n",
    "    return card"
   ]
  },
  {
   "cell_type": "code",
   "execution_count": 41,
   "id": "754ebf53-02e6-421a-b505-4c6a15f57023",
   "metadata": {},
   "outputs": [],
   "source": [
    "%%add_to Player\n",
    "# Find a playable card\n",
    "def find_playables(self, in_play):\n",
    "    draw4 = None\n",
    "    for card in self.cards:\n",
    "        # looking for color/action match or wild card\n",
    "        if card.color == in_play.color or card.val == in_play.val or card.val == UnoCard.WILD[UnoCard.DRAW4_N]:\n",
    "            self.cards.remove(card)\n",
    "            return card\n",
    "        # wild draw 4 can only be played if there's no other playable card\n",
    "        if card.val == UnoCard.WILD[UnoCard.DRAW4_Y]:\n",
    "            # wild draw4 present\n",
    "            draw4 = card\n",
    "    # No other playable card. Play draw3\n",
    "    if draw4:\n",
    "        self.cards.remove(draw4)\n",
    "        return draw4\n",
    "    # No playable cards\n",
    "    return None"
   ]
  },
  {
   "cell_type": "code",
   "execution_count": 42,
   "id": "9be7594a-1035-4529-b3da-ef8c9ee3b847",
   "metadata": {},
   "outputs": [],
   "source": [
    "%%add_to Player\n",
    "# A wild card is being played. Player needs to choose a color.\n",
    "def choose_color(self):\n",
    "    color = None\n",
    "    print(self.name + ', choose a color')\n",
    "    while True:\n",
    "        try:\n",
    "            color = int(input(f'{UnoCard.COLOR_B}: Blue, {UnoCard.COLOR_R}: Red, {UnoCard.COLOR_Y}: Yellow, {UnoCard.COLOR_G}: Green: '))\n",
    "            assert UnoCard.COLOR_B <= color <= UnoCard.COLOR_G\n",
    "        except ValueError:\n",
    "            print('Please enter an integer')\n",
    "            continue          \n",
    "        except AssertionError:\n",
    "            print('Please enter a valid choice')\n",
    "            continue          \n",
    "        else:\n",
    "            break\n",
    "    return color"
   ]
  },
  {
   "cell_type": "code",
   "execution_count": 43,
   "id": "1e406462-ddbd-4bfc-9373-9d9108690cdc",
   "metadata": {},
   "outputs": [],
   "source": [
    "class Game:\n",
    "    def __init__(self):\n",
    "        self.deck = Deck()\n",
    "        self.players = []\n",
    "        self.deck.shuffle()\n",
    "        self.log = []"
   ]
  },
  {
   "cell_type": "code",
   "execution_count": 44,
   "id": "24bfb2a2-b5ed-4f4a-8855-de2be7f4ecfe",
   "metadata": {},
   "outputs": [],
   "source": [
    "%%add_to Game\n",
    "def set_up(self):\n",
    "    while True:\n",
    "        # 2 - 10 players\n",
    "        try:\n",
    "            n = int(input('How many players:'))\n",
    "            assert 1 < n < 11\n",
    "        except ValueError:\n",
    "            print('Please enter an integer')\n",
    "        except AssertionError:\n",
    "            print('2 to 10 players')\n",
    "        else:\n",
    "            break\n",
    "    for i in range(n):\n",
    "        # Player's name\n",
    "        while True:\n",
    "            try:\n",
    "                name = input(f'Enter player {i+1}\\'s name (default = Mary<n>):') or f'Mary{i+1}'\n",
    "                print(name)\n",
    "                assert name.replace(\" \", \"\").isalnum() or name == ''\n",
    "            except AssertionError:\n",
    "                print('Alphanumerics or <Enter> please')\n",
    "            else:\n",
    "                break\n",
    "        player = Player(name)\n",
    "        # each player gets 7 cards at start\n",
    "        player.cards = self.deck.deal(7)\n",
    "        self.players.append(player)\n",
    "        cards = ', '.join(str(card) for card in player.cards)\n",
    "        self.log.append(str(player) + ' is dealt ' + cards)\n",
    "    while True:\n",
    "        # Flip the 1st non wild card\n",
    "        in_play = self.deck.deal(1)[0]\n",
    "        # Non wild found\n",
    "        if in_play.color != UnoCard.COLOR_W:\n",
    "            self.log.append(f'Top card flipped: ' + str(in_play))\n",
    "            self.deck.discards.append(in_play)\n",
    "            return\n",
    "        # Wild found. Put it to bottom of deck.\n",
    "        self.deck.append(in_play)\n",
    "def wrap_up(self):\n",
    "    cards = ', '.join([str(card) for card in self.deck.discards])\n",
    "    self.log.append(f'\\nDiscard pile {len(self.deck.discards)} cards: ' + cards)\n",
    "    for player in self.players:\n",
    "        cards = ', '.join([str(card) for card in player.cards])\n",
    "        self.log.append(str(player) + '\\'s remaining cards: ' + cards)"
   ]
  },
  {
   "cell_type": "code",
   "execution_count": 45,
   "id": "26e3d538-a960-49e3-81a8-82d063f91111",
   "metadata": {},
   "outputs": [],
   "source": [
    "%%add_to Game\n",
    "def play(self):\n",
    "    self.set_up()\n",
    "    # Flip the top card of deck to start the game\n",
    "    forfeit_turn = False\n",
    "    idx, step, step_manipulator = -1, 1, -1\n",
    "    self.log.append('\\nStarting Turns')\n",
    "    print('\\nGAME STARTING')\n",
    "    in_play = self.deck.discards[-1]\n",
    "    self.log.append(f'Top card revealed: {in_play}')\n",
    "    print(f'Top card revealed: {in_play}')\n",
    "    while True:\n",
    "#        print(f'Card in play: {in_play}')\n",
    "        idx = (idx + step + len(self.players)) % len(self.players)\n",
    "        player = self.players[idx]\n",
    "        # Wild draw 4/skip/draw 2 was last played.\n",
    "        # Player loses a turn\n",
    "        if forfeit_turn:\n",
    "            if in_play.val in (UnoCard.WILD[UnoCard.DRAW4_Y], UnoCard.ACTION_DT): # wild draw 4 or color draw 2\n",
    "                if in_play.val == UnoCard.ACTION_DT:\n",
    "                    cards_drawn = self.deck.deal(2)\n",
    "                else:\n",
    "                    cards_drawn = self.deck.deal(4)\n",
    "                player.cards += cards_drawn\n",
    "                cards = ', '.join(str(c) for c in cards_drawn)\n",
    "                self.log.append(f'{player} drew ' + cards)\n",
    "                print(f'{player} drew ' + cards)\n",
    "            self.log.append(f'{player} skipped a turn')\n",
    "            print(f'{player} skipped a turn')\n",
    "            forfeit_turn = False\n",
    "            continue\n",
    "        # Find a playable card\n",
    "        if idx == 0: # human player\n",
    "            hand = player.choose_hand(in_play)\n",
    "        else: # computer\n",
    "            hand = player.find_playables(in_play) # wild card may get played before number/symbol match\n",
    "        if hand: # Found a playable card\n",
    "            self.deck.discards.append(hand)\n",
    "            self.log.append(f'{player} played {hand}')\n",
    "            print(f'{player} played {hand}')\n",
    "            # Dictate color if it's a wild card\n",
    "            if hand.color == UnoCard.COLOR_W:\n",
    "                if hand.val == UnoCard.WILD[UnoCard.DRAW4_Y]: # wild draw 4\n",
    "                    # next player will skip a turn\n",
    "                    forfeit_turn = True\n",
    "                if idx == 0: # Prompt human player to choose a color\n",
    "                    hand.color = player.choose_color()\n",
    "                else: # computer choses a color\n",
    "                    hand.color = random.choice(list(UnoCard.COLORS.keys()))\n",
    "                self.log.append(f'  Chose color {UnoCard.COLORS[hand.color]}')\n",
    "                print(f'  Chose color {UnoCard.COLORS[hand.color]}')\n",
    "            elif hand.val in (UnoCard.ACTION_S, UnoCard.ACTION_DT): # skip or draw 2\n",
    "                # next player will lose a turn\n",
    "                forfeit_turn = True\n",
    "            elif hand.val == UnoCard.ACTION_R:\n",
    "                # Reverse was played. Change rotation\n",
    "                step *= step_manipulator\n",
    "            in_play = hand\n",
    "        else: # playable card not found\n",
    "            # Draw a card\n",
    "            hand = self.deck.deal(1)[0]\n",
    "            self.log.append(f'{player} drew {hand}')\n",
    "            print(f'{player} drew {hand}')\n",
    "            # Drew a wile card\n",
    "            if hand.color == UnoCard.COLOR_W:\n",
    "                self.deck.discards.append(hand)\n",
    "                if hand.val == UnoCard.WILD[UnoCard.DRAW4_Y]: # wild draw 4\n",
    "                    # next player will skip a turn\n",
    "                    forfeit_turn = True\n",
    "                # Dictate color\n",
    "                if idx == 0:\n",
    "                    hand.color = player.choose_color()\n",
    "                else:\n",
    "                    hand.color = random.choice(list(UnoCard.COLORS.keys()))\n",
    "                self.log.append(f'  Played {hand}')\n",
    "                print(f'  Played {hand}')\n",
    "                self.log.append(f'  Chose color {UnoCard.COLORS[hand.color]}')\n",
    "                print(f'  Chose color {UnoCard.COLORS[hand.color]}')\n",
    "                in_play = hand\n",
    "                continue\n",
    "            # Drew a color card. Play it right away\n",
    "            if hand.color == in_play.color or hand.val == in_play.val:\n",
    "                print(f'  Played {hand}')\n",
    "                self.log.append(f'  Played {hand}')\n",
    "                self.deck.discards.append(hand)\n",
    "                in_play = hand\n",
    "                if hand.val in (UnoCard.ACTION_S, UnoCard.ACTION_DT): # skip or draw 2\n",
    "                    # next player will skip a turn\n",
    "                    forfeit_turn = True\n",
    "                elif hand.val == UnoCard.ACTION_R:\n",
    "                    step *= step_manipulator\n",
    "                continue\n",
    "            # Card drawn is not playable\n",
    "            player.cards.append(hand)\n",
    "        # Player has no cards left. Winner found\n",
    "        if not player.cards:\n",
    "#            won = True\n",
    "            self.log.append(f'{player} WON!')\n",
    "            print(f'{player} WON!')\n",
    "            break\n",
    "    self.wrap_up()"
   ]
  },
  {
   "cell_type": "code",
   "execution_count": 46,
   "id": "2de13fc7-2109-46a6-9b4b-dc55d1576066",
   "metadata": {},
   "outputs": [],
   "source": [
    "%%add_to Game\n",
    "def print_log(self):\n",
    "    print('\\n'.join(game.log))"
   ]
  },
  {
   "cell_type": "code",
   "execution_count": 47,
   "id": "5b92238c-ccbf-4372-a19e-dc07261231ee",
   "metadata": {
    "scrolled": true
   },
   "outputs": [
    {
     "name": "stdin",
     "output_type": "stream",
     "text": [
      "How many players: 3\n",
      "Enter player 1's name (default = Mary<n>): \n"
     ]
    },
    {
     "name": "stdout",
     "output_type": "stream",
     "text": [
      "Mary1\n"
     ]
    },
    {
     "name": "stdin",
     "output_type": "stream",
     "text": [
      "Enter player 2's name (default = Mary<n>): \n"
     ]
    },
    {
     "name": "stdout",
     "output_type": "stream",
     "text": [
      "Mary2\n"
     ]
    },
    {
     "name": "stdin",
     "output_type": "stream",
     "text": [
      "Enter player 3's name (default = Mary<n>): \n"
     ]
    },
    {
     "name": "stdout",
     "output_type": "stream",
     "text": [
      "Mary3\n",
      "\n",
      "GAME STARTING\n",
      "Top card revealed: blue 2\n",
      "Mary1's cards: wild draw 4, yellow 7, yellow 2, blue 6, green 7, green 9, blue 4\n",
      "  playables: wild draw 4, yellow 2, blue 6, blue 4\n",
      "Mary1 choose a card to play\n"
     ]
    },
    {
     "name": "stdin",
     "output_type": "stream",
     "text": [
      "0: Blue, 1: Red, 2: Yellow, 3: Green, 4: Wild, <Enter>: No playable card:  0\n",
      "The number on the card or 10: Skip, 11: Draw 2, 12: Reverse:  4\n"
     ]
    },
    {
     "name": "stdout",
     "output_type": "stream",
     "text": [
      "Mary1 played blue 4\n",
      "Mary2 played blue 3\n",
      "Mary3 played blue 4\n",
      "Mary1's cards: wild draw 4, yellow 7, yellow 2, blue 6, green 7, green 9\n",
      "  playables: wild draw 4, blue 6\n",
      "Mary1 choose a card to play\n"
     ]
    },
    {
     "name": "stdin",
     "output_type": "stream",
     "text": [
      "0: Blue, 1: Red, 2: Yellow, 3: Green, 4: Wild, <Enter>: No playable card:  0\n",
      "The number on the card or 10: Skip, 11: Draw 2, 12: Reverse:  6\n"
     ]
    },
    {
     "name": "stdout",
     "output_type": "stream",
     "text": [
      "Mary1 played blue 6\n",
      "Mary2 played blue 6\n",
      "Mary3 played blue 9\n",
      "Mary1's cards: wild draw 4, yellow 7, yellow 2, green 7, green 9\n",
      "  playables: wild draw 4, green 9\n",
      "Mary1 choose a card to play\n"
     ]
    },
    {
     "name": "stdin",
     "output_type": "stream",
     "text": [
      "0: Blue, 1: Red, 2: Yellow, 3: Green, 4: Wild, <Enter>: No playable card:  3\n",
      "The number on the card or 10: Skip, 11: Draw 2, 12: Reverse:  9\n"
     ]
    },
    {
     "name": "stdout",
     "output_type": "stream",
     "text": [
      "Mary1 played green 9\n",
      "Mary2 drew green 1\n",
      "  Played green 1\n",
      "Mary3 played green 1\n",
      "Mary1's cards: wild draw 4, yellow 7, yellow 2, green 7\n",
      "  playables: wild draw 4, green 7\n",
      "Mary1 choose a card to play\n"
     ]
    },
    {
     "name": "stdin",
     "output_type": "stream",
     "text": [
      "0: Blue, 1: Red, 2: Yellow, 3: Green, 4: Wild, <Enter>: No playable card:  3\n",
      "The number on the card or 10: Skip, 11: Draw 2, 12: Reverse:  7\n"
     ]
    },
    {
     "name": "stdout",
     "output_type": "stream",
     "text": [
      "Mary1 played green 7\n",
      "Mary2 played blue 7\n",
      "Mary3 played wild draw 4\n",
      "  Chose color red\n",
      "Mary1 drew blue reverse, red 7, red 4, red skip\n",
      "Mary1 skipped a turn\n",
      "Mary2 played red 0\n",
      "Mary3 played red 8\n",
      "Mary1's cards: wild draw 4, yellow 7, yellow 2, blue reverse, red 7, red 4, red skip\n",
      "  playables: wild draw 4, red 7, red 4, red skip\n",
      "Mary1 choose a card to play\n"
     ]
    },
    {
     "name": "stdin",
     "output_type": "stream",
     "text": [
      "0: Blue, 1: Red, 2: Yellow, 3: Green, 4: Wild, <Enter>: No playable card:  1\n",
      "The number on the card or 10: Skip, 11: Draw 2, 12: Reverse:  7\n"
     ]
    },
    {
     "name": "stdout",
     "output_type": "stream",
     "text": [
      "Mary1 played red 7\n",
      "Mary2 played red 6\n",
      "Mary3 drew yellow 2\n",
      "Mary1's cards: wild draw 4, yellow 7, yellow 2, blue reverse, red 4, red skip\n",
      "  playables: wild draw 4, red 4, red skip\n",
      "Mary1 choose a card to play\n"
     ]
    },
    {
     "name": "stdin",
     "output_type": "stream",
     "text": [
      "0: Blue, 1: Red, 2: Yellow, 3: Green, 4: Wild, <Enter>: No playable card:  2\n",
      "The number on the card or 10: Skip, 11: Draw 2, 12: Reverse:  4\n"
     ]
    },
    {
     "name": "stdout",
     "output_type": "stream",
     "text": [
      "Please choose a playable card\n"
     ]
    },
    {
     "name": "stdin",
     "output_type": "stream",
     "text": [
      "0: Blue, 1: Red, 2: Yellow, 3: Green, 4: Wild, <Enter>: No playable card:  1\n",
      "The number on the card or 10: Skip, 11: Draw 2, 12: Reverse:  4\n"
     ]
    },
    {
     "name": "stdout",
     "output_type": "stream",
     "text": [
      "Mary1 played red 4\n",
      "Mary2 played red 5\n",
      "Mary3 drew red 5\n",
      "  Played red 5\n",
      "Mary1's cards: wild draw 4, yellow 7, yellow 2, blue reverse, red skip\n",
      "  playables: wild draw 4, red skip\n",
      "Mary1 choose a card to play\n"
     ]
    },
    {
     "name": "stdin",
     "output_type": "stream",
     "text": [
      "0: Blue, 1: Red, 2: Yellow, 3: Green, 4: Wild, <Enter>: No playable card:  1\n",
      "The number on the card or 10: Skip, 11: Draw 2, 12: Reverse:  10\n"
     ]
    },
    {
     "name": "stdout",
     "output_type": "stream",
     "text": [
      "Mary1 played red skip\n",
      "Mary2 skipped a turn\n",
      "Mary3 drew green draw two\n",
      "Mary1's cards: wild draw 4, yellow 7, yellow 2, blue reverse\n",
      "  playables: wild draw 4\n",
      "Mary1 choose a card to play\n"
     ]
    },
    {
     "name": "stdin",
     "output_type": "stream",
     "text": [
      "0: Blue, 1: Red, 2: Yellow, 3: Green, 4: Wild, <Enter>: No playable card:  4\n",
      "Draw 4? (y|Y for yes, anything else for no):  y\n"
     ]
    },
    {
     "name": "stdout",
     "output_type": "stream",
     "text": [
      "Mary1 played wild draw 4\n",
      "Mary1, choose a color\n"
     ]
    },
    {
     "name": "stdin",
     "output_type": "stream",
     "text": [
      "0: Blue, 1: Red, 2: Yellow, 3: Green:  2\n"
     ]
    },
    {
     "name": "stdout",
     "output_type": "stream",
     "text": [
      "  Chose color yellow\n",
      "Mary2 drew red 6, red 1, yellow 4, green skip\n",
      "Mary2 skipped a turn\n",
      "Mary3 played yellow 9\n",
      "Mary1's cards: yellow 7, yellow 2, blue reverse\n",
      "  playables: yellow 7, yellow 2\n",
      "Mary1 choose a card to play\n"
     ]
    },
    {
     "name": "stdin",
     "output_type": "stream",
     "text": [
      "0: Blue, 1: Red, 2: Yellow, 3: Green, 4: Wild, <Enter>: No playable card:  2\n",
      "The number on the card or 10: Skip, 11: Draw 2, 12: Reverse:  7\n"
     ]
    },
    {
     "name": "stdout",
     "output_type": "stream",
     "text": [
      "Mary1 played yellow 7\n",
      "Mary2 played yellow draw two\n",
      "Mary3 drew red 4, green 4\n",
      "Mary3 skipped a turn\n",
      "Mary1's cards: yellow 2, blue reverse\n",
      "  playables: yellow 2\n",
      "Mary1 choose a card to play\n"
     ]
    },
    {
     "name": "stdin",
     "output_type": "stream",
     "text": [
      "0: Blue, 1: Red, 2: Yellow, 3: Green, 4: Wild, <Enter>: No playable card:  2\n",
      "The number on the card or 10: Skip, 11: Draw 2, 12: Reverse:  2\n"
     ]
    },
    {
     "name": "stdout",
     "output_type": "stream",
     "text": [
      "Mary1 played yellow 2\n",
      "Mary2 played yellow 4\n",
      "Mary3 played yellow draw two\n",
      "Mary1 drew yellow 9, green reverse\n",
      "Mary1 skipped a turn\n",
      "Mary2 drew yellow reverse\n",
      "  Played yellow reverse\n",
      "Mary1's cards: blue reverse, yellow 9, green reverse\n",
      "  playables: blue reverse, yellow 9, green reverse\n",
      "Mary1 choose a card to play\n"
     ]
    },
    {
     "name": "stdin",
     "output_type": "stream",
     "text": [
      "0: Blue, 1: Red, 2: Yellow, 3: Green, 4: Wild, <Enter>: No playable card:  2\n",
      "The number on the card or 10: Skip, 11: Draw 2, 12: Reverse:  9\n"
     ]
    },
    {
     "name": "stdout",
     "output_type": "stream",
     "text": [
      "Mary1 played yellow 9\n",
      "Mary3 played yellow 2\n",
      "Mary2 drew blue skip\n",
      "Mary1's cards: blue reverse, green reverse\n",
      "  playables: \n",
      "Mary1 choose a card to play\n"
     ]
    },
    {
     "name": "stdin",
     "output_type": "stream",
     "text": [
      "0: Blue, 1: Red, 2: Yellow, 3: Green, 4: Wild, <Enter>: No playable card:  \n"
     ]
    },
    {
     "name": "stdout",
     "output_type": "stream",
     "text": [
      "Mary1 drew blue 8\n",
      "Mary3 drew red 7\n",
      "Mary2 drew blue 5\n",
      "Mary1's cards: blue reverse, green reverse, blue 8\n",
      "  playables: \n",
      "Mary1 choose a card to play\n"
     ]
    },
    {
     "name": "stdin",
     "output_type": "stream",
     "text": [
      "0: Blue, 1: Red, 2: Yellow, 3: Green, 4: Wild, <Enter>: No playable card:  \n"
     ]
    },
    {
     "name": "stdout",
     "output_type": "stream",
     "text": [
      "Mary1 drew yellow 8\n",
      "  Played yellow 8\n",
      "Mary3 drew yellow reverse\n",
      "  Played yellow reverse\n",
      "Mary1's cards: blue reverse, green reverse, blue 8\n",
      "  playables: blue reverse, green reverse\n",
      "Mary1 choose a card to play\n"
     ]
    },
    {
     "name": "stdin",
     "output_type": "stream",
     "text": [
      "0: Blue, 1: Red, 2: Yellow, 3: Green, 4: Wild, <Enter>: No playable card:  0\n",
      "The number on the card or 10: Skip, 11: Draw 2, 12: Reverse:  12\n"
     ]
    },
    {
     "name": "stdout",
     "output_type": "stream",
     "text": [
      "Mary1 played blue reverse\n",
      "Mary3 drew yellow 3\n",
      "Mary2 played blue skip\n",
      "Mary1 skipped a turn\n",
      "Mary3 drew wild\n",
      "  Played wild\n",
      "  Chose color red\n",
      "Mary2 played red 6\n",
      "Mary1's cards: green reverse, blue 8\n",
      "  playables: \n",
      "Mary1 choose a card to play\n"
     ]
    },
    {
     "name": "stdin",
     "output_type": "stream",
     "text": [
      "0: Blue, 1: Red, 2: Yellow, 3: Green, 4: Wild, <Enter>: No playable card:  \n"
     ]
    },
    {
     "name": "stdout",
     "output_type": "stream",
     "text": [
      "Mary1 drew green 6\n",
      "  Played green 6\n",
      "Mary3 played green draw two\n",
      "Mary2 drew blue skip, blue 1\n",
      "Mary2 skipped a turn\n",
      "Mary1's cards: green reverse, blue 8\n",
      "  playables: green reverse\n",
      "Mary1 choose a card to play\n"
     ]
    },
    {
     "name": "stdin",
     "output_type": "stream",
     "text": [
      "0: Blue, 1: Red, 2: Yellow, 3: Green, 4: Wild, <Enter>: No playable card:  3\n",
      "The number on the card or 10: Skip, 11: Draw 2, 12: Reverse:  12\n"
     ]
    },
    {
     "name": "stdout",
     "output_type": "stream",
     "text": [
      "Mary1 played green reverse\n",
      "Mary2 played green skip\n",
      "Mary3 skipped a turn\n",
      "Mary1's cards: blue 8\n",
      "  playables: \n",
      "Mary1 choose a card to play\n"
     ]
    },
    {
     "name": "stdin",
     "output_type": "stream",
     "text": [
      "0: Blue, 1: Red, 2: Yellow, 3: Green, 4: Wild, <Enter>: No playable card:  \n"
     ]
    },
    {
     "name": "stdout",
     "output_type": "stream",
     "text": [
      "Mary1 drew green 5\n",
      "  Played green 5\n",
      "Mary2 played blue 5\n",
      "Mary3 drew green 9\n",
      "Mary1's cards: blue 8\n",
      "  playables: blue 8\n",
      "Mary1 choose a card to play\n"
     ]
    },
    {
     "name": "stdin",
     "output_type": "stream",
     "text": [
      "0: Blue, 1: Red, 2: Yellow, 3: Green, 4: Wild, <Enter>: No playable card:  0\n",
      "The number on the card or 10: Skip, 11: Draw 2, 12: Reverse:  8\n"
     ]
    },
    {
     "name": "stdout",
     "output_type": "stream",
     "text": [
      "Mary1 played blue 8\n",
      "Mary1 WON!\n"
     ]
    }
   ],
   "source": [
    "#### game = Game()\n",
    "game.play()"
   ]
  },
  {
   "cell_type": "code",
   "execution_count": 50,
   "id": "82f9f417-4a2d-4ad6-9a82-1c972748230e",
   "metadata": {
    "scrolled": true
   },
   "outputs": [
    {
     "name": "stdout",
     "output_type": "stream",
     "text": [
      "Mary1 is dealt wild draw 4, yellow 7, yellow 2, blue 6, green 7, green 9, blue 4\n",
      "Mary2 is dealt blue 3, blue 6, red 0, blue 7, yellow draw two, red 6, red 5\n",
      "Mary3 is dealt wild draw 4, yellow 9, blue 4, blue 9, green 1, yellow draw two, red 8\n",
      "Top card flipped: blue 2\n",
      "\n",
      "Starting Turns\n",
      "Top card revealed: blue 2\n",
      "Mary1 played blue 4\n",
      "Mary2 played blue 3\n",
      "Mary3 played blue 4\n",
      "Mary1 played blue 6\n",
      "Mary2 played blue 6\n",
      "Mary3 played blue 9\n",
      "Mary1 played green 9\n",
      "Mary2 drew green 1\n",
      "  Played green 1\n",
      "Mary3 played green 1\n",
      "Mary1 played green 7\n",
      "Mary2 played blue 7\n",
      "Mary3 played wild draw 4\n",
      "  Chose color red\n",
      "Mary1 drew blue reverse, red 7, red 4, red skip\n",
      "Mary1 skipped a turn\n",
      "Mary2 played red 0\n",
      "Mary3 played red 8\n",
      "Mary1 played red 7\n",
      "Mary2 played red 6\n",
      "Mary3 drew yellow 2\n",
      "Mary1 played red 4\n",
      "Mary2 played red 5\n",
      "Mary3 drew red 5\n",
      "  Played red 5\n",
      "Mary1 played red skip\n",
      "Mary2 skipped a turn\n",
      "Mary3 drew green draw two\n",
      "Mary1 played wild draw 4\n",
      "  Chose color yellow\n",
      "Mary2 drew red 6, red 1, yellow 4, green skip\n",
      "Mary2 skipped a turn\n",
      "Mary3 played yellow 9\n",
      "Mary1 played yellow 7\n",
      "Mary2 played yellow draw two\n",
      "Mary3 drew red 4, green 4\n",
      "Mary3 skipped a turn\n",
      "Mary1 played yellow 2\n",
      "Mary2 played yellow 4\n",
      "Mary3 played yellow draw two\n",
      "Mary1 drew yellow 9, green reverse\n",
      "Mary1 skipped a turn\n",
      "Mary2 drew yellow reverse\n",
      "  Played yellow reverse\n",
      "Mary1 played yellow 9\n",
      "Mary3 played yellow 2\n",
      "Mary2 drew blue skip\n",
      "Mary1 drew blue 8\n",
      "Mary3 drew red 7\n",
      "Mary2 drew blue 5\n",
      "Mary1 drew yellow 8\n",
      "  Played yellow 8\n",
      "Mary3 drew yellow reverse\n",
      "  Played yellow reverse\n",
      "Mary1 played blue reverse\n",
      "Mary3 drew yellow 3\n",
      "Mary2 played blue skip\n",
      "Mary1 skipped a turn\n",
      "Mary3 drew wild\n",
      "  Played wild\n",
      "  Chose color red\n",
      "Mary2 played red 6\n",
      "Mary1 drew green 6\n",
      "  Played green 6\n",
      "Mary3 played green draw two\n",
      "Mary2 drew blue skip, blue 1\n",
      "Mary2 skipped a turn\n",
      "Mary1 played green reverse\n",
      "Mary2 played green skip\n",
      "Mary3 skipped a turn\n",
      "Mary1 drew green 5\n",
      "  Played green 5\n",
      "Mary2 played blue 5\n",
      "Mary3 drew green 9\n",
      "Mary1 played blue 8\n",
      "Mary1 WON!\n",
      "\n",
      "Discard pile 44 cards: blue 2, blue 4, blue 3, blue 4, blue 6, blue 6, blue 9, green 9, green 1, green 1, green 7, blue 7, wild draw 4, red 0, red 8, red 7, red 6, red 4, red 5, red 5, red skip, wild draw 4, yellow 9, yellow 7, yellow draw two, yellow 2, yellow 4, yellow draw two, yellow reverse, yellow 9, yellow 2, yellow 8, yellow reverse, blue reverse, blue skip, wild, red 6, green 6, green draw two, green reverse, green skip, green 5, blue 5, blue 8\n",
      "Mary1's remaining cards: \n",
      "Mary2's remaining cards: red 1, blue skip, blue 1\n",
      "Mary3's remaining cards: red 4, green 4, red 7, yellow 3, green 9\n"
     ]
    }
   ],
   "source": [
    "game.print_log()"
   ]
  },
  {
   "cell_type": "code",
   "execution_count": 51,
   "id": "76998b73-740e-4683-82ff-74bce84f11b0",
   "metadata": {
    "scrolled": true
   },
   "outputs": [
    {
     "data": {
      "image/svg+xml": [
       "<svg xmlns=\"http://www.w3.org/2000/svg\" xmlns:xlink=\"http://www.w3.org/1999/xlink\" contentStyleType=\"text/css\" data-diagram-type=\"ACTIVITY\" height=\"2060px\" preserveAspectRatio=\"none\" style=\"width:654px;height:2060px;background:#FFFFFF;\" version=\"1.1\" viewBox=\"0 0 654 2060\" width=\"654px\" zoomAndPan=\"magnify\"><defs/><g><ellipse cx=\"270.2332\" cy=\"20\" fill=\"#222222\" rx=\"10\" ry=\"10\" style=\"stroke:#222222;stroke-width:1;\"/><rect fill=\"#F1F1F1\" height=\"33.9688\" rx=\"12.5\" ry=\"12.5\" style=\"stroke:#181818;stroke-width:0.5;\" width=\"109.7598\" x=\"215.3533\" y=\"50\"/><text fill=\"#000000\" font-family=\"sans-serif\" font-size=\"12\" lengthAdjust=\"spacing\" textLength=\"89.7598\" x=\"225.3533\" y=\"71.1387\">Initialize Game</text><rect fill=\"#F1F1F1\" height=\"33.9688\" rx=\"12.5\" ry=\"12.5\" style=\"stroke:#181818;stroke-width:0.5;\" width=\"94.3555\" x=\"223.0554\" y=\"103.9688\"/><text fill=\"#000000\" font-family=\"sans-serif\" font-size=\"12\" lengthAdjust=\"spacing\" textLength=\"74.3555\" x=\"233.0554\" y=\"125.1074\">Shuffle deck</text><rect fill=\"#F1F1F1\" height=\"33.9688\" rx=\"12.5\" ry=\"12.5\" style=\"stroke:#181818;stroke-width:0.5;\" width=\"107.5449\" x=\"216.4607\" y=\"157.9375\"/><text fill=\"#000000\" font-family=\"sans-serif\" font-size=\"12\" lengthAdjust=\"spacing\" textLength=\"87.5449\" x=\"226.4607\" y=\"179.0762\">Create Players</text><rect fill=\"#F1F1F1\" height=\"33.9688\" rx=\"12.5\" ry=\"12.5\" style=\"stroke:#181818;stroke-width:0.5;\" width=\"174.0313\" x=\"183.2175\" y=\"211.9063\"/><text fill=\"#000000\" font-family=\"sans-serif\" font-size=\"12\" lengthAdjust=\"spacing\" textLength=\"154.0313\" x=\"193.2175\" y=\"233.0449\">Deal cards to each player</text><rect fill=\"#F1F1F1\" height=\"33.9688\" rx=\"12.5\" ry=\"12.5\" style=\"stroke:#181818;stroke-width:0.5;\" width=\"175.5137\" x=\"182.4763\" y=\"265.875\"/><text fill=\"#000000\" font-family=\"sans-serif\" font-size=\"12\" lengthAdjust=\"spacing\" textLength=\"155.5137\" x=\"192.4763\" y=\"287.0137\">Determine starting player</text><rect fill=\"#F1F1F1\" height=\"33.9688\" rx=\"12.5\" ry=\"12.5\" style=\"stroke:#181818;stroke-width:0.5;\" width=\"206.4102\" x=\"167.0281\" y=\"319.8438\"/><text fill=\"#000000\" font-family=\"sans-serif\" font-size=\"12\" lengthAdjust=\"spacing\" textLength=\"186.4102\" x=\"177.0281\" y=\"340.9824\">Display top card of discard pile</text><rect fill=\"#F1F1F1\" height=\"33.9688\" rx=\"12.5\" ry=\"12.5\" style=\"stroke:#181818;stroke-width:0.5;\" width=\"186.2773\" x=\"177.0945\" y=\"417.8125\"/><text fill=\"#000000\" font-family=\"sans-serif\" font-size=\"12\" lengthAdjust=\"spacing\" textLength=\"166.2773\" x=\"187.0945\" y=\"438.9512\">Current player checks hand</text><polygon fill=\"#F1F1F1\" points=\"217.8811,471.7813,322.5852,471.7813,334.5852,483.7813,322.5852,495.7813,217.8811,495.7813,205.8811,483.7813,217.8811,471.7813\" style=\"stroke:#181818;stroke-width:0.5;\"/><text fill=\"#000000\" font-family=\"sans-serif\" font-size=\"11\" lengthAdjust=\"spacing\" textLength=\"104.7041\" x=\"217.8811\" y=\"487.5894\">Has playable card?</text><text fill=\"#000000\" font-family=\"sans-serif\" font-size=\"11\" lengthAdjust=\"spacing\" textLength=\"19.2178\" x=\"186.6633\" y=\"481.187\">Yes</text><text fill=\"#000000\" font-family=\"sans-serif\" font-size=\"11\" lengthAdjust=\"spacing\" textLength=\"14.9585\" x=\"334.5852\" y=\"481.187\">No</text><rect fill=\"#F1F1F1\" height=\"33.9688\" rx=\"12.5\" ry=\"12.5\" style=\"stroke:#181818;stroke-width:0.5;\" width=\"151.4141\" x=\"24.0459\" y=\"562.7813\"/><text fill=\"#000000\" font-family=\"sans-serif\" font-size=\"12\" lengthAdjust=\"spacing\" textLength=\"131.4141\" x=\"34.0459\" y=\"583.9199\">Player chooses a card</text><rect fill=\"#F1F1F1\" height=\"33.9688\" rx=\"12.5\" ry=\"12.5\" style=\"stroke:#181818;stroke-width:0.5;\" width=\"106.6191\" x=\"46.4434\" y=\"631.75\"/><text fill=\"#000000\" font-family=\"sans-serif\" font-size=\"12\" lengthAdjust=\"spacing\" textLength=\"86.6191\" x=\"56.4434\" y=\"652.8887\">Validate move</text><polygon fill=\"#F1F1F1\" points=\"99.7529,505.7813,111.7529,517.7813,99.7529,529.7813,87.7529,517.7813,99.7529,505.7813\" style=\"stroke:#181818;stroke-width:0.5;\"/><polygon fill=\"#F1F1F1\" points=\"66.0439,713.7188,133.4619,713.7188,145.4619,725.7188,133.4619,737.7188,66.0439,737.7188,54.0439,725.7188,66.0439,713.7188\" style=\"stroke:#181818;stroke-width:0.5;\"/><text fill=\"#000000\" font-family=\"sans-serif\" font-size=\"11\" lengthAdjust=\"spacing\" textLength=\"67.418\" x=\"66.0439\" y=\"729.5269\">Valid move?</text><rect fill=\"#F1F1F1\" height=\"33.9688\" rx=\"12.5\" ry=\"12.5\" style=\"stroke:#181818;stroke-width:0.5;\" width=\"98.8496\" x=\"50.3281\" y=\"768.3164\"/><text fill=\"#000000\" font-family=\"sans-serif\" font-size=\"12\" lengthAdjust=\"spacing\" textLength=\"78.8496\" x=\"60.3281\" y=\"789.4551\">Play the card</text><rect fill=\"#F1F1F1\" height=\"33.9688\" rx=\"12.5\" ry=\"12.5\" style=\"stroke:#181818;stroke-width:0.5;\" width=\"176.2109\" x=\"11.6475\" y=\"883.8828\"/><text fill=\"#000000\" font-family=\"sans-serif\" font-size=\"12\" lengthAdjust=\"spacing\" textLength=\"156.2109\" x=\"21.6475\" y=\"905.0215\">Player selects a new color</text><polygon fill=\"#F1F1F1\" points=\"63.9949,835.4805,135.511,835.4805,147.511,847.4805,135.511,859.4805,63.9949,859.4805,51.9949,847.4805,63.9949,835.4805\" style=\"stroke:#181818;stroke-width:0.5;\"/><text fill=\"#000000\" font-family=\"sans-serif\" font-size=\"11\" lengthAdjust=\"spacing\" textLength=\"19.2178\" x=\"103.7529\" y=\"869.6909\">Yes</text><text fill=\"#000000\" font-family=\"sans-serif\" font-size=\"11\" lengthAdjust=\"spacing\" textLength=\"71.5161\" x=\"63.9949\" y=\"851.2886\">Card is Wild?</text><polygon fill=\"#F1F1F1\" points=\"99.7529,942.2539,111.7529,954.2539,99.7529,966.2539,87.7529,954.2539,99.7529,942.2539\" style=\"stroke:#181818;stroke-width:0.5;\"/><rect fill=\"#F1F1F1\" height=\"33.9688\" rx=\"12.5\" ry=\"12.5\" style=\"stroke:#181818;stroke-width:0.5;\" width=\"177.5059\" x=\"11\" y=\"1045.2539\"/><text fill=\"#000000\" font-family=\"sans-serif\" font-size=\"12\" lengthAdjust=\"spacing\" textLength=\"157.5059\" x=\"21\" y=\"1066.3926\">Next player draws 2 cards</text><rect fill=\"#F1F1F1\" height=\"33.9688\" rx=\"12.5\" ry=\"12.5\" style=\"stroke:#181818;stroke-width:0.5;\" width=\"155.8789\" x=\"21.8135\" y=\"1114.2227\"/><text fill=\"#000000\" font-family=\"sans-serif\" font-size=\"12\" lengthAdjust=\"spacing\" textLength=\"135.8789\" x=\"31.8135\" y=\"1135.3613\">Skip next player's turn</text><polygon fill=\"#F1F1F1\" points=\"48.6443,996.8516,150.8616,996.8516,162.8616,1008.8516,150.8616,1020.8516,48.6443,1020.8516,36.6443,1008.8516,48.6443,996.8516\" style=\"stroke:#181818;stroke-width:0.5;\"/><text fill=\"#000000\" font-family=\"sans-serif\" font-size=\"11\" lengthAdjust=\"spacing\" textLength=\"19.2178\" x=\"103.7529\" y=\"1031.062\">Yes</text><text fill=\"#000000\" font-family=\"sans-serif\" font-size=\"11\" lengthAdjust=\"spacing\" textLength=\"102.2173\" x=\"48.6443\" y=\"1012.6597\">Card is Draw Two?</text><polygon fill=\"#F1F1F1\" points=\"99.7529,1172.5938,111.7529,1184.5938,99.7529,1196.5938,87.7529,1184.5938,99.7529,1172.5938\" style=\"stroke:#181818;stroke-width:0.5;\"/><rect fill=\"#F1F1F1\" height=\"33.9688\" rx=\"12.5\" ry=\"12.5\" style=\"stroke:#181818;stroke-width:0.5;\" width=\"155.8789\" x=\"21.8135\" y=\"1278.1914\"/><text fill=\"#000000\" font-family=\"sans-serif\" font-size=\"12\" lengthAdjust=\"spacing\" textLength=\"135.8789\" x=\"31.8135\" y=\"1299.3301\">Skip next player's turn</text><polygon fill=\"#F1F1F1\" points=\"64.2849,1229.7891,135.2209,1229.7891,147.2209,1241.7891,135.2209,1253.7891,64.2849,1253.7891,52.2849,1241.7891,64.2849,1229.7891\" style=\"stroke:#181818;stroke-width:0.5;\"/><text fill=\"#000000\" font-family=\"sans-serif\" font-size=\"11\" lengthAdjust=\"spacing\" textLength=\"19.2178\" x=\"103.7529\" y=\"1263.9995\">Yes</text><text fill=\"#000000\" font-family=\"sans-serif\" font-size=\"11\" lengthAdjust=\"spacing\" textLength=\"70.936\" x=\"64.2849\" y=\"1245.5972\">Card is Skip?</text><polygon fill=\"#F1F1F1\" points=\"99.7529,1336.5625,111.7529,1348.5625,99.7529,1360.5625,87.7529,1348.5625,99.7529,1336.5625\" style=\"stroke:#181818;stroke-width:0.5;\"/><rect fill=\"#F1F1F1\" height=\"33.9688\" rx=\"12.5\" ry=\"12.5\" style=\"stroke:#181818;stroke-width:0.5;\" width=\"133.4609\" x=\"33.0225\" y=\"1442.1602\"/><text fill=\"#000000\" font-family=\"sans-serif\" font-size=\"12\" lengthAdjust=\"spacing\" textLength=\"113.4609\" x=\"43.0225\" y=\"1463.2988\">Reverse turn order</text><polygon fill=\"#F1F1F1\" points=\"53.626,1393.7578,145.8799,1393.7578,157.8799,1405.7578,145.8799,1417.7578,53.626,1417.7578,41.626,1405.7578,53.626,1393.7578\" style=\"stroke:#181818;stroke-width:0.5;\"/><text fill=\"#000000\" font-family=\"sans-serif\" font-size=\"11\" lengthAdjust=\"spacing\" textLength=\"19.2178\" x=\"103.7529\" y=\"1427.9683\">Yes</text><text fill=\"#000000\" font-family=\"sans-serif\" font-size=\"11\" lengthAdjust=\"spacing\" textLength=\"92.2539\" x=\"53.626\" y=\"1409.5659\">Card is Reverse?</text><polygon fill=\"#F1F1F1\" points=\"99.7529,1498.7266,111.7529,1510.7266,99.7529,1522.7266,87.7529,1510.7266,99.7529,1498.7266\" style=\"stroke:#181818;stroke-width:0.5;\"/><rect fill=\"#F1F1F1\" height=\"33.9688\" rx=\"12.5\" ry=\"12.5\" style=\"stroke:#181818;stroke-width:0.5;\" width=\"176.2109\" x=\"11.6475\" y=\"1598.5\"/><text fill=\"#000000\" font-family=\"sans-serif\" font-size=\"12\" lengthAdjust=\"spacing\" textLength=\"156.2109\" x=\"21.6475\" y=\"1619.6387\">Player selects a new color</text><rect fill=\"#F1F1F1\" height=\"33.9688\" rx=\"12.5\" ry=\"12.5\" style=\"stroke:#181818;stroke-width:0.5;\" width=\"177.5059\" x=\"11\" y=\"1667.4688\"/><text fill=\"#000000\" font-family=\"sans-serif\" font-size=\"12\" lengthAdjust=\"spacing\" textLength=\"157.5059\" x=\"21\" y=\"1688.6074\">Next player draws 4 cards</text><rect fill=\"#F1F1F1\" height=\"33.9688\" rx=\"12.5\" ry=\"12.5\" style=\"stroke:#181818;stroke-width:0.5;\" width=\"155.8789\" x=\"21.8135\" y=\"1721.4375\"/><text fill=\"#000000\" font-family=\"sans-serif\" font-size=\"12\" lengthAdjust=\"spacing\" textLength=\"135.8789\" x=\"31.8135\" y=\"1742.5762\">Skip next player's turn</text><polygon fill=\"#F1F1F1\" points=\"42.634,1550.0977,156.8718,1550.0977,168.8718,1562.0977,156.8718,1574.0977,42.634,1574.0977,30.634,1562.0977,42.634,1550.0977\" style=\"stroke:#181818;stroke-width:0.5;\"/><text fill=\"#000000\" font-family=\"sans-serif\" font-size=\"11\" lengthAdjust=\"spacing\" textLength=\"19.2178\" x=\"103.7529\" y=\"1584.3081\">Yes</text><text fill=\"#000000\" font-family=\"sans-serif\" font-size=\"11\" lengthAdjust=\"spacing\" textLength=\"114.2378\" x=\"42.634\" y=\"1565.9058\">Card is Wild Draw 4?</text><polygon fill=\"#F1F1F1\" points=\"99.7529,1775.4063,111.7529,1787.4063,99.7529,1799.4063,87.7529,1787.4063,99.7529,1775.4063\" style=\"stroke:#181818;stroke-width:0.5;\"/><rect fill=\"#F1F1F1\" height=\"33.9688\" rx=\"12.5\" ry=\"12.5\" style=\"stroke:#181818;stroke-width:0.5;\" width=\"138.6113\" x=\"371.4077\" y=\"505.7813\"/><text fill=\"#000000\" font-family=\"sans-serif\" font-size=\"12\" lengthAdjust=\"spacing\" textLength=\"118.6113\" x=\"381.4077\" y=\"526.9199\">Player draws a card</text><polygon fill=\"#F1F1F1\" points=\"374.7402,559.75,506.6865,559.75,518.6865,571.75,506.6865,583.75,374.7402,583.75,362.7402,571.75,374.7402,559.75\" style=\"stroke:#181818;stroke-width:0.5;\"/><text fill=\"#000000\" font-family=\"sans-serif\" font-size=\"11\" lengthAdjust=\"spacing\" textLength=\"131.9463\" x=\"374.7402\" y=\"575.5581\">Drawn card is playable?</text><text fill=\"#000000\" font-family=\"sans-serif\" font-size=\"11\" lengthAdjust=\"spacing\" textLength=\"19.2178\" x=\"343.5225\" y=\"569.1558\">Yes</text><text fill=\"#000000\" font-family=\"sans-serif\" font-size=\"11\" lengthAdjust=\"spacing\" textLength=\"14.9585\" x=\"518.6865\" y=\"569.1558\">No</text><rect fill=\"#F1F1F1\" height=\"33.9688\" rx=\"12.5\" ry=\"12.5\" style=\"stroke:#181818;stroke-width:0.5;\" width=\"116.4805\" x=\"281.0186\" y=\"593.75\"/><text fill=\"#000000\" font-family=\"sans-serif\" font-size=\"12\" lengthAdjust=\"spacing\" textLength=\"96.4805\" x=\"291.0186\" y=\"614.8887\">Play drawn card</text><rect fill=\"#F1F1F1\" height=\"33.9688\" rx=\"12.5\" ry=\"12.5\" style=\"stroke:#181818;stroke-width:0.5;\" width=\"176.2109\" x=\"251.1533\" y=\"711.1211\"/><text fill=\"#000000\" font-family=\"sans-serif\" font-size=\"12\" lengthAdjust=\"spacing\" textLength=\"156.2109\" x=\"261.1533\" y=\"732.2598\">Player selects a new color</text><polygon fill=\"#F1F1F1\" points=\"303.5007,662.7188,375.0168,662.7188,387.0168,674.7188,375.0168,686.7188,303.5007,686.7188,291.5007,674.7188,303.5007,662.7188\" style=\"stroke:#181818;stroke-width:0.5;\"/><text fill=\"#000000\" font-family=\"sans-serif\" font-size=\"11\" lengthAdjust=\"spacing\" textLength=\"19.2178\" x=\"343.2588\" y=\"696.9292\">Yes</text><text fill=\"#000000\" font-family=\"sans-serif\" font-size=\"11\" lengthAdjust=\"spacing\" textLength=\"71.5161\" x=\"303.5007\" y=\"678.5269\">Card is Wild?</text><polygon fill=\"#F1F1F1\" points=\"339.2588,765.0898,351.2588,777.0898,339.2588,789.0898,327.2588,777.0898,339.2588,765.0898\" style=\"stroke:#181818;stroke-width:0.5;\"/><rect fill=\"#F1F1F1\" height=\"33.9688\" rx=\"12.5\" ry=\"12.5\" style=\"stroke:#181818;stroke-width:0.5;\" width=\"177.5059\" x=\"250.5059\" y=\"870.6875\"/><text fill=\"#000000\" font-family=\"sans-serif\" font-size=\"12\" lengthAdjust=\"spacing\" textLength=\"157.5059\" x=\"260.5059\" y=\"891.8262\">Next player draws 2 cards</text><rect fill=\"#F1F1F1\" height=\"33.9688\" rx=\"12.5\" ry=\"12.5\" style=\"stroke:#181818;stroke-width:0.5;\" width=\"155.8789\" x=\"261.3193\" y=\"939.6563\"/><text fill=\"#000000\" font-family=\"sans-serif\" font-size=\"12\" lengthAdjust=\"spacing\" textLength=\"135.8789\" x=\"271.3193\" y=\"960.7949\">Skip next player's turn</text><polygon fill=\"#F1F1F1\" points=\"288.1501,822.2852,390.3674,822.2852,402.3674,834.2852,390.3674,846.2852,288.1501,846.2852,276.1501,834.2852,288.1501,822.2852\" style=\"stroke:#181818;stroke-width:0.5;\"/><text fill=\"#000000\" font-family=\"sans-serif\" font-size=\"11\" lengthAdjust=\"spacing\" textLength=\"19.2178\" x=\"343.2588\" y=\"856.4956\">Yes</text><text fill=\"#000000\" font-family=\"sans-serif\" font-size=\"11\" lengthAdjust=\"spacing\" textLength=\"102.2173\" x=\"288.1501\" y=\"838.0933\">Card is Draw Two?</text><polygon fill=\"#F1F1F1\" points=\"339.2588,993.625,351.2588,1005.625,339.2588,1017.625,327.2588,1005.625,339.2588,993.625\" style=\"stroke:#181818;stroke-width:0.5;\"/><rect fill=\"#F1F1F1\" height=\"33.9688\" rx=\"12.5\" ry=\"12.5\" style=\"stroke:#181818;stroke-width:0.5;\" width=\"155.8789\" x=\"261.3193\" y=\"1101.0273\"/><text fill=\"#000000\" font-family=\"sans-serif\" font-size=\"12\" lengthAdjust=\"spacing\" textLength=\"135.8789\" x=\"271.3193\" y=\"1122.166\">Skip next player's turn</text><polygon fill=\"#F1F1F1\" points=\"303.7908,1052.625,374.7268,1052.625,386.7268,1064.625,374.7268,1076.625,303.7908,1076.625,291.7908,1064.625,303.7908,1052.625\" style=\"stroke:#181818;stroke-width:0.5;\"/><text fill=\"#000000\" font-family=\"sans-serif\" font-size=\"11\" lengthAdjust=\"spacing\" textLength=\"19.2178\" x=\"343.2588\" y=\"1086.8354\">Yes</text><text fill=\"#000000\" font-family=\"sans-serif\" font-size=\"11\" lengthAdjust=\"spacing\" textLength=\"70.936\" x=\"303.7908\" y=\"1068.4331\">Card is Skip?</text><polygon fill=\"#F1F1F1\" points=\"339.2588,1159.3984,351.2588,1171.3984,339.2588,1183.3984,327.2588,1171.3984,339.2588,1159.3984\" style=\"stroke:#181818;stroke-width:0.5;\"/><rect fill=\"#F1F1F1\" height=\"33.9688\" rx=\"12.5\" ry=\"12.5\" style=\"stroke:#181818;stroke-width:0.5;\" width=\"133.4609\" x=\"272.5283\" y=\"1264.9961\"/><text fill=\"#000000\" font-family=\"sans-serif\" font-size=\"12\" lengthAdjust=\"spacing\" textLength=\"113.4609\" x=\"282.5283\" y=\"1286.1348\">Reverse turn order</text><polygon fill=\"#F1F1F1\" points=\"293.1318,1216.5938,385.3857,1216.5938,397.3857,1228.5938,385.3857,1240.5938,293.1318,1240.5938,281.1318,1228.5938,293.1318,1216.5938\" style=\"stroke:#181818;stroke-width:0.5;\"/><text fill=\"#000000\" font-family=\"sans-serif\" font-size=\"11\" lengthAdjust=\"spacing\" textLength=\"19.2178\" x=\"343.2588\" y=\"1250.8042\">Yes</text><text fill=\"#000000\" font-family=\"sans-serif\" font-size=\"11\" lengthAdjust=\"spacing\" textLength=\"92.2539\" x=\"293.1318\" y=\"1232.4019\">Card is Reverse?</text><polygon fill=\"#F1F1F1\" points=\"339.2588,1323.3672,351.2588,1335.3672,339.2588,1347.3672,327.2588,1335.3672,339.2588,1323.3672\" style=\"stroke:#181818;stroke-width:0.5;\"/><rect fill=\"#F1F1F1\" height=\"33.9688\" rx=\"12.5\" ry=\"12.5\" style=\"stroke:#181818;stroke-width:0.5;\" width=\"176.2109\" x=\"251.1533\" y=\"1428.9648\"/><text fill=\"#000000\" font-family=\"sans-serif\" font-size=\"12\" lengthAdjust=\"spacing\" textLength=\"156.2109\" x=\"261.1533\" y=\"1450.1035\">Player selects a new color</text><rect fill=\"#F1F1F1\" height=\"33.9688\" rx=\"12.5\" ry=\"12.5\" style=\"stroke:#181818;stroke-width:0.5;\" width=\"177.5059\" x=\"250.5059\" y=\"1496.1289\"/><text fill=\"#000000\" font-family=\"sans-serif\" font-size=\"12\" lengthAdjust=\"spacing\" textLength=\"157.5059\" x=\"260.5059\" y=\"1517.2676\">Next player draws 4 cards</text><rect fill=\"#F1F1F1\" height=\"33.9688\" rx=\"12.5\" ry=\"12.5\" style=\"stroke:#181818;stroke-width:0.5;\" width=\"155.8789\" x=\"261.3193\" y=\"1557.4688\"/><text fill=\"#000000\" font-family=\"sans-serif\" font-size=\"12\" lengthAdjust=\"spacing\" textLength=\"135.8789\" x=\"271.3193\" y=\"1578.6074\">Skip next player's turn</text><polygon fill=\"#F1F1F1\" points=\"282.1399,1380.5625,396.3777,1380.5625,408.3777,1392.5625,396.3777,1404.5625,282.1399,1404.5625,270.1399,1392.5625,282.1399,1380.5625\" style=\"stroke:#181818;stroke-width:0.5;\"/><text fill=\"#000000\" font-family=\"sans-serif\" font-size=\"11\" lengthAdjust=\"spacing\" textLength=\"19.2178\" x=\"343.2588\" y=\"1414.7729\">Yes</text><text fill=\"#000000\" font-family=\"sans-serif\" font-size=\"11\" lengthAdjust=\"spacing\" textLength=\"114.2378\" x=\"282.1399\" y=\"1396.3706\">Card is Wild Draw 4?</text><polygon fill=\"#F1F1F1\" points=\"339.2588,1615.8398,351.2588,1627.8398,339.2588,1639.8398,327.2588,1627.8398,339.2588,1615.8398\" style=\"stroke:#181818;stroke-width:0.5;\"/><rect fill=\"#F1F1F1\" height=\"33.9688\" rx=\"12.5\" ry=\"12.5\" style=\"stroke:#181818;stroke-width:0.5;\" width=\"144.3125\" x=\"470.0117\" y=\"593.75\"/><text fill=\"#000000\" font-family=\"sans-serif\" font-size=\"12\" lengthAdjust=\"spacing\" textLength=\"124.3125\" x=\"480.0117\" y=\"614.8887\">Player keep the card</text><polygon fill=\"#F1F1F1\" points=\"440.7134,1645.8398,452.7134,1657.8398,440.7134,1669.8398,428.7134,1657.8398,440.7134,1645.8398\" style=\"stroke:#181818;stroke-width:0.5;\"/><polygon fill=\"#F1F1F1\" points=\"270.2332,1805.4063,282.2332,1817.4063,270.2332,1829.4063,258.2332,1817.4063,270.2332,1805.4063\" style=\"stroke:#181818;stroke-width:0.5;\"/><rect fill=\"#F1F1F1\" height=\"33.9688\" rx=\"12.5\" ry=\"12.5\" style=\"stroke:#181818;stroke-width:0.5;\" width=\"169.6719\" x=\"185.3972\" y=\"1897.8086\"/><text fill=\"#000000\" font-family=\"sans-serif\" font-size=\"12\" lengthAdjust=\"spacing\" textLength=\"149.6719\" x=\"195.3972\" y=\"1918.9473\">Declare player as winner</text><ellipse cx=\"270.2332\" cy=\"1971.293\" fill=\"none\" rx=\"11\" ry=\"11\" style=\"stroke:#222222;stroke-width:1;\"/><ellipse cx=\"270.2332\" cy=\"1971.293\" fill=\"#222222\" rx=\"6\" ry=\"6\" style=\"stroke:#222222;stroke-width:1;\"/><polygon fill=\"#F1F1F1\" points=\"197.2534,1849.4063,343.2129,1849.4063,355.2129,1861.4063,343.2129,1873.4063,197.2534,1873.4063,185.2534,1861.4063,197.2534,1849.4063\" style=\"stroke:#181818;stroke-width:0.5;\"/><text fill=\"#000000\" font-family=\"sans-serif\" font-size=\"11\" lengthAdjust=\"spacing\" textLength=\"19.2178\" x=\"274.2332\" y=\"1883.6167\">Yes</text><text fill=\"#000000\" font-family=\"sans-serif\" font-size=\"11\" lengthAdjust=\"spacing\" textLength=\"145.9595\" x=\"197.2534\" y=\"1865.2144\">Player has no more cards?</text><polygon fill=\"#F1F1F1\" points=\"270.2332,373.8125,282.2332,385.8125,270.2332,397.8125,258.2332,385.8125,270.2332,373.8125\" style=\"stroke:#181818;stroke-width:0.5;\"/><polygon fill=\"#F1F1F1\" points=\"238.9143,2024.293,301.552,2024.293,313.552,2036.293,301.552,2048.293,238.9143,2048.293,226.9143,2036.293,238.9143,2024.293\" style=\"stroke:#181818;stroke-width:0.5;\"/><text fill=\"#000000\" font-family=\"sans-serif\" font-size=\"11\" lengthAdjust=\"spacing\" textLength=\"62.6377\" x=\"238.9143\" y=\"2040.1011\">next player</text><line style=\"stroke:#181818;stroke-width:1;\" x1=\"270.2332\" x2=\"270.2332\" y1=\"30\" y2=\"50\"/><polygon fill=\"#181818\" points=\"266.2332,40,270.2332,50,274.2332,40,270.2332,44\" style=\"stroke:#181818;stroke-width:1;\"/><line style=\"stroke:#181818;stroke-width:1;\" x1=\"270.2332\" x2=\"270.2332\" y1=\"83.9688\" y2=\"103.9688\"/><polygon fill=\"#181818\" points=\"266.2332,93.9688,270.2332,103.9688,274.2332,93.9688,270.2332,97.9688\" style=\"stroke:#181818;stroke-width:1;\"/><line style=\"stroke:#181818;stroke-width:1;\" x1=\"270.2332\" x2=\"270.2332\" y1=\"137.9375\" y2=\"157.9375\"/><polygon fill=\"#181818\" points=\"266.2332,147.9375,270.2332,157.9375,274.2332,147.9375,270.2332,151.9375\" style=\"stroke:#181818;stroke-width:1;\"/><line style=\"stroke:#181818;stroke-width:1;\" x1=\"270.2332\" x2=\"270.2332\" y1=\"191.9063\" y2=\"211.9063\"/><polygon fill=\"#181818\" points=\"266.2332,201.9063,270.2332,211.9063,274.2332,201.9063,270.2332,205.9063\" style=\"stroke:#181818;stroke-width:1;\"/><line style=\"stroke:#181818;stroke-width:1;\" x1=\"270.2332\" x2=\"270.2332\" y1=\"245.875\" y2=\"265.875\"/><polygon fill=\"#181818\" points=\"266.2332,255.875,270.2332,265.875,274.2332,255.875,270.2332,259.875\" style=\"stroke:#181818;stroke-width:1;\"/><line style=\"stroke:#181818;stroke-width:1;\" x1=\"270.2332\" x2=\"270.2332\" y1=\"299.8438\" y2=\"319.8438\"/><polygon fill=\"#181818\" points=\"266.2332,309.8438,270.2332,319.8438,274.2332,309.8438,270.2332,313.8438\" style=\"stroke:#181818;stroke-width:1;\"/><line style=\"stroke:#181818;stroke-width:1;\" x1=\"99.7529\" x2=\"99.7529\" y1=\"596.75\" y2=\"631.75\"/><polygon fill=\"#181818\" points=\"95.7529,621.75,99.7529,631.75,103.7529,621.75,99.7529,625.75\" style=\"stroke:#181818;stroke-width:1;\"/><line style=\"stroke:#181818;stroke-width:1;\" x1=\"99.7529\" x2=\"99.7529\" y1=\"529.7813\" y2=\"562.7813\"/><polygon fill=\"#181818\" points=\"95.7529,552.7813,99.7529,562.7813,103.7529,552.7813,99.7529,556.7813\" style=\"stroke:#181818;stroke-width:1;\"/><line style=\"stroke:#181818;stroke-width:1;\" x1=\"145.4619\" x2=\"187.46\" y1=\"725.7188\" y2=\"725.7188\"/><polygon fill=\"#181818\" points=\"183.46,624.25,187.46,614.25,191.46,624.25,187.46,620.25\" style=\"stroke:#181818;stroke-width:1;\"/><line style=\"stroke:#181818;stroke-width:1;\" x1=\"187.46\" x2=\"187.46\" y1=\"517.7813\" y2=\"725.7188\"/><line style=\"stroke:#181818;stroke-width:1;\" x1=\"187.46\" x2=\"111.7529\" y1=\"517.7813\" y2=\"517.7813\"/><polygon fill=\"#181818\" points=\"121.7529,513.7813,111.7529,517.7813,121.7529,521.7813,117.7529,517.7813\" style=\"stroke:#181818;stroke-width:1;\"/><text fill=\"#000000\" font-family=\"sans-serif\" font-size=\"11\" lengthAdjust=\"spacing\" textLength=\"14.9585\" x=\"191.46\" y=\"729.5269\">No</text><line style=\"stroke:#181818;stroke-width:1;\" x1=\"99.7529\" x2=\"99.7529\" y1=\"665.7188\" y2=\"713.7188\"/><polygon fill=\"#181818\" points=\"95.7529,703.7188,99.7529,713.7188,103.7529,703.7188,99.7529,707.7188\" style=\"stroke:#181818;stroke-width:1;\"/><line style=\"stroke:#181818;stroke-width:1;\" x1=\"99.7529\" x2=\"99.7529\" y1=\"737.7188\" y2=\"768.3164\"/><polygon fill=\"#181818\" points=\"95.7529,758.3164,99.7529,768.3164,103.7529,758.3164,99.7529,762.3164\" style=\"stroke:#181818;stroke-width:1;\"/><line style=\"stroke:#181818;stroke-width:1;\" x1=\"99.7529\" x2=\"99.7529\" y1=\"859.4805\" y2=\"883.8828\"/><polygon fill=\"#181818\" points=\"95.7529,873.8828,99.7529,883.8828,103.7529,873.8828,99.7529,877.8828\" style=\"stroke:#181818;stroke-width:1;\"/><line style=\"stroke:#181818;stroke-width:1;\" x1=\"147.511\" x2=\"197.8584\" y1=\"847.4805\" y2=\"847.4805\"/><polygon fill=\"#181818\" points=\"193.8584,890.8672,197.8584,900.8672,201.8584,890.8672,197.8584,894.8672\" style=\"stroke:#181818;stroke-width:1;\"/><line style=\"stroke:#181818;stroke-width:1;\" x1=\"197.8584\" x2=\"197.8584\" y1=\"847.4805\" y2=\"954.2539\"/><line style=\"stroke:#181818;stroke-width:1;\" x1=\"197.8584\" x2=\"111.7529\" y1=\"954.2539\" y2=\"954.2539\"/><polygon fill=\"#181818\" points=\"121.7529,950.2539,111.7529,954.2539,121.7529,958.2539,117.7529,954.2539\" style=\"stroke:#181818;stroke-width:1;\"/><line style=\"stroke:#181818;stroke-width:1;\" x1=\"99.7529\" x2=\"99.7529\" y1=\"917.8516\" y2=\"942.2539\"/><polygon fill=\"#181818\" points=\"95.7529,932.2539,99.7529,942.2539,103.7529,932.2539,99.7529,936.2539\" style=\"stroke:#181818;stroke-width:1;\"/><line style=\"stroke:#181818;stroke-width:1;\" x1=\"99.7529\" x2=\"99.7529\" y1=\"802.2852\" y2=\"835.4805\"/><polygon fill=\"#181818\" points=\"95.7529,825.4805,99.7529,835.4805,103.7529,825.4805,99.7529,829.4805\" style=\"stroke:#181818;stroke-width:1;\"/><line style=\"stroke:#181818;stroke-width:1;\" x1=\"99.7529\" x2=\"99.7529\" y1=\"1079.2227\" y2=\"1114.2227\"/><polygon fill=\"#181818\" points=\"95.7529,1104.2227,99.7529,1114.2227,103.7529,1104.2227,99.7529,1108.2227\" style=\"stroke:#181818;stroke-width:1;\"/><line style=\"stroke:#181818;stroke-width:1;\" x1=\"99.7529\" x2=\"99.7529\" y1=\"1020.8516\" y2=\"1045.2539\"/><polygon fill=\"#181818\" points=\"95.7529,1035.2539,99.7529,1045.2539,103.7529,1035.2539,99.7529,1039.2539\" style=\"stroke:#181818;stroke-width:1;\"/><line style=\"stroke:#181818;stroke-width:1;\" x1=\"162.8616\" x2=\"198.5059\" y1=\"1008.8516\" y2=\"1008.8516\"/><polygon fill=\"#181818\" points=\"194.5059,1086.7227,198.5059,1096.7227,202.5059,1086.7227,198.5059,1090.7227\" style=\"stroke:#181818;stroke-width:1;\"/><line style=\"stroke:#181818;stroke-width:1;\" x1=\"198.5059\" x2=\"198.5059\" y1=\"1008.8516\" y2=\"1184.5938\"/><line style=\"stroke:#181818;stroke-width:1;\" x1=\"198.5059\" x2=\"111.7529\" y1=\"1184.5938\" y2=\"1184.5938\"/><polygon fill=\"#181818\" points=\"121.7529,1180.5938,111.7529,1184.5938,121.7529,1188.5938,117.7529,1184.5938\" style=\"stroke:#181818;stroke-width:1;\"/><line style=\"stroke:#181818;stroke-width:1;\" x1=\"99.7529\" x2=\"99.7529\" y1=\"1148.1914\" y2=\"1172.5938\"/><polygon fill=\"#181818\" points=\"95.7529,1162.5938,99.7529,1172.5938,103.7529,1162.5938,99.7529,1166.5938\" style=\"stroke:#181818;stroke-width:1;\"/><line style=\"stroke:#181818;stroke-width:1;\" x1=\"99.7529\" x2=\"99.7529\" y1=\"966.2539\" y2=\"996.8516\"/><polygon fill=\"#181818\" points=\"95.7529,986.8516,99.7529,996.8516,103.7529,986.8516,99.7529,990.8516\" style=\"stroke:#181818;stroke-width:1;\"/><line style=\"stroke:#181818;stroke-width:1;\" x1=\"99.7529\" x2=\"99.7529\" y1=\"1253.7891\" y2=\"1278.1914\"/><polygon fill=\"#181818\" points=\"95.7529,1268.1914,99.7529,1278.1914,103.7529,1268.1914,99.7529,1272.1914\" style=\"stroke:#181818;stroke-width:1;\"/><line style=\"stroke:#181818;stroke-width:1;\" x1=\"147.2209\" x2=\"187.6924\" y1=\"1241.7891\" y2=\"1241.7891\"/><polygon fill=\"#181818\" points=\"183.6924,1285.1758,187.6924,1295.1758,191.6924,1285.1758,187.6924,1289.1758\" style=\"stroke:#181818;stroke-width:1;\"/><line style=\"stroke:#181818;stroke-width:1;\" x1=\"187.6924\" x2=\"187.6924\" y1=\"1241.7891\" y2=\"1348.5625\"/><line style=\"stroke:#181818;stroke-width:1;\" x1=\"187.6924\" x2=\"111.7529\" y1=\"1348.5625\" y2=\"1348.5625\"/><polygon fill=\"#181818\" points=\"121.7529,1344.5625,111.7529,1348.5625,121.7529,1352.5625,117.7529,1348.5625\" style=\"stroke:#181818;stroke-width:1;\"/><line style=\"stroke:#181818;stroke-width:1;\" x1=\"99.7529\" x2=\"99.7529\" y1=\"1312.1602\" y2=\"1336.5625\"/><polygon fill=\"#181818\" points=\"95.7529,1326.5625,99.7529,1336.5625,103.7529,1326.5625,99.7529,1330.5625\" style=\"stroke:#181818;stroke-width:1;\"/><line style=\"stroke:#181818;stroke-width:1;\" x1=\"99.7529\" x2=\"99.7529\" y1=\"1196.5938\" y2=\"1229.7891\"/><polygon fill=\"#181818\" points=\"95.7529,1219.7891,99.7529,1229.7891,103.7529,1219.7891,99.7529,1223.7891\" style=\"stroke:#181818;stroke-width:1;\"/><line style=\"stroke:#181818;stroke-width:1;\" x1=\"99.7529\" x2=\"99.7529\" y1=\"1417.7578\" y2=\"1442.1602\"/><polygon fill=\"#181818\" points=\"95.7529,1432.1602,99.7529,1442.1602,103.7529,1432.1602,99.7529,1436.1602\" style=\"stroke:#181818;stroke-width:1;\"/><line style=\"stroke:#181818;stroke-width:1;\" x1=\"157.8799\" x2=\"176.4834\" y1=\"1405.7578\" y2=\"1405.7578\"/><polygon fill=\"#181818\" points=\"172.4834,1449.1445,176.4834,1459.1445,180.4834,1449.1445,176.4834,1453.1445\" style=\"stroke:#181818;stroke-width:1;\"/><line style=\"stroke:#181818;stroke-width:1;\" x1=\"176.4834\" x2=\"176.4834\" y1=\"1405.7578\" y2=\"1510.7266\"/><line style=\"stroke:#181818;stroke-width:1;\" x1=\"176.4834\" x2=\"111.7529\" y1=\"1510.7266\" y2=\"1510.7266\"/><polygon fill=\"#181818\" points=\"121.7529,1506.7266,111.7529,1510.7266,121.7529,1514.7266,117.7529,1510.7266\" style=\"stroke:#181818;stroke-width:1;\"/><line style=\"stroke:#181818;stroke-width:1;\" x1=\"99.7529\" x2=\"99.7529\" y1=\"1476.1289\" y2=\"1498.7266\"/><polygon fill=\"#181818\" points=\"95.7529,1488.7266,99.7529,1498.7266,103.7529,1488.7266,99.7529,1492.7266\" style=\"stroke:#181818;stroke-width:1;\"/><line style=\"stroke:#181818;stroke-width:1;\" x1=\"99.7529\" x2=\"99.7529\" y1=\"1360.5625\" y2=\"1393.7578\"/><polygon fill=\"#181818\" points=\"95.7529,1383.7578,99.7529,1393.7578,103.7529,1383.7578,99.7529,1387.7578\" style=\"stroke:#181818;stroke-width:1;\"/><line style=\"stroke:#181818;stroke-width:1;\" x1=\"99.7529\" x2=\"99.7529\" y1=\"1632.4688\" y2=\"1667.4688\"/><polygon fill=\"#181818\" points=\"95.7529,1657.4688,99.7529,1667.4688,103.7529,1657.4688,99.7529,1661.4688\" style=\"stroke:#181818;stroke-width:1;\"/><line style=\"stroke:#181818;stroke-width:1;\" x1=\"99.7529\" x2=\"99.7529\" y1=\"1701.4375\" y2=\"1721.4375\"/><polygon fill=\"#181818\" points=\"95.7529,1711.4375,99.7529,1721.4375,103.7529,1711.4375,99.7529,1715.4375\" style=\"stroke:#181818;stroke-width:1;\"/><line style=\"stroke:#181818;stroke-width:1;\" x1=\"99.7529\" x2=\"99.7529\" y1=\"1574.0977\" y2=\"1598.5\"/><polygon fill=\"#181818\" points=\"95.7529,1588.5,99.7529,1598.5,103.7529,1588.5,99.7529,1592.5\" style=\"stroke:#181818;stroke-width:1;\"/><line style=\"stroke:#181818;stroke-width:1;\" x1=\"168.8718\" x2=\"198.5059\" y1=\"1562.0977\" y2=\"1562.0977\"/><polygon fill=\"#181818\" points=\"194.5059,1674.4531,198.5059,1684.4531,202.5059,1674.4531,198.5059,1678.4531\" style=\"stroke:#181818;stroke-width:1;\"/><line style=\"stroke:#181818;stroke-width:1;\" x1=\"198.5059\" x2=\"198.5059\" y1=\"1562.0977\" y2=\"1787.4063\"/><line style=\"stroke:#181818;stroke-width:1;\" x1=\"198.5059\" x2=\"111.7529\" y1=\"1787.4063\" y2=\"1787.4063\"/><polygon fill=\"#181818\" points=\"121.7529,1783.4063,111.7529,1787.4063,121.7529,1791.4063,117.7529,1787.4063\" style=\"stroke:#181818;stroke-width:1;\"/><line style=\"stroke:#181818;stroke-width:1;\" x1=\"99.7529\" x2=\"99.7529\" y1=\"1755.4063\" y2=\"1775.4063\"/><polygon fill=\"#181818\" points=\"95.7529,1765.4063,99.7529,1775.4063,103.7529,1765.4063,99.7529,1769.4063\" style=\"stroke:#181818;stroke-width:1;\"/><line style=\"stroke:#181818;stroke-width:1;\" x1=\"99.7529\" x2=\"99.7529\" y1=\"1522.7266\" y2=\"1550.0977\"/><polygon fill=\"#181818\" points=\"95.7529,1540.0977,99.7529,1550.0977,103.7529,1540.0977,99.7529,1544.0977\" style=\"stroke:#181818;stroke-width:1;\"/><line style=\"stroke:#181818;stroke-width:1;\" x1=\"339.2588\" x2=\"339.2588\" y1=\"686.7188\" y2=\"711.1211\"/><polygon fill=\"#181818\" points=\"335.2588,701.1211,339.2588,711.1211,343.2588,701.1211,339.2588,705.1211\" style=\"stroke:#181818;stroke-width:1;\"/><line style=\"stroke:#181818;stroke-width:1;\" x1=\"387.0168\" x2=\"437.3643\" y1=\"674.7188\" y2=\"674.7188\"/><polygon fill=\"#181818\" points=\"433.3643,718.1055,437.3643,728.1055,441.3643,718.1055,437.3643,722.1055\" style=\"stroke:#181818;stroke-width:1;\"/><line style=\"stroke:#181818;stroke-width:1;\" x1=\"437.3643\" x2=\"437.3643\" y1=\"674.7188\" y2=\"777.0898\"/><line style=\"stroke:#181818;stroke-width:1;\" x1=\"437.3643\" x2=\"351.2588\" y1=\"777.0898\" y2=\"777.0898\"/><polygon fill=\"#181818\" points=\"361.2588,773.0898,351.2588,777.0898,361.2588,781.0898,357.2588,777.0898\" style=\"stroke:#181818;stroke-width:1;\"/><line style=\"stroke:#181818;stroke-width:1;\" x1=\"339.2588\" x2=\"339.2588\" y1=\"745.0898\" y2=\"765.0898\"/><polygon fill=\"#181818\" points=\"335.2588,755.0898,339.2588,765.0898,343.2588,755.0898,339.2588,759.0898\" style=\"stroke:#181818;stroke-width:1;\"/><line style=\"stroke:#181818;stroke-width:1;\" x1=\"339.2588\" x2=\"339.2588\" y1=\"627.7188\" y2=\"662.7188\"/><polygon fill=\"#181818\" points=\"335.2588,652.7188,339.2588,662.7188,343.2588,652.7188,339.2588,656.7188\" style=\"stroke:#181818;stroke-width:1;\"/><line style=\"stroke:#181818;stroke-width:1;\" x1=\"339.2588\" x2=\"339.2588\" y1=\"904.6563\" y2=\"939.6563\"/><polygon fill=\"#181818\" points=\"335.2588,929.6563,339.2588,939.6563,343.2588,929.6563,339.2588,933.6563\" style=\"stroke:#181818;stroke-width:1;\"/><line style=\"stroke:#181818;stroke-width:1;\" x1=\"339.2588\" x2=\"339.2588\" y1=\"846.2852\" y2=\"870.6875\"/><polygon fill=\"#181818\" points=\"335.2588,860.6875,339.2588,870.6875,343.2588,860.6875,339.2588,864.6875\" style=\"stroke:#181818;stroke-width:1;\"/><line style=\"stroke:#181818;stroke-width:1;\" x1=\"402.3674\" x2=\"438.0117\" y1=\"834.2852\" y2=\"834.2852\"/><polygon fill=\"#181818\" points=\"434.0117,912.1563,438.0117,922.1563,442.0117,912.1563,438.0117,916.1563\" style=\"stroke:#181818;stroke-width:1;\"/><line style=\"stroke:#181818;stroke-width:1;\" x1=\"438.0117\" x2=\"438.0117\" y1=\"834.2852\" y2=\"1005.625\"/><line style=\"stroke:#181818;stroke-width:1;\" x1=\"438.0117\" x2=\"351.2588\" y1=\"1005.625\" y2=\"1005.625\"/><polygon fill=\"#181818\" points=\"361.2588,1001.625,351.2588,1005.625,361.2588,1009.625,357.2588,1005.625\" style=\"stroke:#181818;stroke-width:1;\"/><line style=\"stroke:#181818;stroke-width:1;\" x1=\"339.2588\" x2=\"339.2588\" y1=\"973.625\" y2=\"993.625\"/><polygon fill=\"#181818\" points=\"335.2588,983.625,339.2588,993.625,343.2588,983.625,339.2588,987.625\" style=\"stroke:#181818;stroke-width:1;\"/><line style=\"stroke:#181818;stroke-width:1;\" x1=\"339.2588\" x2=\"339.2588\" y1=\"789.0898\" y2=\"822.2852\"/><polygon fill=\"#181818\" points=\"335.2588,812.2852,339.2588,822.2852,343.2588,812.2852,339.2588,816.2852\" style=\"stroke:#181818;stroke-width:1;\"/><line style=\"stroke:#181818;stroke-width:1;\" x1=\"339.2588\" x2=\"339.2588\" y1=\"1076.625\" y2=\"1101.0273\"/><polygon fill=\"#181818\" points=\"335.2588,1091.0273,339.2588,1101.0273,343.2588,1091.0273,339.2588,1095.0273\" style=\"stroke:#181818;stroke-width:1;\"/><line style=\"stroke:#181818;stroke-width:1;\" x1=\"386.7268\" x2=\"427.1982\" y1=\"1064.625\" y2=\"1064.625\"/><polygon fill=\"#181818\" points=\"423.1982,1108.0117,427.1982,1118.0117,431.1982,1108.0117,427.1982,1112.0117\" style=\"stroke:#181818;stroke-width:1;\"/><line style=\"stroke:#181818;stroke-width:1;\" x1=\"427.1982\" x2=\"427.1982\" y1=\"1064.625\" y2=\"1171.3984\"/><line style=\"stroke:#181818;stroke-width:1;\" x1=\"427.1982\" x2=\"351.2588\" y1=\"1171.3984\" y2=\"1171.3984\"/><polygon fill=\"#181818\" points=\"361.2588,1167.3984,351.2588,1171.3984,361.2588,1175.3984,357.2588,1171.3984\" style=\"stroke:#181818;stroke-width:1;\"/><line style=\"stroke:#181818;stroke-width:1;\" x1=\"339.2588\" x2=\"339.2588\" y1=\"1134.9961\" y2=\"1159.3984\"/><polygon fill=\"#181818\" points=\"335.2588,1149.3984,339.2588,1159.3984,343.2588,1149.3984,339.2588,1153.3984\" style=\"stroke:#181818;stroke-width:1;\"/><line style=\"stroke:#181818;stroke-width:1;\" x1=\"339.2588\" x2=\"339.2588\" y1=\"1017.625\" y2=\"1052.625\"/><polygon fill=\"#181818\" points=\"335.2588,1042.625,339.2588,1052.625,343.2588,1042.625,339.2588,1046.625\" style=\"stroke:#181818;stroke-width:1;\"/><line style=\"stroke:#181818;stroke-width:1;\" x1=\"339.2588\" x2=\"339.2588\" y1=\"1240.5938\" y2=\"1264.9961\"/><polygon fill=\"#181818\" points=\"335.2588,1254.9961,339.2588,1264.9961,343.2588,1254.9961,339.2588,1258.9961\" style=\"stroke:#181818;stroke-width:1;\"/><line style=\"stroke:#181818;stroke-width:1;\" x1=\"397.3857\" x2=\"415.9893\" y1=\"1228.5938\" y2=\"1228.5938\"/><polygon fill=\"#181818\" points=\"411.9893,1271.9805,415.9893,1281.9805,419.9893,1271.9805,415.9893,1275.9805\" style=\"stroke:#181818;stroke-width:1;\"/><line style=\"stroke:#181818;stroke-width:1;\" x1=\"415.9893\" x2=\"415.9893\" y1=\"1228.5938\" y2=\"1335.3672\"/><line style=\"stroke:#181818;stroke-width:1;\" x1=\"415.9893\" x2=\"351.2588\" y1=\"1335.3672\" y2=\"1335.3672\"/><polygon fill=\"#181818\" points=\"361.2588,1331.3672,351.2588,1335.3672,361.2588,1339.3672,357.2588,1335.3672\" style=\"stroke:#181818;stroke-width:1;\"/><line style=\"stroke:#181818;stroke-width:1;\" x1=\"339.2588\" x2=\"339.2588\" y1=\"1298.9648\" y2=\"1323.3672\"/><polygon fill=\"#181818\" points=\"335.2588,1313.3672,339.2588,1323.3672,343.2588,1313.3672,339.2588,1317.3672\" style=\"stroke:#181818;stroke-width:1;\"/><line style=\"stroke:#181818;stroke-width:1;\" x1=\"339.2588\" x2=\"339.2588\" y1=\"1183.3984\" y2=\"1216.5938\"/><polygon fill=\"#181818\" points=\"335.2588,1206.5938,339.2588,1216.5938,343.2588,1206.5938,339.2588,1210.5938\" style=\"stroke:#181818;stroke-width:1;\"/><line style=\"stroke:#181818;stroke-width:1;\" x1=\"339.2588\" x2=\"339.2588\" y1=\"1462.9336\" y2=\"1496.1289\"/><polygon fill=\"#181818\" points=\"335.2588,1486.1289,339.2588,1496.1289,343.2588,1486.1289,339.2588,1490.1289\" style=\"stroke:#181818;stroke-width:1;\"/><line style=\"stroke:#181818;stroke-width:1;\" x1=\"339.2588\" x2=\"339.2588\" y1=\"1530.0977\" y2=\"1557.4688\"/><polygon fill=\"#181818\" points=\"335.2588,1547.4688,339.2588,1557.4688,343.2588,1547.4688,339.2588,1551.4688\" style=\"stroke:#181818;stroke-width:1;\"/><line style=\"stroke:#181818;stroke-width:1;\" x1=\"339.2588\" x2=\"339.2588\" y1=\"1404.5625\" y2=\"1428.9648\"/><polygon fill=\"#181818\" points=\"335.2588,1418.9648,339.2588,1428.9648,343.2588,1418.9648,339.2588,1422.9648\" style=\"stroke:#181818;stroke-width:1;\"/><line style=\"stroke:#181818;stroke-width:1;\" x1=\"408.3777\" x2=\"438.0117\" y1=\"1392.5625\" y2=\"1392.5625\"/><polygon fill=\"#181818\" points=\"434.0117,1503.1133,438.0117,1513.1133,442.0117,1503.1133,438.0117,1507.1133\" style=\"stroke:#181818;stroke-width:1;\"/><line style=\"stroke:#181818;stroke-width:1;\" x1=\"438.0117\" x2=\"438.0117\" y1=\"1392.5625\" y2=\"1627.8398\"/><line style=\"stroke:#181818;stroke-width:1;\" x1=\"438.0117\" x2=\"351.2588\" y1=\"1627.8398\" y2=\"1627.8398\"/><polygon fill=\"#181818\" points=\"361.2588,1623.8398,351.2588,1627.8398,361.2588,1631.8398,357.2588,1627.8398\" style=\"stroke:#181818;stroke-width:1;\"/><line style=\"stroke:#181818;stroke-width:1;\" x1=\"339.2588\" x2=\"339.2588\" y1=\"1591.4375\" y2=\"1615.8398\"/><polygon fill=\"#181818\" points=\"335.2588,1605.8398,339.2588,1615.8398,343.2588,1605.8398,339.2588,1609.8398\" style=\"stroke:#181818;stroke-width:1;\"/><line style=\"stroke:#181818;stroke-width:1;\" x1=\"339.2588\" x2=\"339.2588\" y1=\"1347.3672\" y2=\"1380.5625\"/><polygon fill=\"#181818\" points=\"335.2588,1370.5625,339.2588,1380.5625,343.2588,1370.5625,339.2588,1374.5625\" style=\"stroke:#181818;stroke-width:1;\"/><line style=\"stroke:#181818;stroke-width:1;\" x1=\"362.7402\" x2=\"339.2588\" y1=\"571.75\" y2=\"571.75\"/><line style=\"stroke:#181818;stroke-width:1;\" x1=\"339.2588\" x2=\"339.2588\" y1=\"571.75\" y2=\"593.75\"/><polygon fill=\"#181818\" points=\"335.2588,583.75,339.2588,593.75,343.2588,583.75,339.2588,587.75\" style=\"stroke:#181818;stroke-width:1;\"/><line style=\"stroke:#181818;stroke-width:1;\" x1=\"518.6865\" x2=\"542.168\" y1=\"571.75\" y2=\"571.75\"/><line style=\"stroke:#181818;stroke-width:1;\" x1=\"542.168\" x2=\"542.168\" y1=\"571.75\" y2=\"593.75\"/><polygon fill=\"#181818\" points=\"538.168,583.75,542.168,593.75,546.168,583.75,542.168,587.75\" style=\"stroke:#181818;stroke-width:1;\"/><line style=\"stroke:#181818;stroke-width:1;\" x1=\"339.2588\" x2=\"339.2588\" y1=\"1639.8398\" y2=\"1657.8398\"/><line style=\"stroke:#181818;stroke-width:1;\" x1=\"339.2588\" x2=\"428.7134\" y1=\"1657.8398\" y2=\"1657.8398\"/><polygon fill=\"#181818\" points=\"418.7134,1653.8398,428.7134,1657.8398,418.7134,1661.8398,422.7134,1657.8398\" style=\"stroke:#181818;stroke-width:1;\"/><line style=\"stroke:#181818;stroke-width:1;\" x1=\"542.168\" x2=\"542.168\" y1=\"627.7188\" y2=\"1657.8398\"/><line style=\"stroke:#181818;stroke-width:1;\" x1=\"542.168\" x2=\"452.7134\" y1=\"1657.8398\" y2=\"1657.8398\"/><polygon fill=\"#181818\" points=\"462.7134,1653.8398,452.7134,1657.8398,462.7134,1661.8398,458.7134,1657.8398\" style=\"stroke:#181818;stroke-width:1;\"/><line style=\"stroke:#181818;stroke-width:1;\" x1=\"440.7134\" x2=\"440.7134\" y1=\"539.75\" y2=\"559.75\"/><polygon fill=\"#181818\" points=\"436.7134,549.75,440.7134,559.75,444.7134,549.75,440.7134,553.75\" style=\"stroke:#181818;stroke-width:1;\"/><line style=\"stroke:#181818;stroke-width:1;\" x1=\"205.8811\" x2=\"99.7529\" y1=\"483.7813\" y2=\"483.7813\"/><line style=\"stroke:#181818;stroke-width:1;\" x1=\"99.7529\" x2=\"99.7529\" y1=\"483.7813\" y2=\"505.7813\"/><polygon fill=\"#181818\" points=\"95.7529,495.7813,99.7529,505.7813,103.7529,495.7813,99.7529,499.7813\" style=\"stroke:#181818;stroke-width:1;\"/><line style=\"stroke:#181818;stroke-width:1;\" x1=\"334.5852\" x2=\"440.7134\" y1=\"483.7813\" y2=\"483.7813\"/><line style=\"stroke:#181818;stroke-width:1;\" x1=\"440.7134\" x2=\"440.7134\" y1=\"483.7813\" y2=\"505.7813\"/><polygon fill=\"#181818\" points=\"436.7134,495.7813,440.7134,505.7813,444.7134,495.7813,440.7134,499.7813\" style=\"stroke:#181818;stroke-width:1;\"/><line style=\"stroke:#181818;stroke-width:1;\" x1=\"99.7529\" x2=\"99.7529\" y1=\"1799.4063\" y2=\"1817.4063\"/><line style=\"stroke:#181818;stroke-width:1;\" x1=\"99.7529\" x2=\"258.2332\" y1=\"1817.4063\" y2=\"1817.4063\"/><polygon fill=\"#181818\" points=\"248.2332,1813.4063,258.2332,1817.4063,248.2332,1821.4063,252.2332,1817.4063\" style=\"stroke:#181818;stroke-width:1;\"/><line style=\"stroke:#181818;stroke-width:1;\" x1=\"440.7134\" x2=\"440.7134\" y1=\"1669.8398\" y2=\"1817.4063\"/><line style=\"stroke:#181818;stroke-width:1;\" x1=\"440.7134\" x2=\"282.2332\" y1=\"1817.4063\" y2=\"1817.4063\"/><polygon fill=\"#181818\" points=\"292.2332,1813.4063,282.2332,1817.4063,292.2332,1821.4063,288.2332,1817.4063\" style=\"stroke:#181818;stroke-width:1;\"/><line style=\"stroke:#181818;stroke-width:1;\" x1=\"270.2332\" x2=\"270.2332\" y1=\"451.7813\" y2=\"471.7813\"/><polygon fill=\"#181818\" points=\"266.2332,461.7813,270.2332,471.7813,274.2332,461.7813,270.2332,465.7813\" style=\"stroke:#181818;stroke-width:1;\"/><line style=\"stroke:#181818;stroke-width:1;\" x1=\"270.2332\" x2=\"270.2332\" y1=\"1931.7773\" y2=\"1960.293\"/><polygon fill=\"#181818\" points=\"266.2332,1950.293,270.2332,1960.293,274.2332,1950.293,270.2332,1954.293\" style=\"stroke:#181818;stroke-width:1;\"/><line style=\"stroke:#181818;stroke-width:1;\" x1=\"270.2332\" x2=\"270.2332\" y1=\"1873.4063\" y2=\"1897.8086\"/><polygon fill=\"#181818\" points=\"266.2332,1887.8086,270.2332,1897.8086,274.2332,1887.8086,270.2332,1891.8086\" style=\"stroke:#181818;stroke-width:1;\"/><line style=\"stroke:#181818;stroke-width:1;\" x1=\"355.2129\" x2=\"367.2129\" y1=\"1861.4063\" y2=\"1861.4063\"/><polygon fill=\"#181818\" points=\"363.2129,1930.293,367.2129,1940.293,371.2129,1930.293,367.2129,1934.293\" style=\"stroke:#181818;stroke-width:1;\"/><line style=\"stroke:#181818;stroke-width:1;\" x1=\"367.2129\" x2=\"367.2129\" y1=\"1861.4063\" y2=\"2004.293\"/><line style=\"stroke:#181818;stroke-width:1;\" x1=\"367.2129\" x2=\"270.2332\" y1=\"2004.293\" y2=\"2004.293\"/><line style=\"stroke:#181818;stroke-width:1;\" x1=\"270.2332\" x2=\"270.2332\" y1=\"2004.293\" y2=\"2024.293\"/><polygon fill=\"#181818\" points=\"266.2332,2014.293,270.2332,2024.293,274.2332,2014.293,270.2332,2018.293\" style=\"stroke:#181818;stroke-width:1;\"/><line style=\"stroke:#181818;stroke-width:1;\" x1=\"270.2332\" x2=\"270.2332\" y1=\"1829.4063\" y2=\"1849.4063\"/><polygon fill=\"#181818\" points=\"266.2332,1839.4063,270.2332,1849.4063,274.2332,1839.4063,270.2332,1843.4063\" style=\"stroke:#181818;stroke-width:1;\"/><line style=\"stroke:#181818;stroke-width:1;\" x1=\"270.2332\" x2=\"270.2332\" y1=\"397.8125\" y2=\"417.8125\"/><polygon fill=\"#181818\" points=\"266.2332,407.8125,270.2332,417.8125,274.2332,407.8125,270.2332,411.8125\" style=\"stroke:#181818;stroke-width:1;\"/><line style=\"stroke:#181818;stroke-width:1;\" x1=\"313.552\" x2=\"628.3242\" y1=\"2036.293\" y2=\"2036.293\"/><polygon fill=\"#181818\" points=\"624.3242,1230.1094,628.3242,1220.1094,632.3242,1230.1094,628.3242,1226.1094\" style=\"stroke:#181818;stroke-width:1;\"/><line style=\"stroke:#181818;stroke-width:1;\" x1=\"628.3242\" x2=\"628.3242\" y1=\"385.8125\" y2=\"2036.293\"/><line style=\"stroke:#181818;stroke-width:1;\" x1=\"628.3242\" x2=\"282.2332\" y1=\"385.8125\" y2=\"385.8125\"/><polygon fill=\"#181818\" points=\"292.2332,381.8125,282.2332,385.8125,292.2332,389.8125,288.2332,385.8125\" style=\"stroke:#181818;stroke-width:1;\"/><line style=\"stroke:#181818;stroke-width:1;\" x1=\"270.2332\" x2=\"270.2332\" y1=\"353.8125\" y2=\"373.8125\"/><polygon fill=\"#181818\" points=\"266.2332,363.8125,270.2332,373.8125,274.2332,363.8125,270.2332,367.8125\" style=\"stroke:#181818;stroke-width:1;\"/><!--SRC=[fLJ1KeCm4Btp5NiJ3bwSdigC7jePzTBfM4V7OuH5CaqJ9acB-lLk0gNG8iLwWRIx-_RjosEDPTe6mVHHSikPuDy8zso3SJ1TvTii4mWf9clwETF8BC9Ii2_KXlwO8nEGC9qQi0gG9JaKFkXZ5lM6ImJZyBdyQCMuSMSgAdmvg0nIRlonu89Q1neBQXO0J6TRhL7QkXgIdCWOo9bCOmhp3C87PdoKlHDN1t8NWSrHGlY69g8aW0QE09Tx8AKC6c2-9AvYBpH_weRSg1t6hL8eSo86eK_mKMfoVGiB5HnGNTSMcdyuWZCt63VmoaKFjmCbWm8JwoX9B25HGkaA2MNAitxCkMObF9Ug5tU1durmAIKQkAdkAzvdhDQye6vDsXLTvLRBTjkJbgwcjzqbO4-u8pDXBruTyo2WT8fw4Ch9M-ankKZbNi4cVnUCte9OXmiLTHnN0RRzvjWxmhBw3FZ1nxyEu57aiSl6-MoK1aTU6- -sCNux9s3dRiUvxX-G0zuRSDy0u1a7Zj9_Z0l7pknF7IyUAAmHYwE5rTYtRG4tNrsIqwALYhQVhghCwP2qznF1A5xJfugIIxdNpj3ARne4tTNQ6YRw0G00]--></g></svg>"
      ],
      "text/plain": [
       "<IPython.core.display.SVG object>"
      ]
     },
     "execution_count": 51,
     "metadata": {},
     "output_type": "execute_result"
    }
   ],
   "source": [
    "%%plantuml\n",
    "@startuml\n",
    "start\n",
    "\n",
    ":Initialize Game;\n",
    ":Shuffle deck;\n",
    ":Create Players;\n",
    ":Deal cards to each player;\n",
    ":Determine starting player;\n",
    ":Display top card of discard pile;\n",
    "\n",
    "repeat\n",
    "  :Current player checks hand;\n",
    "  if (Has playable card?) then (Yes)\n",
    "    repeat\n",
    "    :Player chooses a card;\n",
    "    :Validate move;\n",
    "    repeat while (Valid move?) -> No\n",
    "\n",
    "    :Play the card;\n",
    "    \n",
    "    if (Card is Wild?) then (Yes)\n",
    "      :Player selects a new color;\n",
    "    endif\n",
    "    \n",
    "    if (Card is Draw Two?) then (Yes)\n",
    "      :Next player draws 2 cards;\n",
    "      :Skip next player's turn;\n",
    "    endif\n",
    "\n",
    "    if (Card is Skip?) then (Yes)\n",
    "      :Skip next player's turn;\n",
    "    endif\n",
    "\n",
    "    if (Card is Reverse?) then (Yes)\n",
    "      :Reverse turn order;\n",
    "    endif\n",
    "\n",
    "    if (Card is Wild Draw 4?) then (Yes)\n",
    "      :Player selects a new color;\n",
    "      :Next player draws 4 cards;\n",
    "      :Skip next player's turn;\n",
    "    endif\n",
    "  else (No)\n",
    "    :Player draws a card;\n",
    "    if (Drawn card is playable?) then (Yes)\n",
    "      :Play drawn card;\n",
    "    \n",
    "      if (Card is Wild?) then (Yes)\n",
    "        :Player selects a new color;\n",
    "      endif\n",
    "    \n",
    "      if (Card is Draw Two?) then (Yes)\n",
    "        :Next player draws 2 cards;\n",
    "        :Skip next player's turn;\n",
    "      endif\n",
    "\n",
    "      if (Card is Skip?) then (Yes)\n",
    "        :Skip next player's turn;\n",
    "      endif\n",
    "\n",
    "      if (Card is Reverse?) then (Yes)\n",
    "        :Reverse turn order;\n",
    "      endif\n",
    "\n",
    "      if (Card is Wild Draw 4?) then (Yes)\n",
    "        :Player selects a new color;\n",
    "        :Next player draws 4 cards;\n",
    "        :Skip next player's turn;\n",
    "      endif\n",
    "    else (No)\n",
    "      :Player keep the card;\n",
    "    endif\n",
    "  endif\n",
    "    \n",
    "  if (Player has no more cards?) then (Yes)\n",
    "    :Declare player as winner;\n",
    "    stop\n",
    "  endif\n",
    "\n",
    "repeat while (next player)\n",
    "\n",
    "@enduml\n"
   ]
  },
  {
   "cell_type": "code",
   "execution_count": null,
   "id": "a7b65789-1160-43be-99d0-32e0da5fef5c",
   "metadata": {},
   "outputs": [],
   "source": []
  }
 ],
 "metadata": {
  "kernelspec": {
   "display_name": "Python 3 (ipykernel)",
   "language": "python",
   "name": "python3"
  },
  "language_info": {
   "codemirror_mode": {
    "name": "ipython",
    "version": 3
   },
   "file_extension": ".py",
   "mimetype": "text/x-python",
   "name": "python",
   "nbconvert_exporter": "python",
   "pygments_lexer": "ipython3",
   "version": "3.12.7"
  }
 },
 "nbformat": 4,
 "nbformat_minor": 5
}
