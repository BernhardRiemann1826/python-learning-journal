{
 "cells": [
  {
   "cell_type": "code",
   "execution_count": 39,
   "id": "4d1c36c1-7abd-44f5-91c8-a5fcda6af426",
   "metadata": {},
   "outputs": [],
   "source": [
    "import jdc\n",
    "import random"
   ]
  },
  {
   "cell_type": "code",
   "execution_count": 40,
   "id": "cf4c360a-2eb2-4f0d-a3d5-e70276b0f607",
   "metadata": {},
   "outputs": [],
   "source": [
    "class UnoCard:\n",
    "    COLOR_B = 0\n",
    "    COLOR_R = 1\n",
    "    COLOR_Y = 2\n",
    "    COLOR_G = 3\n",
    "    COLOR_W = 4\n",
    "    COLORS = {COLOR_B:'blue', COLOR_R:'red', COLOR_Y:'yellow', COLOR_G:'green'}\n",
    "    ACTION_S = 10\n",
    "    ACTION_DT = 11\n",
    "    ACTION_R = 12\n",
    "    ACTIONS = {ACTION_S:'skip', ACTION_DT:'draw two', ACTION_R:'reverse'}\n",
    "    DRAW4_Y = 20\n",
    "    DRAW4_N = 21\n",
    "    WILD = {DRAW4_Y: ' draw 4', DRAW4_N:''}\n",
    "    def __init__(self, color, val):\n",
    "        self.color = color\n",
    "        self.val = val\n",
    "    def __str__(self):\n",
    "        print('not implemented')\n",
    "    def __eq__(self, other):\n",
    "        print('not implemented')\n",
    "\n",
    "class NumberCard(UnoCard):\n",
    "    def __init__(self, color, number):\n",
    "        super().__init__(color, number)\n",
    "    def __str__(self):\n",
    "        return f'{UnoCard.COLORS[self.color]} {self.val}'\n",
    "    def __eq__(self, other):\n",
    "        if isinstance(other, NumberCard):\n",
    "            return str(self) == str(other)\n",
    "        return False\n",
    "        \n",
    "class ActionCard(UnoCard):\n",
    "    def __init__(self, color, action):\n",
    "        super().__init__(color, action)\n",
    "    def __str__(self):\n",
    "        return f'{UnoCard.COLORS[self.color]} {UnoCard.ACTIONS[self.val]}'\n",
    "    def __eq__(self, other):\n",
    "        if isinstance(other, ActionCard):\n",
    "            return str(self) == str(other)\n",
    "        return False\n",
    "\n",
    "class WildCard(UnoCard):\n",
    "    def __init__(self, draw4 = False):\n",
    "        if draw4:\n",
    "            super().__init__(UnoCard.COLOR_W, UnoCard.WILD[UnoCard.DRAW4_Y])\n",
    "        else:\n",
    "            super().__init__(UnoCard.COLOR_W, UnoCard.WILD[UnoCard.DRAW4_N])\n",
    "    def __str__(self):\n",
    "        return f'wild{self.val}'\n",
    "    def __eq__(self, other):\n",
    "        if isinstance(other, WildCard):\n",
    "            return str(self) == str(other)\n",
    "        return False"
   ]
  },
  {
   "cell_type": "code",
   "execution_count": 41,
   "id": "90ccb4d4-3ddb-425f-8548-c08ea6f97ffb",
   "metadata": {},
   "outputs": [],
   "source": [
    "class Node:\n",
    "    def __init__(self, card):\n",
    "        self.card = card\n",
    "        self.next = None"
   ]
  },
  {
   "cell_type": "code",
   "execution_count": 42,
   "id": "6c7c5171-8a7c-4c1e-b9a1-04893172f481",
   "metadata": {},
   "outputs": [],
   "source": [
    "class Deck:\n",
    "    def __init__(self):\n",
    "        self.head = None\n",
    "        self.tail = None\n",
    "        self.count = 0\n",
    "        self.discards = []\n",
    "        self.populate()"
   ]
  },
  {
   "cell_type": "code",
   "execution_count": 43,
   "id": "e9c62164-3eda-4afe-baf7-03d5f08ff01c",
   "metadata": {},
   "outputs": [],
   "source": [
    "%%add_to Deck\n",
    "# append a card to deck\n",
    "def append(self, card):\n",
    "    node = Node(card)\n",
    "    self.count += 1\n",
    "    # deck empty\n",
    "    if not self.head:\n",
    "        self.head = self.tail = node\n",
    "        return\n",
    "    # deck not empty, append the new node to tail\n",
    "    self.tail.next = node\n",
    "    self.tail = node"
   ]
  },
  {
   "cell_type": "code",
   "execution_count": 44,
   "id": "44e5174e-165b-43e0-ba5b-321adabb922b",
   "metadata": {},
   "outputs": [],
   "source": [
    "%%add_to Deck\n",
    "# populate deck with UNO cards\n",
    "def populate(self):\n",
    "    for c in UnoCard.COLORS:\n",
    "        self.append(NumberCard(c, 0))\n",
    "        for n in range(1, 10):  \n",
    "            self.append(NumberCard(c, n))\n",
    "            self.append(NumberCard(c, n))\n",
    "        for a in UnoCard.ACTIONS:\n",
    "            self.append(ActionCard(c, a))\n",
    "            self.append(ActionCard(c, a))\n",
    "    for _ in range(4):\n",
    "        self.append(WildCard())\n",
    "        self.append(WildCard(True))"
   ]
  },
  {
   "cell_type": "code",
   "execution_count": 45,
   "id": "46a81a38-bd30-473c-a925-8e09342cf2da",
   "metadata": {},
   "outputs": [],
   "source": [
    "%%add_to Deck\n",
    "# shtffle the deck\n",
    "def shuffle(self):\n",
    "    cards = []\n",
    "    curr = self.head\n",
    "    # convert the linked list to list\n",
    "    while curr:\n",
    "        cards.append(curr.card)\n",
    "        curr = curr.next\n",
    "    random.shuffle(cards)\n",
    "    self.head = None\n",
    "    self.count = 0\n",
    "    # convert shuffled deck back to linked list\n",
    "    for card in cards:\n",
    "        self.append(card)"
   ]
  },
  {
   "cell_type": "code",
   "execution_count": 46,
   "id": "ba330ff1-3460-4393-a4c0-a0e1c7b3f376",
   "metadata": {},
   "outputs": [],
   "source": [
    "%%add_to Deck\n",
    "# deal n cards, returned as a list\n",
    "def deal(self, n):\n",
    "    # remove n cards from front of deck\n",
    "    cards = []\n",
    "    curr = self.head\n",
    "    if n > self.count:\n",
    "        print('!!! draw pile running out')\n",
    "        for card in self.discards:\n",
    "            self.append(card)\n",
    "    while curr and n > 0:\n",
    "        cards.append(curr.card)\n",
    "        curr = curr.next\n",
    "        n -= 1\n",
    "        self.count -= 1\n",
    "    self.head = curr\n",
    "    return cards"
   ]
  },
  {
   "cell_type": "code",
   "execution_count": 47,
   "id": "bb547727-f536-4bec-88ea-a4769cfecb71",
   "metadata": {},
   "outputs": [],
   "source": [
    "%%add_to Deck\n",
    "# print all cards in deck\n",
    "def print_cards(self):\n",
    "    curr = self.head\n",
    "    while curr:\n",
    "        print(curr.card)\n",
    "        curr = curr.next\n",
    "    print('\\n')        "
   ]
  },
  {
   "cell_type": "code",
   "execution_count": 48,
   "id": "745f014c-c919-40f3-a2c9-14fc19051bec",
   "metadata": {},
   "outputs": [],
   "source": [
    "def is_card_playable(in_play, hand):\n",
    "    return hand.color == in_play.color or hand.val == in_play.val or hand.color == UnoCard.COLOR_W"
   ]
  },
  {
   "cell_type": "code",
   "execution_count": 49,
   "id": "15292003-0c3a-4f20-8ec8-fe0158ef71b8",
   "metadata": {},
   "outputs": [],
   "source": [
    "class Player:\n",
    "    def __init__(self, name):\n",
    "        self.name = name\n",
    "        self.cards = []\n",
    "        self.score = 0 # not implemented\n",
    "    def __str__(self):\n",
    "        return f'{self.name}'"
   ]
  },
  {
   "cell_type": "code",
   "execution_count": 50,
   "id": "f8fa403b-11c7-45b5-a2cf-9d630157229c",
   "metadata": {},
   "outputs": [],
   "source": [
    "%%add_to Player\n",
    "# Player to pick a card to play\n",
    "def choose_hand(self, in_play):\n",
    "    cards = ', '.join(str(card) for card in self.cards)\n",
    "    print(f'{self}\\'s cards: {cards}')\n",
    "    playables = []\n",
    "    # Find all the playable cards\n",
    "    for card in self.cards:\n",
    "        if is_card_playable(in_play, card):\n",
    "            playables.append(card)\n",
    "    cards = ', '.join(str(card) for card in playables)\n",
    "    print('  playables: ' + cards)\n",
    "    card = None\n",
    "    print(f'{self}, choose a card to play')\n",
    "    chosen = False\n",
    "    retry = False\n",
    "    while not chosen:\n",
    "        while True:\n",
    "            # select color\n",
    "            choice = input(f'{UnoCard.COLOR_B}: Blue, {UnoCard.COLOR_R}: Red, {UnoCard.COLOR_Y}: Yellow, {UnoCard.COLOR_G}: Green, {UnoCard.COLOR_W}: Wild, <Enter>: No playable card: ')\n",
    "            if choice == '':\n",
    "                if playables:\n",
    "                    print('Please choose a playable card')\n",
    "                else:\n",
    "                    chosen = True\n",
    "                retry = True\n",
    "                break\n",
    "            try:\n",
    "                choice = int(choice)\n",
    "                assert UnoCard.COLOR_B <= choice <= UnoCard.COLOR_W\n",
    "            except ValueError:\n",
    "                print('Please enter an integer or press <Enter>')\n",
    "                continue          \n",
    "            except AssertionError:\n",
    "                print('Please enter a valid choice')\n",
    "                continue          \n",
    "            else:\n",
    "                break\n",
    "        if retry:\n",
    "            retry = False\n",
    "            continue\n",
    "        # if a wild card to be played, draw 4 or not?\n",
    "        if choice == UnoCard.COLOR_W:\n",
    "            draw4 = input('Draw 4? (y|Y for yes, anything else for no): ')\n",
    "            if draw4 in ('y', 'Y'):\n",
    "                # Draw 4 can't be played if there are other playable cards\n",
    "                if len(playables) > 1:\n",
    "                    print('Can\\'t play wild draw4')\n",
    "                    continue\n",
    "                card = WildCard(True)\n",
    "            else:\n",
    "                card = WildCard()\n",
    "        else: # Player chose to play a calor card. Need to select the number/action of the card to play. \n",
    "            while True:\n",
    "                try:\n",
    "                    val = int(input(f'The number on the card or {UnoCard.ACTION_S}: Skip, {UnoCard.ACTION_DT}: Draw 2, {UnoCard.ACTION_R}: Reverse: '))\n",
    "                    assert 0 <= val <= UnoCard.ACTION_R\n",
    "                except ValueError:\n",
    "                    print('Please enter an integer')\n",
    "                    continue\n",
    "                except AssertionError:\n",
    "                    print('Please enter a valid choice')\n",
    "                    continue\n",
    "                else:\n",
    "                    break\n",
    "            if val <= 9:\n",
    "                card = NumberCard(choice, val)\n",
    "            else:\n",
    "                card = ActionCard(choice, val)\n",
    "        while True:\n",
    "            try:\n",
    "                # Is the card chosen playable?\n",
    "                assert card in playables\n",
    "            except AssertionError:\n",
    "                print('Please choose a playable card')\n",
    "            else:\n",
    "                chosen = True\n",
    "            finally:\n",
    "                break\n",
    "    if card:\n",
    "        self.cards.remove(card)\n",
    "    return card"
   ]
  },
  {
   "cell_type": "code",
   "execution_count": 51,
   "id": "754ebf53-02e6-421a-b505-4c6a15f57023",
   "metadata": {},
   "outputs": [],
   "source": [
    "%%add_to Player\n",
    "# Find a playable card\n",
    "def find_playables(self, in_play):\n",
    "    draw4 = None\n",
    "    for card in self.cards:\n",
    "        # looking for color/action match or wild card\n",
    "        if card.color == in_play.color or card.val == in_play.val or card.val == UnoCard.WILD[UnoCard.DRAW4_N]:\n",
    "            self.cards.remove(card)\n",
    "            return card\n",
    "        # wild draw 4 can only be played if there's no other playable card\n",
    "        if card.val == UnoCard.WILD[UnoCard.DRAW4_Y]:\n",
    "            # wild draw4 present\n",
    "            draw4 = card\n",
    "    # No other playable card. Play draw3\n",
    "    if draw4:\n",
    "        self.cards.remove(draw4)\n",
    "        return draw4\n",
    "    # No playable cards\n",
    "    return None"
   ]
  },
  {
   "cell_type": "code",
   "execution_count": 52,
   "id": "9be7594a-1035-4529-b3da-ef8c9ee3b847",
   "metadata": {},
   "outputs": [],
   "source": [
    "%%add_to Player\n",
    "# A wild card is being played. Player needs to choose a color.\n",
    "def choose_color(self):\n",
    "    color = None\n",
    "    print(self.name + ', choose a color')\n",
    "    while True:\n",
    "        try:\n",
    "            color = int(input(f'{UnoCard.COLOR_B}: Blue, {UnoCard.COLOR_R}: Red, {UnoCard.COLOR_Y}: Yellow, {UnoCard.COLOR_G}: Green: '))\n",
    "            assert UnoCard.COLOR_B <= color <= UnoCard.COLOR_G\n",
    "        except ValueError:\n",
    "            print('Please enter an integer')\n",
    "            continue          \n",
    "        except AssertionError:\n",
    "            print('Please enter a valid choice')\n",
    "            continue          \n",
    "        else:\n",
    "            break\n",
    "    return color"
   ]
  },
  {
   "cell_type": "code",
   "execution_count": 53,
   "id": "1e406462-ddbd-4bfc-9373-9d9108690cdc",
   "metadata": {},
   "outputs": [],
   "source": [
    "class Game:\n",
    "    def __init__(self):\n",
    "        self.deck = Deck()\n",
    "        self.players = []\n",
    "        self.deck.shuffle()\n",
    "        self.log = []"
   ]
  },
  {
   "cell_type": "code",
   "execution_count": 54,
   "id": "24bfb2a2-b5ed-4f4a-8855-de2be7f4ecfe",
   "metadata": {},
   "outputs": [],
   "source": [
    "%%add_to Game\n",
    "def set_up(self):\n",
    "    while True:\n",
    "        # 2 - 10 players\n",
    "        try:\n",
    "            n = int(input('How many players:'))\n",
    "            assert 1 < n < 11\n",
    "        except ValueError:\n",
    "            print('Please enter an integer')\n",
    "        except AssertionError:\n",
    "            print('2 to 10 players')\n",
    "        else:\n",
    "            break\n",
    "    for i in range(n):\n",
    "        # Player's name\n",
    "        while True:\n",
    "            try:\n",
    "                name = input(f'Enter player {i+1}\\'s name (default = Mary<n>):') or f'Mary{i+1}'\n",
    "                print(name)\n",
    "                assert name.replace(\" \", \"\").isalnum() or name == ''\n",
    "            except AssertionError:\n",
    "                print('Alphanumerics or <Enter> please')\n",
    "            else:\n",
    "                break\n",
    "        player = Player(name)\n",
    "        # each player gets 7 cards at start\n",
    "        player.cards = self.deck.deal(7)\n",
    "        self.players.append(player)\n",
    "        cards = ', '.join(str(card) for card in player.cards)\n",
    "        self.log.append(str(player) + ' is dealt ' + cards)\n",
    "    while True:\n",
    "        # Flip the 1st non wild card\n",
    "        in_play = self.deck.deal(1)[0]\n",
    "        # Non wild found\n",
    "        if in_play.color != UnoCard.COLOR_W:\n",
    "            self.log.append(f'Top card flipped: ' + str(in_play))\n",
    "            self.deck.discards.append(in_play)\n",
    "            return\n",
    "        # Wild found. Put it to bottom of deck.\n",
    "        self.deck.append(in_play)\n",
    "def wrap_up(self):\n",
    "    cards = ', '.join([str(card) for card in self.deck.discards])\n",
    "    self.log.append(f'\\nDiscard pile {len(self.deck.discards)} cards: ' + cards)\n",
    "    for player in self.players:\n",
    "        cards = ', '.join([str(card) for card in player.cards])\n",
    "        self.log.append(str(player) + '\\'s remaining cards: ' + cards)"
   ]
  },
  {
   "cell_type": "code",
   "execution_count": 55,
   "id": "26e3d538-a960-49e3-81a8-82d063f91111",
   "metadata": {},
   "outputs": [],
   "source": [
    "%%add_to Game\n",
    "def play(self):\n",
    "    self.set_up()\n",
    "    # Flip the top card of deck to start the game\n",
    "    forfeit_turn = False\n",
    "    idx, step, step_manipulator = -1, 1, -1\n",
    "    self.log.append('\\nStarting Turns')\n",
    "    print('\\nGAME STARTING')\n",
    "    in_play = self.deck.discards[-1]\n",
    "    self.log.append(f'Top card revealed: {in_play}')\n",
    "    print(f'Top card revealed: {in_play}')\n",
    "    while True:\n",
    "#        print(f'Card in play: {in_play}')\n",
    "        idx = (idx + step + len(self.players)) % len(self.players)\n",
    "        player = self.players[idx]\n",
    "        # Wild draw 4/skip/draw 2 was last played.\n",
    "        # Player loses a turn\n",
    "        if forfeit_turn:\n",
    "            if in_play.val in (UnoCard.WILD[UnoCard.DRAW4_Y], UnoCard.ACTION_DT): # wild draw 4 or color draw 2\n",
    "                if in_play.val == UnoCard.ACTION_DT:\n",
    "                    cards_drawn = self.deck.deal(2)\n",
    "                else:\n",
    "                    cards_drawn = self.deck.deal(4)\n",
    "                player.cards += cards_drawn\n",
    "                cards = ', '.join(str(c) for c in cards_drawn)\n",
    "                self.log.append(f'{player} drew ' + cards)\n",
    "                print(f'{player} drew ' + cards)\n",
    "            self.log.append(f'{player} skipped a turn')\n",
    "            print(f'{player} skipped a turn')\n",
    "            forfeit_turn = False\n",
    "            continue\n",
    "        # Find a playable card\n",
    "        if idx == 0: # human player\n",
    "            hand = player.choose_hand(in_play)\n",
    "        else: # computer\n",
    "            hand = player.find_playables(in_play) # wild card may get played before number/symbol match\n",
    "        if hand: # Found a playable card\n",
    "            self.deck.discards.append(hand)\n",
    "            self.log.append(f'{player} played {hand}')\n",
    "            print(f'{player} played {hand}')\n",
    "            # Dictate color if it's a wild card\n",
    "            if hand.color == UnoCard.COLOR_W:\n",
    "                if hand.val == UnoCard.WILD[UnoCard.DRAW4_Y]: # wild draw 4\n",
    "                    # next player will skip a turn\n",
    "                    forfeit_turn = True\n",
    "                if idx == 0: # Prompt human player to choose a color\n",
    "                    hand.color = player.choose_color()\n",
    "                else: # computer choses a color\n",
    "                    hand.color = random.choice(list(UnoCard.COLORS.keys()))\n",
    "                self.log.append(f'  Chose color {UnoCard.COLORS[hand.color]}')\n",
    "                print(f'  Chose color {UnoCard.COLORS[hand.color]}')\n",
    "            elif hand.val in (UnoCard.ACTION_S, UnoCard.ACTION_DT): # skip or draw 2\n",
    "                # next player will lose a turn\n",
    "                forfeit_turn = True\n",
    "            elif hand.val == UnoCard.ACTION_R:\n",
    "                # Reverse was played. Change rotation direction\n",
    "                step *= step_manipulator\n",
    "            in_play = hand\n",
    "        else: # playable card not found\n",
    "            # Draw a card\n",
    "            hand = self.deck.deal(1)[0]\n",
    "            self.log.append(f'{player} drew {hand}')\n",
    "            print(f'{player} drew {hand}')\n",
    "            # Drew a wile card\n",
    "            if hand.color == UnoCard.COLOR_W:\n",
    "                self.deck.discards.append(hand)\n",
    "                if hand.val == UnoCard.WILD[UnoCard.DRAW4_Y]: # wild draw 4\n",
    "                    # next player will skip a turn\n",
    "                    forfeit_turn = True\n",
    "                # Dictate color\n",
    "                if idx == 0: # Prompt human player to choose a color\n",
    "                    hand.color = player.choose_color()\n",
    "                else: # computer choses a color\n",
    "                    hand.color = random.choice(list(UnoCard.COLORS.keys()))\n",
    "                self.log.append(f'  Played {hand}')\n",
    "                print(f'  Played {hand}')\n",
    "                self.log.append(f'  Chose color {UnoCard.COLORS[hand.color]}')\n",
    "                print(f'  Chose color {UnoCard.COLORS[hand.color]}')\n",
    "                in_play = hand\n",
    "                continue\n",
    "            # Drew a color card. Play it right away if it's a match\n",
    "            if hand.color == in_play.color or hand.val == in_play.val:\n",
    "                print(f'  Played {hand}')\n",
    "                self.log.append(f'  Played {hand}')\n",
    "                self.deck.discards.append(hand)\n",
    "                in_play = hand\n",
    "                if hand.val in (UnoCard.ACTION_S, UnoCard.ACTION_DT): # skip or draw 2\n",
    "                    # next player will skip a turn\n",
    "                    forfeit_turn = True\n",
    "                elif hand.val == UnoCard.ACTION_R:\n",
    "                    # Reverse was played. Change rotation direction\n",
    "                    step *= step_manipulator\n",
    "                continue\n",
    "            # Card drawn is not playable\n",
    "            player.cards.append(hand)\n",
    "        # Player has no cards left. Winner found\n",
    "        if not player.cards:\n",
    "#            won = True\n",
    "            self.log.append(f'{player} WON!')\n",
    "            print(f'{player} WON!')\n",
    "            break\n",
    "    self.wrap_up()"
   ]
  },
  {
   "cell_type": "code",
   "execution_count": 56,
   "id": "2de13fc7-2109-46a6-9b4b-dc55d1576066",
   "metadata": {},
   "outputs": [],
   "source": [
    "%%add_to Game\n",
    "def print_log(self):\n",
    "    print('\\n'.join(game.log))"
   ]
  },
  {
   "cell_type": "code",
   "execution_count": 59,
   "id": "5b92238c-ccbf-4372-a19e-dc07261231ee",
   "metadata": {
    "scrolled": true
   },
   "outputs": [
    {
     "name": "stdin",
     "output_type": "stream",
     "text": [
      "How many players: 3\n",
      "Enter player 1's name (default = Mary<n>): \n"
     ]
    },
    {
     "name": "stdout",
     "output_type": "stream",
     "text": [
      "Mary1\n"
     ]
    },
    {
     "name": "stdin",
     "output_type": "stream",
     "text": [
      "Enter player 2's name (default = Mary<n>): \n"
     ]
    },
    {
     "name": "stdout",
     "output_type": "stream",
     "text": [
      "Mary2\n"
     ]
    },
    {
     "name": "stdin",
     "output_type": "stream",
     "text": [
      "Enter player 3's name (default = Mary<n>): \n"
     ]
    },
    {
     "name": "stdout",
     "output_type": "stream",
     "text": [
      "Mary3\n",
      "\n",
      "GAME STARTING\n",
      "Top card revealed: blue 4\n",
      "Mary1's cards: red reverse, wild, green 5, yellow 7, blue 6, red draw two, green reverse\n",
      "  playables: wild, blue 6\n",
      "Mary1, choose a card to play\n"
     ]
    },
    {
     "name": "stdin",
     "output_type": "stream",
     "text": [
      "0: Blue, 1: Red, 2: Yellow, 3: Green, 4: Wild, <Enter>: No playable card:  0\n",
      "The number on the card or 10: Skip, 11: Draw 2, 12: Reverse:  6\n"
     ]
    },
    {
     "name": "stdout",
     "output_type": "stream",
     "text": [
      "Mary1 played blue 6\n",
      "Mary2 played blue reverse\n",
      "Mary1's cards: red reverse, wild, green 5, yellow 7, red draw two, green reverse\n",
      "  playables: red reverse, wild, green reverse\n",
      "Mary1, choose a card to play\n"
     ]
    },
    {
     "name": "stdin",
     "output_type": "stream",
     "text": [
      "0: Blue, 1: Red, 2: Yellow, 3: Green, 4: Wild, <Enter>: No playable card:  1\n",
      "The number on the card or 10: Skip, 11: Draw 2, 12: Reverse:  12\n"
     ]
    },
    {
     "name": "stdout",
     "output_type": "stream",
     "text": [
      "Mary1 played red reverse\n",
      "Mary2 drew green skip\n",
      "Mary3 played red 0\n",
      "Mary1's cards: wild, green 5, yellow 7, red draw two, green reverse\n",
      "  playables: wild, red draw two\n",
      "Mary1, choose a card to play\n"
     ]
    },
    {
     "name": "stdin",
     "output_type": "stream",
     "text": [
      "0: Blue, 1: Red, 2: Yellow, 3: Green, 4: Wild, <Enter>: No playable card:  1\n",
      "The number on the card or 10: Skip, 11: Draw 2, 12: Reverse:  11\n"
     ]
    },
    {
     "name": "stdout",
     "output_type": "stream",
     "text": [
      "Mary1 played red draw two\n",
      "Mary2 drew green 8, yellow reverse\n",
      "Mary2 skipped a turn\n",
      "Mary3 played red reverse\n",
      "Mary2 played yellow reverse\n",
      "Mary3 played wild\n",
      "  Chose color blue\n",
      "Mary1's cards: wild, green 5, yellow 7, green reverse\n",
      "  playables: wild\n",
      "Mary1, choose a card to play\n"
     ]
    },
    {
     "name": "stdin",
     "output_type": "stream",
     "text": [
      "0: Blue, 1: Red, 2: Yellow, 3: Green, 4: Wild, <Enter>: No playable card:  4\n",
      "Draw 4? (y|Y for yes, anything else for no):  \n"
     ]
    },
    {
     "name": "stdout",
     "output_type": "stream",
     "text": [
      "Mary1 played wild\n",
      "Mary1, choose a color\n"
     ]
    },
    {
     "name": "stdin",
     "output_type": "stream",
     "text": [
      "0: Blue, 1: Red, 2: Yellow, 3: Green:  3\n"
     ]
    },
    {
     "name": "stdout",
     "output_type": "stream",
     "text": [
      "  Chose color green\n",
      "Mary2 played green 7\n",
      "Mary3 played red 7\n",
      "Mary1's cards: green 5, yellow 7, green reverse\n",
      "  playables: yellow 7\n",
      "Mary1, choose a card to play\n"
     ]
    },
    {
     "name": "stdin",
     "output_type": "stream",
     "text": [
      "0: Blue, 1: Red, 2: Yellow, 3: Green, 4: Wild, <Enter>: No playable card:  2\n",
      "The number on the card or 10: Skip, 11: Draw 2, 12: Reverse:  7\n"
     ]
    },
    {
     "name": "stdout",
     "output_type": "stream",
     "text": [
      "Mary1 played yellow 7\n",
      "Mary2 played blue 7\n",
      "Mary3 played blue 9\n",
      "Mary1's cards: green 5, green reverse\n",
      "  playables: \n",
      "Mary1, choose a card to play\n"
     ]
    },
    {
     "name": "stdin",
     "output_type": "stream",
     "text": [
      "0: Blue, 1: Red, 2: Yellow, 3: Green, 4: Wild, <Enter>: No playable card:  \n"
     ]
    },
    {
     "name": "stdout",
     "output_type": "stream",
     "text": [
      "Mary1 drew yellow 8\n",
      "Mary2 played blue 9\n",
      "Mary3 played blue skip\n",
      "Mary1 skipped a turn\n",
      "Mary2 played blue skip\n",
      "Mary3 skipped a turn\n",
      "Mary1's cards: green 5, green reverse, yellow 8\n",
      "  playables: \n",
      "Mary1, choose a card to play\n"
     ]
    },
    {
     "name": "stdin",
     "output_type": "stream",
     "text": [
      "0: Blue, 1: Red, 2: Yellow, 3: Green, 4: Wild, <Enter>: No playable card:  \n"
     ]
    },
    {
     "name": "stdout",
     "output_type": "stream",
     "text": [
      "Mary1 drew green 4\n",
      "Mary2 played green skip\n",
      "Mary3 skipped a turn\n",
      "Mary1's cards: green 5, green reverse, yellow 8, green 4\n",
      "  playables: green 5, green reverse, green 4\n",
      "Mary1, choose a card to play\n"
     ]
    },
    {
     "name": "stdin",
     "output_type": "stream",
     "text": [
      "0: Blue, 1: Red, 2: Yellow, 3: Green, 4: Wild, <Enter>: No playable card:  3\n",
      "The number on the card or 10: Skip, 11: Draw 2, 12: Reverse:  4\n"
     ]
    },
    {
     "name": "stdout",
     "output_type": "stream",
     "text": [
      "Mary1 played green 4\n",
      "Mary2 played green 1\n",
      "Mary3 drew red 9\n",
      "Mary1's cards: green 5, green reverse, yellow 8\n",
      "  playables: green 5, green reverse\n",
      "Mary1, choose a card to play\n"
     ]
    },
    {
     "name": "stdin",
     "output_type": "stream",
     "text": [
      "0: Blue, 1: Red, 2: Yellow, 3: Green, 4: Wild, <Enter>: No playable card:  3\n",
      "The number on the card or 10: Skip, 11: Draw 2, 12: Reverse:  5\n"
     ]
    },
    {
     "name": "stdout",
     "output_type": "stream",
     "text": [
      "Mary1 played green 5\n",
      "Mary2 played green 8\n",
      "Mary3 drew red 1\n",
      "Mary1's cards: green reverse, yellow 8\n",
      "  playables: green reverse, yellow 8\n",
      "Mary1, choose a card to play\n"
     ]
    },
    {
     "name": "stdin",
     "output_type": "stream",
     "text": [
      "0: Blue, 1: Red, 2: Yellow, 3: Green, 4: Wild, <Enter>: No playable card:  3\n",
      "The number on the card or 10: Skip, 11: Draw 2, 12: Reverse:  12\n"
     ]
    },
    {
     "name": "stdout",
     "output_type": "stream",
     "text": [
      "Mary1 played green reverse\n",
      "Mary3 drew blue 5\n",
      "Mary2 drew blue 1\n",
      "Mary1's cards: yellow 8\n",
      "  playables: \n",
      "Mary1, choose a card to play\n"
     ]
    },
    {
     "name": "stdin",
     "output_type": "stream",
     "text": [
      "0: Blue, 1: Red, 2: Yellow, 3: Green, 4: Wild, <Enter>: No playable card:  \n"
     ]
    },
    {
     "name": "stdout",
     "output_type": "stream",
     "text": [
      "Mary1 drew red 8\n",
      "Mary3 drew blue 2\n",
      "Mary2 drew blue 2\n",
      "Mary1's cards: yellow 8, red 8\n",
      "  playables: \n",
      "Mary1, choose a card to play\n"
     ]
    },
    {
     "name": "stdin",
     "output_type": "stream",
     "text": [
      "0: Blue, 1: Red, 2: Yellow, 3: Green, 4: Wild, <Enter>: No playable card:  \n"
     ]
    },
    {
     "name": "stdout",
     "output_type": "stream",
     "text": [
      "Mary1 drew red 3\n",
      "Mary3 drew green 9\n",
      "  Played green 9\n",
      "Mary2 drew blue 7\n",
      "Mary1's cards: yellow 8, red 8, red 3\n",
      "  playables: \n",
      "Mary1, choose a card to play\n"
     ]
    },
    {
     "name": "stdin",
     "output_type": "stream",
     "text": [
      "0: Blue, 1: Red, 2: Yellow, 3: Green, 4: Wild, <Enter>: No playable card:  \n"
     ]
    },
    {
     "name": "stdout",
     "output_type": "stream",
     "text": [
      "Mary1 drew green reverse\n",
      "  Played green reverse\n",
      "Mary2 drew green 4\n",
      "  Played green 4\n",
      "Mary3 drew red 8\n",
      "Mary1's cards: yellow 8, red 8, red 3\n",
      "  playables: \n",
      "Mary1, choose a card to play\n"
     ]
    },
    {
     "name": "stdin",
     "output_type": "stream",
     "text": [
      "0: Blue, 1: Red, 2: Yellow, 3: Green, 4: Wild, <Enter>: No playable card:  \n"
     ]
    },
    {
     "name": "stdout",
     "output_type": "stream",
     "text": [
      "Mary1 drew yellow 7\n",
      "Mary2 drew yellow 1\n",
      "Mary3 drew red 5\n",
      "Mary1's cards: yellow 8, red 8, red 3, yellow 7\n",
      "  playables: \n",
      "Mary1, choose a card to play\n"
     ]
    },
    {
     "name": "stdin",
     "output_type": "stream",
     "text": [
      "0: Blue, 1: Red, 2: Yellow, 3: Green, 4: Wild, <Enter>: No playable card:  \n"
     ]
    },
    {
     "name": "stdout",
     "output_type": "stream",
     "text": [
      "Mary1 drew wild draw 4\n",
      "Mary1, choose a color\n"
     ]
    },
    {
     "name": "stdin",
     "output_type": "stream",
     "text": [
      "0: Blue, 1: Red, 2: Yellow, 3: Green:  1\n"
     ]
    },
    {
     "name": "stdout",
     "output_type": "stream",
     "text": [
      "  Played wild draw 4\n",
      "  Chose color red\n",
      "Mary2 drew yellow 6, blue draw two, red 1, red 4\n",
      "Mary2 skipped a turn\n",
      "Mary3 played red 9\n",
      "Mary1's cards: yellow 8, red 8, red 3, yellow 7\n",
      "  playables: red 8, red 3\n",
      "Mary1, choose a card to play\n"
     ]
    },
    {
     "name": "stdin",
     "output_type": "stream",
     "text": [
      "0: Blue, 1: Red, 2: Yellow, 3: Green, 4: Wild, <Enter>: No playable card:  1\n",
      "The number on the card or 10: Skip, 11: Draw 2, 12: Reverse:  8\n"
     ]
    },
    {
     "name": "stdout",
     "output_type": "stream",
     "text": [
      "Mary1 played red 8\n",
      "Mary2 played red 1\n",
      "Mary3 played red 1\n",
      "Mary1's cards: yellow 8, red 3, yellow 7\n",
      "  playables: red 3\n",
      "Mary1, choose a card to play\n"
     ]
    },
    {
     "name": "stdin",
     "output_type": "stream",
     "text": [
      "0: Blue, 1: Red, 2: Yellow, 3: Green, 4: Wild, <Enter>: No playable card:  1\n",
      "The number on the card or 10: Skip, 11: Draw 2, 12: Reverse:  3\n"
     ]
    },
    {
     "name": "stdout",
     "output_type": "stream",
     "text": [
      "Mary1 played red 3\n",
      "Mary2 played red 4\n",
      "Mary3 played red 8\n",
      "Mary1's cards: yellow 8, yellow 7\n",
      "  playables: yellow 8\n",
      "Mary1, choose a card to play\n"
     ]
    },
    {
     "name": "stdin",
     "output_type": "stream",
     "text": [
      "0: Blue, 1: Red, 2: Yellow, 3: Green, 4: Wild, <Enter>: No playable card:  2\n",
      "The number on the card or 10: Skip, 11: Draw 2, 12: Reverse:  8\n"
     ]
    },
    {
     "name": "stdout",
     "output_type": "stream",
     "text": [
      "Mary1 played yellow 8\n",
      "Mary2 played yellow draw two\n",
      "Mary3 drew wild draw 4, red skip\n",
      "Mary3 skipped a turn\n",
      "Mary1's cards: yellow 7\n",
      "  playables: yellow 7\n",
      "Mary1, choose a card to play\n"
     ]
    },
    {
     "name": "stdin",
     "output_type": "stream",
     "text": [
      "0: Blue, 1: Red, 2: Yellow, 3: Green, 4: Wild, <Enter>: No playable card:  2\n",
      "The number on the card or 10: Skip, 11: Draw 2, 12: Reverse:  7\n"
     ]
    },
    {
     "name": "stdout",
     "output_type": "stream",
     "text": [
      "Mary1 played yellow 7\n",
      "Mary1 WON!\n"
     ]
    }
   ],
   "source": [
    "game = Game()\n",
    "game.play()"
   ]
  },
  {
   "cell_type": "code",
   "execution_count": 58,
   "id": "82f9f417-4a2d-4ad6-9a82-1c972748230e",
   "metadata": {
    "scrolled": true
   },
   "outputs": [],
   "source": [
    "#game.print_log()"
   ]
  },
  {
   "cell_type": "code",
   "execution_count": null,
   "id": "76998b73-740e-4683-82ff-74bce84f11b0",
   "metadata": {},
   "outputs": [],
   "source": []
  }
 ],
 "metadata": {
  "kernelspec": {
   "display_name": "Python 3 (ipykernel)",
   "language": "python",
   "name": "python3"
  },
  "language_info": {
   "codemirror_mode": {
    "name": "ipython",
    "version": 3
   },
   "file_extension": ".py",
   "mimetype": "text/x-python",
   "name": "python",
   "nbconvert_exporter": "python",
   "pygments_lexer": "ipython3",
   "version": "3.12.7"
  }
 },
 "nbformat": 4,
 "nbformat_minor": 5
}
