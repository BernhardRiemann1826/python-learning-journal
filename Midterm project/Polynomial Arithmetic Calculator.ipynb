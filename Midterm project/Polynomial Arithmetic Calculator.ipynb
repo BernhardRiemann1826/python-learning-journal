{
 "cells": [
  {
   "cell_type": "code",
   "execution_count": 1,
   "id": "685e1b6a-0f66-4fef-8bd0-cd4ec285fdd9",
   "metadata": {},
   "outputs": [],
   "source": [
    "import jdc\n",
    "import re\n",
    "import copy\n",
    "# import importlib\n",
    "# importlib.reload(stack_and_queue)\n",
    "from stack_and_queue import Stack, Queue"
   ]
  },
  {
   "cell_type": "code",
   "execution_count": 2,
   "id": "46c73c61-e235-41f3-aa2e-ab834280ca1d",
   "metadata": {},
   "outputs": [],
   "source": [
    "def divide(arr, idx, l, r):\n",
    "    \"\"\"\n",
    "    Partition the list\n",
    "    helper function for quick sort\n",
    "    \n",
    "    Args:\n",
    "        arr: the list of tuples to be divided\n",
    "        idx: the index of tuple element to be sorted by\n",
    "        l: left index of the sublist to be divided\n",
    "        r: right index of the sublist to be divided\n",
    "\n",
    "    Return:\n",
    "        The final index of the pivot\n",
    "    \"\"\"\n",
    "    pivot = arr[r][idx] # choose the right most element as pivot\n",
    "    i, j = l, r-1\n",
    "    while i < j:\n",
    "        while arr[i][idx] >= pivot and i <= j:\n",
    "            # iterate from left to right until an element >= pivot is found\n",
    "            i += 1\n",
    "        while arr[j][idx] < pivot and i < j:\n",
    "            # iterate from right to left until an element < pivot is found\n",
    "            j -= 1\n",
    "        if i<j:\n",
    "            # swap elements so the element < pivot moves to the left of pivot and the larger one right\n",
    "            arr[i], arr[j] = arr[j], arr[i]\n",
    "    if arr[i][idx] < arr[r][idx]:\n",
    "        # place pivot in between the left and right subarays\n",
    "        arr[i], arr[r] = arr[r], arr[i]\n",
    "    return i"
   ]
  },
  {
   "cell_type": "code",
   "execution_count": 3,
   "id": "3a6af698-1499-4882-98f0-4a6aaf4d86a8",
   "metadata": {},
   "outputs": [],
   "source": [
    "def qs_tuple(arr,idx,l,r):\n",
    "    \"\"\"\n",
    "    Quick sort a list of tuples in decending order\n",
    "    \n",
    "    Args:\n",
    "        arr: the list of tuples to be sorted\n",
    "        idx: the index of tuple element to be sorted by\n",
    "        l: left index of the sublist to be sorted\n",
    "        r: right index of the sublist to be sorted\n",
    "    \"\"\"\n",
    "    if l >= r: return\n",
    "    # divide array based on a pivot\n",
    "    p = divide(arr,idx,l,r)\n",
    "    # quick sort the subarray left to the pivot (elements <= pivot)\n",
    "    qs_tuple(arr,idx,l,p-1)\n",
    "    # quick sort the subarray right to the pivot (elements > pivot)\n",
    "    qs_tuple(arr,idx,p+1,r)"
   ]
  },
  {
   "cell_type": "code",
   "execution_count": 4,
   "id": "6fab76ea-546e-4401-948d-dd49c62c7c04",
   "metadata": {},
   "outputs": [],
   "source": [
    "class Polynomial:\n",
    "    \"\"\"\n",
    "    A class to represent and perform arithmetic operations on polynomials.\n",
    "    \"\"\"\n",
    "\n",
    "    def __init__(self, terms):\n",
    "        \"\"\"\n",
    "        Initializes the Polynomial object from a dict in descending order\n",
    "        Args:\n",
    "            terms (dict): Terms of a polynomial represented by key/value,\n",
    "            where the key is exponent and value coefficient.\n",
    "        \"\"\"\n",
    "        terms = list(terms.items())\n",
    "        qs_tuple(terms, 0, 0, len(terms)-1)\n",
    "        self.terms = {k:v for k, v in terms if v != 0 or k == 0}\n",
    "        if not self.terms:\n",
    "            self.terms = {0:0}"
   ]
  },
  {
   "cell_type": "code",
   "execution_count": 5,
   "id": "31f4b9c6-3b37-42e7-a165-5859e80e51d3",
   "metadata": {},
   "outputs": [],
   "source": [
    "%%add_to Polynomial\n",
    "@staticmethod\n",
    "def _simplify_poly(poly):\n",
    "    \"\"\"\n",
    "    Simplify a polynomial based on representation convention\n",
    "    \"\"\"\n",
    "    def replace(match):\n",
    "        if match.group(1): # Handles trailing 0x^0\n",
    "            return ''\n",
    "        if match.group(2): # Handles signs (+ or -)\n",
    "            return f' {match.group(2)} '\n",
    "        if match.group(3): # Handles \"1x^0\", replacing it with '1'\n",
    "            return '1'\n",
    "        if match.group(4) or match.group(5) or match.group(6): # Handles \"1x^1|1x|x^1\", replacing it with 'x'\n",
    "            return 'x'\n",
    "        if match.group(7): # Handles \"nx^0\", replacing it with ''\n",
    "            return ''\n",
    "    pattern = r'( *[+-] *0x\\^0$)|([+-])|((?<![\\d.])1x\\^0(?!\\d))|((?<![\\d.])1x\\^1(?!\\d))|((?<![\\d.])1x(?!\\d))|(x\\^1(?!\\d))|((?<=\\d)x\\^0(?!\\d))'\n",
    "    return re.sub(pattern, replace, poly).lstrip()"
   ]
  },
  {
   "cell_type": "code",
   "execution_count": 6,
   "id": "21bea2d1-a888-4a2d-9643-eb03d104e595",
   "metadata": {},
   "outputs": [],
   "source": [
    "%%add_to Polynomial\n",
    "def __str__(self):\n",
    "    \"\"\"\n",
    "    Return a string representation of the polynomial in standard form.\n",
    "    \"\"\"\n",
    "    if not self.terms:\n",
    "        return '0'\n",
    "\n",
    "    items = list(self.terms.items())\n",
    "    poly = f'{items[0][1]:g}x^{items[0][0]}'\n",
    "    for exp, coeff in items[1:]:\n",
    "        poly += f'{coeff:+g}x^{exp}'\n",
    "    return Polynomial._simplify_poly(poly)"
   ]
  },
  {
   "cell_type": "code",
   "execution_count": 7,
   "id": "c8b5e63c-9906-4d5d-b1cf-da98228c0ede",
   "metadata": {},
   "outputs": [],
   "source": [
    "%%add_to Polynomial\n",
    "def __add__(self, other):\n",
    "    \"\"\"\n",
    "    Add two polynomials and return the sum as a new Polynomial.\n",
    "    \"\"\"\n",
    "    poly_sum = self.terms.copy()\n",
    "    for exp, coeff in other.terms.items():\n",
    "        poly_sum[exp] = poly_sum.get(exp, 0) + coeff\n",
    "    return Polynomial(poly_sum)"
   ]
  },
  {
   "cell_type": "code",
   "execution_count": 8,
   "id": "9e03f7b8-53fd-47be-8bda-fcbe3592ff52",
   "metadata": {},
   "outputs": [],
   "source": [
    "%%add_to Polynomial\n",
    "def __sub__(self, other):\n",
    "    \"\"\"\n",
    "    Subtract 'other' polynomial from 'self' and return the difference as a new Polynomial.\n",
    "    \"\"\"\n",
    "    poly_diff = self.terms.copy()\n",
    "    for exp, coeff in other.terms.items():\n",
    "        poly_diff[exp] = poly_diff.get(exp, 0) - coeff\n",
    "    return Polynomial(poly_diff)"
   ]
  },
  {
   "cell_type": "code",
   "execution_count": 9,
   "id": "b0a7af76-4355-414b-9e80-85b3b10f8d30",
   "metadata": {},
   "outputs": [],
   "source": [
    "%%add_to Polynomial\n",
    "def __mul__(self, other):\n",
    "    \"\"\"\n",
    "    Multiply two polynomials and return the product as a new Polynomial.\n",
    "    \"\"\"\n",
    "    product = {}\n",
    "    for exp1, coeff1 in self.terms.items():\n",
    "        for exp2, coeff2 in other.terms.items():\n",
    "            exp = exp1 + exp2\n",
    "            coeff = coeff1 * coeff2\n",
    "            product[exp] = product.get(exp, 0) + coeff\n",
    "    return Polynomial(product)"
   ]
  },
  {
   "cell_type": "code",
   "execution_count": 10,
   "id": "71136ec2-5625-46df-9c66-d317dc85418c",
   "metadata": {},
   "outputs": [],
   "source": [
    "%%add_to Polynomial\n",
    "def __truediv__(self, other):\n",
    "    \"\"\"\n",
    "    Divides 'self' by 'other' and return a tuple of Polynomials (quotient, remainder).\n",
    "    \"\"\"\n",
    "    q_terms, r_terms = {}, copy.deepcopy(self.terms)\n",
    "    deg_dvsr_highest = next(iter(other.terms))\n",
    "    while r_terms:\n",
    "        # Find the degree and leading coefficient of the quotient\n",
    "        deg_dvdnd_highest = next(iter(r_terms))\n",
    "        if deg_dvdnd_highest < deg_dvsr_highest:\n",
    "            break\n",
    "        degree_diff = deg_dvdnd_highest - deg_dvsr_highest\n",
    "        coeff_leading = r_terms[deg_dvdnd_highest] / other.terms[deg_dvsr_highest]\n",
    "        q_terms[degree_diff] = coeff_leading\n",
    "        # long division process\n",
    "        poly = Polynomial({degree_diff:coeff_leading})\n",
    "        product = poly * other\n",
    "        degrees = sorted(list(set(r_terms.keys()) | set(product.terms.keys())),\n",
    "                         reverse=True)\n",
    "        r_terms = {k: r_terms.get(k, 0) - product.terms.get(k, 0) for k in degrees}\n",
    "        r_terms = {k: v for k, v in r_terms.items() if v != 0} # remove terms with coeff 0\n",
    "    return Polynomial(q_terms), Polynomial(r_terms)"
   ]
  },
  {
   "cell_type": "code",
   "execution_count": 11,
   "id": "49e698d7-b10b-49cb-8620-6571c5ad11b4",
   "metadata": {},
   "outputs": [],
   "source": [
    "%%add_to Polynomial\n",
    "def evaluate(self, x_value):\n",
    "    \"\"\"\n",
    "    Evaluate the polynomial at a given value of x.\n",
    "\n",
    "    Args:\n",
    "        x_value (float): The value at which to evaluate the polynomial.\n",
    "\n",
    "    Returns:\n",
    "        float: The result of the polynomial evaluation.\n",
    "    \"\"\"\n",
    "    return sum(\n",
    "        coeff * (x_value ** exp)\n",
    "        for exp, coeff in self.terms.items()\n",
    "    )"
   ]
  },
  {
   "cell_type": "code",
   "execution_count": 12,
   "id": "a58d6f7a-59f0-4db2-aa99-f4b047406ed9",
   "metadata": {},
   "outputs": [],
   "source": [
    "def enter_poly(desc = ''):\n",
    "    \"\"\"\n",
    "    Allow users to retrieve a polynomial saved in history or enter a new one\n",
    "    \"\"\"\n",
    "    print(f'Please enter the terms of {desc} (\\'q\\' to quit):')\n",
    "    if not history.isEmpty():\n",
    "        print(f'Use previous polynomial {history.peek()}')\n",
    "        ans = input('(Y|y = Yes, everything else = No)? ')\n",
    "        if ans in ('Y', 'y'):\n",
    "            return history.pop()\n",
    "    terms = {}\n",
    "    while True: # enter one term (degree + coefficient) at a time\n",
    "        try:\n",
    "            degree = input('  degree: ')\n",
    "            if degree == 'q':\n",
    "                if not terms:\n",
    "                    print('Enter at least one term.')\n",
    "                    continue\n",
    "                else:\n",
    "                    break\n",
    "            degree = int(degree)\n",
    "            assert degree >= 0\n",
    "        except (AssertionError, ValueError):\n",
    "            print(f'Please enter a positive integer or 0')\n",
    "            continue\n",
    "        while True:\n",
    "            try:\n",
    "                coeff = float(input('  coefficient: '))\n",
    "            except ValueError:\n",
    "                print(f'Please enter a valid number')\n",
    "                continue\n",
    "            break\n",
    "        terms[degree] = terms.get(degree, 0) + coeff\n",
    "    poly = Polynomial(terms)\n",
    "    history.push(poly)\n",
    "    return poly"
   ]
  },
  {
   "cell_type": "code",
   "execution_count": 13,
   "id": "fd354d2d-4967-4b95-9b07-dc1a463e85e5",
   "metadata": {},
   "outputs": [],
   "source": [
    "bold_start = \"\\033[1m\"\n",
    "red_start = \"\\033[31m\"\n",
    "blue_start = \"\\033[34m\"\n",
    "reset_code = \"\\033[0m\"\n",
    "num_underscores = 50\n",
    "sym_underscores = '_'"
   ]
  },
  {
   "cell_type": "code",
   "execution_count": 14,
   "id": "7a0d0d86-56cd-4e0d-acb7-4c7f12e1818d",
   "metadata": {},
   "outputs": [],
   "source": [
    "def add_wrapper(p1, p2):\n",
    "    \"\"\"\n",
    "    Wrapper fuction for addtion\n",
    "    \"\"\"\n",
    "    psum = p1 + p2\n",
    "    history.push(psum)\n",
    "    print(f'({p1})')\n",
    "    print(f'+')\n",
    "    print(f'({p2})')\n",
    "    print(f'=')\n",
    "    print(f'{red_start}{psum}{reset_code}')\n",
    "\n",
    "def sub_wrapper(p1, p2):\n",
    "    \"\"\"\n",
    "    Wrapper fuction for subtraction\n",
    "    \"\"\"\n",
    "    delta = p1 - p2\n",
    "    history.push(delta)\n",
    "    print(f'({p1})')\n",
    "    print(f'-')\n",
    "    print(f'({p2})')\n",
    "    print(f'=')\n",
    "    print(f'{red_start}{delta}{reset_code}')\n",
    "\n",
    "def mul_wrapper(p1, p2):\n",
    "    \"\"\"\n",
    "    Wrapper fuction for multiplication\n",
    "    \"\"\"\n",
    "    prod = p1 * p2\n",
    "    history.push(prod)\n",
    "    print(f'({p1})')\n",
    "    print(f'*')\n",
    "    print(f'({p2})')\n",
    "    print(f'=')\n",
    "    print(f'{red_start}{prod}{reset_code}')\n",
    "\n",
    "def div_wrapper(p1, p2):\n",
    "    \"\"\"\n",
    "    Wrapper fuction for division\n",
    "    \"\"\"\n",
    "    if str(p2) == '0':\n",
    "        print('Error: Divided by 0')\n",
    "        return\n",
    "    quotient, remainder = p1 / p2\n",
    "    history.push(quotient)\n",
    "    history.push(remainder)\n",
    "    print(f'({p1})')\n",
    "    print(f'/')\n",
    "    print(f'({p2})')\n",
    "    print(f'=')\n",
    "    print(f'{blue_start}quotient{reset_code} {red_start}{quotient}{reset_code}')\n",
    "    print(f'{blue_start}remainder{reset_code} {red_start}{remainder}{reset_code}')"
   ]
  },
  {
   "cell_type": "code",
   "execution_count": 15,
   "id": "7a91a5c6-409a-4858-b73e-44cc701eff0c",
   "metadata": {},
   "outputs": [],
   "source": [
    "def invalid_op(*_):\n",
    "    print('Please enter a valid choice')"
   ]
  },
  {
   "cell_type": "code",
   "execution_count": 16,
   "id": "d4c23a6c-2f2f-4961-8d3f-8622f4f6df02",
   "metadata": {},
   "outputs": [],
   "source": [
    "def perform_arithmetic_ops():\n",
    "    arithmetic_menu = {'1': ('Addition', add_wrapper),\n",
    "            '2': ('Subtraction', sub_wrapper),\n",
    "            '3': ('Multiplication', mul_wrapper),\n",
    "            '4': ('Division', div_wrapper),\n",
    "            'q': ('Quit', None)\n",
    "           }\n",
    "    ordinals = {0: '1st', 1: '2nd'}\n",
    "    polys = [None] * len(ordinals)\n",
    "    for i in range(len(ordinals)):\n",
    "        polys[i] = enter_poly('the ' + ordinals[i] + ' polynomial')\n",
    "        print(f'{ordinals[i]} polinomial: {polys[i]}')\n",
    "    print('\\n', end='')\n",
    "    while True:\n",
    "        for k, v in arithmetic_menu.items():\n",
    "            print(f'{k}: {v[0]}')\n",
    "        op = input('Please select an operation: ')\n",
    "        print('\\n', end='')        \n",
    "        if op == 'q':\n",
    "            break\n",
    "        arithmetic_menu.get(op, (None, invalid_op))[1](polys[0], polys[1])\n",
    "        print(f'{sym_underscores}'*num_underscores)\n",
    "        print('\\n', end='')"
   ]
  },
  {
   "cell_type": "code",
   "execution_count": 17,
   "id": "6c8cce2f-a98b-45f6-92cc-e64ceac4708c",
   "metadata": {},
   "outputs": [],
   "source": [
    "def perform_evaluation():\n",
    "    Max_Num_Inputs = 5\n",
    "    inputs = Queue(Max_Num_Inputs)\n",
    "    done = False\n",
    "    while not done:\n",
    "        poly = enter_poly('f(x)')\n",
    "        print(f'f(x) = {poly}')\n",
    "        print('\\n', end='')\n",
    "        print(f'Please enter up to {Max_Num_Inputs} x values to be evaluated at (\\'q\\' to quit):')\n",
    "        while True:\n",
    "            try:\n",
    "                x = input('x =')\n",
    "                if x == 'q':\n",
    "                    break\n",
    "                inputs.enque(float(x))\n",
    "                if inputs.isFull():\n",
    "                    done = True\n",
    "                    break\n",
    "            except ValueError:\n",
    "                print(f'Please enter a valid number or \\'q\\' to quit')\n",
    "                continue\n",
    "        print('\\n', end='')\n",
    "        print(f'{bold_start}f(x) = {poly}{reset_code}')\n",
    "        print(f'{sym_underscores}'*num_underscores)\n",
    "        print('\\n', end='')\n",
    "        while True:\n",
    "            x = inputs.deque()\n",
    "            if x == None:\n",
    "                break\n",
    "            poly_eval = poly.evaluate(x)\n",
    "            print(f'{red_start}f({x:g}) = {poly_eval:g}{reset_code}')\n",
    "            print(f'{sym_underscores}'*num_underscores)\n",
    "            print('\\n', end='')\n",
    "        ans = input('Try again (Y|y = Yes, everything else = No)? ')\n",
    "        if ans not in ('Y', 'y'):\n",
    "            break"
   ]
  },
  {
   "cell_type": "code",
   "execution_count": 18,
   "id": "d0ea711e-2bce-4c83-839e-6437515ceefb",
   "metadata": {},
   "outputs": [],
   "source": [
    "def menu():\n",
    "    print(f'{bold_start}Polynomial Exercises{reset_code}')\n",
    "    main_menu = {'1': ('Arithmetic Operations', perform_arithmetic_ops),\n",
    "                 '2': ('Evaluation', perform_evaluation),\n",
    "                 'q': ('Quit', None)\n",
    "                }\n",
    "    while True:\n",
    "        for k, v in main_menu.items():\n",
    "            print(f'{k}: {v[0]}')\n",
    "        op = input(f'Please select an option: ')\n",
    "        print('\\n', end='')\n",
    "        if op == 'q':\n",
    "            break\n",
    "        main_menu.get(op, (None, invalid_op))[1]()\n",
    "        print('\\n', end='')"
   ]
  },
  {
   "cell_type": "code",
   "execution_count": null,
   "id": "c3a2f2d4-e896-417c-87c1-6537cba46666",
   "metadata": {},
   "outputs": [
    {
     "name": "stdout",
     "output_type": "stream",
     "text": [
      "\u001b[1mPolynomial Exercises\u001b[0m\n",
      "1: Arithmetic Operations\n",
      "2: Evaluation\n",
      "q: Quit\n"
     ]
    },
    {
     "name": "stdin",
     "output_type": "stream",
     "text": [
      "Please select an option:  1\n"
     ]
    },
    {
     "name": "stdout",
     "output_type": "stream",
     "text": [
      "\n",
      "Please enter the terms of the 1st polynomial ('q' to quit):\n"
     ]
    },
    {
     "name": "stdin",
     "output_type": "stream",
     "text": [
      "  degree:  0\n",
      "  coefficient:  0\n",
      "  degree:  q\n"
     ]
    },
    {
     "name": "stdout",
     "output_type": "stream",
     "text": [
      "1st polinomial: 0\n",
      "Please enter the terms of the 2nd polynomial ('q' to quit):\n",
      "Use previous polynomial 0\n"
     ]
    },
    {
     "name": "stdin",
     "output_type": "stream",
     "text": [
      "(Y|y = Yes, everything else = No)?  4\n",
      "  degree:  1\n",
      "  coefficient:  8\n",
      "  degree:  \n"
     ]
    },
    {
     "name": "stdout",
     "output_type": "stream",
     "text": [
      "Please enter a positive integer or 0\n"
     ]
    },
    {
     "name": "stdin",
     "output_type": "stream",
     "text": [
      "  degree:  3\n",
      "  coefficient:  -.4\n",
      "  degree:  0\n",
      "  coefficient:  44\n",
      "  degree:  q\n"
     ]
    },
    {
     "name": "stdout",
     "output_type": "stream",
     "text": [
      "2nd polinomial: - 0.4x^3 + 8x + 44\n",
      "\n",
      "1: Addition\n",
      "2: Subtraction\n",
      "3: Multiplication\n",
      "4: Division\n",
      "q: Quit\n"
     ]
    },
    {
     "name": "stdin",
     "output_type": "stream",
     "text": [
      "Please select an operation:  1\n"
     ]
    },
    {
     "name": "stdout",
     "output_type": "stream",
     "text": [
      "\n",
      "(0)\n",
      "+\n",
      "(- 0.4x^3 + 8x + 44)\n",
      "=\n",
      "\u001b[31m- 0.4x^3 + 8x + 44\u001b[0m\n",
      "__________________________________________________\n",
      "\n",
      "1: Addition\n",
      "2: Subtraction\n",
      "3: Multiplication\n",
      "4: Division\n",
      "q: Quit\n"
     ]
    }
   ],
   "source": [
    "max_history = 10\n",
    "history = Stack(max_history)\n",
    "menu()"
   ]
  }
 ],
 "metadata": {
  "kernelspec": {
   "display_name": "Python 3 (ipykernel)",
   "language": "python",
   "name": "python3"
  },
  "language_info": {
   "codemirror_mode": {
    "name": "ipython",
    "version": 3
   },
   "file_extension": ".py",
   "mimetype": "text/x-python",
   "name": "python",
   "nbconvert_exporter": "python",
   "pygments_lexer": "ipython3",
   "version": "3.12.3"
  }
 },
 "nbformat": 4,
 "nbformat_minor": 5
}
